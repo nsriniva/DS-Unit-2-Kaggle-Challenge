{
  "nbformat": 4,
  "nbformat_minor": 0,
  "metadata": {
    "kernelspec": {
      "display_name": "Python 3",
      "language": "python",
      "name": "python3"
    },
    "language_info": {
      "codemirror_mode": {
        "name": "ipython",
        "version": 3
      },
      "file_extension": ".py",
      "mimetype": "text/x-python",
      "name": "python",
      "nbconvert_exporter": "python",
      "pygments_lexer": "ipython3",
      "version": "3.7.4"
    },
    "colab": {
      "name": "Unit 2 - Sprint 2 - Module 3 - LESSON.ipynb",
      "provenance": [],
      "collapsed_sections": [],
      "include_colab_link": true
    }
  },
  "cells": [
    {
      "cell_type": "markdown",
      "metadata": {
        "id": "view-in-github",
        "colab_type": "text"
      },
      "source": [
        "<a href=\"https://colab.research.google.com/github/nsriniva/DS-Unit-2-Kaggle-Challenge/blob/master/module3-cross-validation/Unit_2_Sprint_2_Module_3_LESSON.ipynb\" target=\"_parent\"><img src=\"https://colab.research.google.com/assets/colab-badge.svg\" alt=\"Open In Colab\"/></a>"
      ]
    },
    {
      "cell_type": "markdown",
      "metadata": {
        "id": "YHLmpo9WcHYc"
      },
      "source": [
        "Lambda School Data Science\n",
        "\n",
        "*Unit 2, Sprint 2, Module 3*\n",
        "\n",
        "---"
      ]
    },
    {
      "cell_type": "markdown",
      "metadata": {
        "id": "O67uhlT4MExK"
      },
      "source": [
        "# Cross-Validation\n",
        "\n",
        "- Do **cross-validation** with independent test set\n",
        "- Use scikit-learn for **hyperparameter optimization**"
      ]
    },
    {
      "cell_type": "markdown",
      "metadata": {
        "id": "59EsvYLdDHAB"
      },
      "source": [
        "### Setup\n",
        "\n",
        "Run the code cell below. You can work locally (follow the [local setup instructions](https://lambdaschool.github.io/ds/unit2/local/)) or on Colab.\n",
        "\n",
        "Libraries\n",
        "\n",
        "- **category_encoders**\n",
        "- matplotlib\n",
        "- numpy\n",
        "- pandas\n",
        "- **pandas-profiling**\n",
        "- scikit-learn\n",
        "- scipy.stats"
      ]
    },
    {
      "cell_type": "code",
      "metadata": {
        "id": "hwbmmgaWDNid"
      },
      "source": [
        "%%capture\n",
        "import sys\n",
        "\n",
        "# If you're on Colab:\n",
        "if 'google.colab' in sys.modules:\n",
        "    DATA_PATH = 'https://raw.githubusercontent.com/LambdaSchool/DS-Unit-2-Kaggle-Challenge/master/data/'\n",
        "    !pip install category_encoders==2.*\n",
        "    !pip install pandas-profiling==2.*\n",
        "\n",
        "# If you're working locally:\n",
        "else:\n",
        "    DATA_PATH = '../data/'"
      ],
      "execution_count": null,
      "outputs": []
    },
    {
      "cell_type": "code",
      "metadata": {
        "id": "qvJYugAWcHYi"
      },
      "source": [
        ""
      ],
      "execution_count": null,
      "outputs": []
    },
    {
      "cell_type": "markdown",
      "metadata": {
        "id": "hs5L8mEEcHYm"
      },
      "source": [
        "# Do cross-validation with independent test set"
      ]
    },
    {
      "cell_type": "markdown",
      "metadata": {
        "id": "apt5_A13cHYn"
      },
      "source": [
        "## Overview"
      ]
    },
    {
      "cell_type": "markdown",
      "metadata": {
        "id": "fQN01EERcHYn"
      },
      "source": [
        "### Predict rent in NYC 🏠\n",
        "\n",
        "We're going back to one of our New York City real estate datasets. "
      ]
    },
    {
      "cell_type": "code",
      "metadata": {
        "id": "SV266s2PcHYo"
      },
      "source": [
        "import numpy as np\n",
        "import pandas as pd\n",
        "\n",
        "# Read New York City apartment rental listing data\n",
        "df = pd.read_csv(DATA_PATH+'apartments/renthop-nyc.csv')\n",
        "assert df.shape == (49352, 34)\n",
        "\n",
        "# Remove the most extreme 1% prices,\n",
        "# the most extreme .1% latitudes, &\n",
        "# the most extreme .1% longitudes\n",
        "df = df[(df['price'] >= np.percentile(df['price'], 0.5)) & \n",
        "        (df['price'] <= np.percentile(df['price'], 99.5)) & \n",
        "        (df['latitude'] >= np.percentile(df['latitude'], 0.05)) & \n",
        "        (df['latitude'] < np.percentile(df['latitude'], 99.95)) &\n",
        "        (df['longitude'] >= np.percentile(df['longitude'], 0.05)) & \n",
        "        (df['longitude'] <= np.percentile(df['longitude'], 99.95))]\n",
        "\n",
        "# Do train/test split\n",
        "# Use data from April & May 2016 to train\n",
        "# Use data from June 2016 to test\n",
        "df['created'] = pd.to_datetime(df['created'], infer_datetime_format=True)\n",
        "cutoff = pd.to_datetime('2016-06-01')\n",
        "train = df[df.created < cutoff]\n",
        "test  = df[df.created >= cutoff]\n",
        "\n",
        "# Wrangle train & test sets in the same way\n",
        "def engineer_features(df):\n",
        "    \n",
        "    # Avoid SettingWithCopyWarning\n",
        "    df = df.copy()\n",
        "        \n",
        "    # Does the apartment have a description?\n",
        "    df['description'] = df['description'].str.strip().fillna('')\n",
        "    df['has_description'] = df['description'] != ''\n",
        "\n",
        "    # How long is the description?\n",
        "    df['description_length'] = df['description'].str.len()\n",
        "\n",
        "    # How many total perks does each apartment have?\n",
        "    perk_cols = ['elevator', 'cats_allowed', 'hardwood_floors', 'dogs_allowed',\n",
        "                 'doorman', 'dishwasher', 'no_fee', 'laundry_in_building',\n",
        "                 'fitness_center', 'pre-war', 'laundry_in_unit', 'roof_deck',\n",
        "                 'outdoor_space', 'dining_room', 'high_speed_internet', 'balcony',\n",
        "                 'swimming_pool', 'new_construction', 'exclusive', 'terrace', \n",
        "                 'loft', 'garden_patio', 'common_outdoor_space', \n",
        "                 'wheelchair_access']\n",
        "    df['perk_count'] = df[perk_cols].sum(axis=1)\n",
        "\n",
        "    # Are cats or dogs allowed?\n",
        "    df['cats_or_dogs'] = (df['cats_allowed']==1) | (df['dogs_allowed']==1)\n",
        "\n",
        "    # Are cats and dogs allowed?\n",
        "    df['cats_and_dogs'] = (df['cats_allowed']==1) & (df['dogs_allowed']==1)\n",
        "\n",
        "    # Total number of rooms (beds + baths)\n",
        "    df['rooms'] = df['bedrooms'] + df['bathrooms']\n",
        "    \n",
        "    # Extract number of days elapsed in year, and drop original date feature\n",
        "    df['days'] = (df['created'] - pd.to_datetime('2016-01-01')).dt.days\n",
        "    df = df.drop(columns='created')\n",
        "\n",
        "    return df\n",
        "\n",
        "train = engineer_features(train)\n",
        "test = engineer_features(test)"
      ],
      "execution_count": null,
      "outputs": []
    },
    {
      "cell_type": "code",
      "metadata": {
        "id": "RZkrtLuYcHYq"
      },
      "source": [
        "# Check Pandas Profiling version\n",
        "# import pandas_profiling\n",
        "# pandas_profiling.__version__"
      ],
      "execution_count": null,
      "outputs": []
    },
    {
      "cell_type": "code",
      "metadata": {
        "scrolled": false,
        "id": "5B6Q9z_ccHYt"
      },
      "source": [
        "# Old code for Pandas Profiling version 2.3\n",
        "\n",
        "# profile = train.profile_report(\n",
        "#     check_correlation_pearson=False,\n",
        "#     correlations={\n",
        "#         'pearson': False,\n",
        "#         'spearman': False,\n",
        "#         'kendall': False,\n",
        "#         'phi_k': False,\n",
        "#         'cramers': False,\n",
        "#         'recoded': False,\n",
        "#     },\n",
        "#     plot={'histogram': {'bayesian_blocks_bins': False}},\n",
        "# )\n",
        "#\n",
        "\n",
        "\n",
        "# # New code for Pandas Profiling version 2.4\n",
        "# from pandas_profiling import ProfileReport\n",
        "# profile = ProfileReport(train, minimal=True).to_notebook_iframe()\n",
        "\n",
        "# profile"
      ],
      "execution_count": null,
      "outputs": []
    },
    {
      "cell_type": "markdown",
      "metadata": {
        "id": "95822EbAcHYv"
      },
      "source": [
        "### Validation options"
      ]
    },
    {
      "cell_type": "markdown",
      "metadata": {
        "id": "Hr-Dt67Gv2cB"
      },
      "source": [
        "Let's take another look at [Sebastian Raschka's diagram of model evaluation methods.](https://sebastianraschka.com/blog/2018/model-evaluation-selection-part4.html) So far we've been using \"**train/validation/test split**\", but we have more options. \n",
        "\n",
        "Today we'll learn about \"k-fold **cross-validation** with independent test set\", for \"model selection (**hyperparameter optimization**) and performance estimation.\"\n",
        "\n",
        "<img src=\"https://sebastianraschka.com/images/blog/2018/model-evaluation-selection-part4/model-eval-conclusions.jpg\" width=\"600\">\n",
        "\n",
        "<sup>Source: https://sebastianraschka.com/blog/2018/model-evaluation-selection-part4.html</sup>\n",
        "\n"
      ]
    },
    {
      "cell_type": "markdown",
      "metadata": {
        "id": "XY7mf5G9cHYx"
      },
      "source": [
        "### Cross-validation: What & Why?"
      ]
    },
    {
      "cell_type": "markdown",
      "metadata": {
        "id": "ozuzFo_Pv2cB"
      },
      "source": [
        "The Scikit-Learn docs show a diagram of how k-fold cross-validation works, and explain the pros & cons of cross-validation versus train/validate/test split.\n",
        "\n",
        "#### [Scikit-Learn User Guide, 3.1 Cross-validation](https://scikit-learn.org/stable/modules/cross_validation.html)\n",
        "\n",
        "> When evaluating different settings (“hyperparameters”) for estimators, there is still a risk of overfitting on the test set because the parameters can be tweaked until the estimator performs optimally. This way, knowledge about the test set can “leak” into the model and evaluation metrics no longer report on generalization performance. To solve this problem, yet another part of the dataset can be held out as a so-called “validation set”: training proceeds on the training set, after which evaluation is done on the validation set, and when the experiment seems to be successful, final evaluation can be done on the test set.\n",
        ">\n",
        "> However, **by partitioning the available data into three sets, we drastically reduce the number of samples which can be used for learning the model, and the results can depend on a particular random choice for the pair of (train, validation) sets.**\n",
        ">\n",
        "> **A solution to this problem is a procedure called cross-validation (CV for short). A test set should still be held out for final evaluation, but the validation set is no longer needed when doing CV.** \n",
        "\n",
        "<img src=\"https://scikit-learn.org/stable/_images/grid_search_cross_validation.png\" width=\"600\">\n",
        "\n",
        "> In the basic approach, called k-fold CV, the training set is split into k smaller sets. The following procedure is followed for each of the k “folds”:\n",
        ">\n",
        "> - A model is trained using $k-1$ of the folds as training data;\n",
        "> - the resulting model is validated on the remaining part of the data (i.e., it is used as a test set to compute a performance measure such as accuracy).\n",
        ">\n",
        "> The performance measure reported by k-fold cross-validation is then the average of the values computed in the loop. **This approach can be computationally expensive, but does not waste too much data (as is the case when fixing an arbitrary validation set).**"
      ]
    },
    {
      "cell_type": "markdown",
      "metadata": {
        "id": "_mjpF64lcHYx"
      },
      "source": [
        "## Follow Along"
      ]
    },
    {
      "cell_type": "markdown",
      "metadata": {
        "id": "o10EvckQv2cC"
      },
      "source": [
        "### cross_val_score\n",
        "\n",
        "How do we get started? According to the [Scikit-Learn User Guide](https://scikit-learn.org/stable/modules/cross_validation.html#computing-cross-validated-metrics), \n",
        "\n",
        "> The simplest way to use cross-validation is to call the [**`cross_val_score`**](https://scikit-learn.org/stable/modules/generated/sklearn.model_selection.cross_val_score.html) helper function\n",
        "\n",
        "But, there's a quirk: For scikit-learn's cross-validation [**scoring**](https://scikit-learn.org/stable/modules/model_evaluation.html#scoring-parameter), higher is better. But for regression error metrics, lower is better. So scikit-learn multiplies regression error metrics by -1 to make them negative. That's why the value of the `scoring` parameter is `'neg_mean_absolute_error'`.\n",
        "\n",
        "So, k-fold cross-validation with this dataset looks like this:"
      ]
    },
    {
      "cell_type": "markdown",
      "metadata": {
        "id": "DeoNM4uycHYy"
      },
      "source": [
        "### Linear Model"
      ]
    },
    {
      "cell_type": "code",
      "metadata": {
        "id": "2fXKjCLIcHYz",
        "outputId": "8d311457-0d86-43c1-dd13-2b7458742c21",
        "colab": {
          "base_uri": "https://localhost:8080/",
          "height": 34
        }
      },
      "source": [
        "import category_encoders as ce\n",
        "import numpy as np\n",
        "from sklearn.feature_selection import f_regression, SelectKBest\n",
        "from sklearn.impute import SimpleImputer\n",
        "from sklearn.linear_model import Ridge\n",
        "from sklearn.model_selection import cross_val_score\n",
        "from sklearn.pipeline import make_pipeline\n",
        "from sklearn.preprocessing import StandardScaler\n",
        "\n",
        "target = 'price'\n",
        "high_cardinality = ['display_address', 'street_address', 'description']\n",
        "features = train.columns.drop([target] + high_cardinality)\n",
        "X_train = train[features]\n",
        "y_train = train[target]\n",
        "\n",
        "pipeline = make_pipeline(\n",
        "    ce.OneHotEncoder(use_cat_names=True), \n",
        "    SimpleImputer(strategy='mean'), \n",
        "    StandardScaler(), \n",
        "    SelectKBest(f_regression, k=20), \n",
        "    Ridge(alpha=1.0)\n",
        ")\n",
        "\n",
        "k = 3\n",
        "scores = cross_val_score(pipeline, X_train, y_train, cv=k, \n",
        "                         scoring='neg_mean_absolute_error')\n",
        "print(f'MAE for {k} folds:', -scores)"
      ],
      "execution_count": null,
      "outputs": [
        {
          "output_type": "stream",
          "text": [
            "MAE for 3 folds: [688.76802481 669.12666062 679.61427975]\n"
          ],
          "name": "stdout"
        }
      ]
    },
    {
      "cell_type": "code",
      "metadata": {
        "scrolled": true,
        "id": "Me9C3GmxcHY1",
        "outputId": "c37cdcd8-e5af-4063-a8d5-d30aa63fa7b4",
        "colab": {
          "base_uri": "https://localhost:8080/",
          "height": 34
        }
      },
      "source": [
        "-scores.mean()"
      ],
      "execution_count": null,
      "outputs": [
        {
          "output_type": "execute_result",
          "data": {
            "text/plain": [
              "679.1696550623268"
            ]
          },
          "metadata": {
            "tags": []
          },
          "execution_count": 8
        }
      ]
    },
    {
      "cell_type": "code",
      "metadata": {
        "id": "LVWiBeU1xaV0",
        "outputId": "58d98468-a8af-4bd7-8e33-d5ef2a9c9476",
        "colab": {
          "base_uri": "https://localhost:8080/",
          "height": 34
        }
      },
      "source": [
        "import numpy as np\n",
        "np.std(-scores)"
      ],
      "execution_count": null,
      "outputs": [
        {
          "output_type": "execute_result",
          "data": {
            "text/plain": [
              "6.874347476267516"
            ]
          },
          "metadata": {
            "tags": []
          },
          "execution_count": 25
        }
      ]
    },
    {
      "cell_type": "markdown",
      "metadata": {
        "id": "yqUqQT8HcHY3"
      },
      "source": [
        "### Random Forest"
      ]
    },
    {
      "cell_type": "code",
      "metadata": {
        "id": "6lHm17r7cHY3",
        "outputId": "ce956bc6-a755-4010-85c3-2b7ce2039b02",
        "colab": {
          "base_uri": "https://localhost:8080/",
          "height": 34
        }
      },
      "source": [
        "from sklearn.ensemble import RandomForestRegressor\n",
        "\n",
        "features = train.columns.drop(target)\n",
        "X_train = train[features]\n",
        "y_train = train[target]\n",
        "\n",
        "pipeline = make_pipeline(\n",
        "    ce.TargetEncoder(min_samples_leaf=1, smoothing=1), \n",
        "    SimpleImputer(strategy='median'), \n",
        "    RandomForestRegressor(n_estimators=100, n_jobs=-1, random_state=42)\n",
        ")\n",
        "\n",
        "k = 3\n",
        "scores = cross_val_score(pipeline, X_train, y_train, cv=k, \n",
        "                         scoring='neg_mean_absolute_error')\n",
        "print(f'MAE for {k} folds:', -scores)"
      ],
      "execution_count": null,
      "outputs": [
        {
          "output_type": "stream",
          "text": [
            "MAE for 3 folds: [392.28996182 404.92923235 388.97416404]\n"
          ],
          "name": "stdout"
        }
      ]
    },
    {
      "cell_type": "code",
      "metadata": {
        "id": "H7YdnRcmcHY6",
        "outputId": "18e4f2ea-af68-43fc-e97b-5bad27a56619",
        "colab": {
          "base_uri": "https://localhost:8080/",
          "height": 34
        }
      },
      "source": [
        "-scores.mean()"
      ],
      "execution_count": null,
      "outputs": [
        {
          "output_type": "execute_result",
          "data": {
            "text/plain": [
              "395.3977860725861"
            ]
          },
          "metadata": {
            "tags": []
          },
          "execution_count": 10
        }
      ]
    },
    {
      "cell_type": "markdown",
      "metadata": {
        "id": "7dq-PfpGZSHJ"
      },
      "source": [
        "But the Random Forest has many hyperparameters. We mostly used the defaults, and arbitrarily chose `n_estimators`. Is it too high? Too low? Just right? How do we know?"
      ]
    },
    {
      "cell_type": "code",
      "metadata": {
        "id": "YCubg7EbjZyT",
        "outputId": "4787b25e-87c3-482b-aa67-5dae8eb90368",
        "colab": {
          "base_uri": "https://localhost:8080/",
          "height": 153
        }
      },
      "source": [
        "print('Model Hyperparameters:')\n",
        "print(pipeline.named_steps['randomforestregressor'])"
      ],
      "execution_count": null,
      "outputs": [
        {
          "output_type": "stream",
          "text": [
            "Model Hyperparameters:\n",
            "RandomForestRegressor(bootstrap=True, ccp_alpha=0.0, criterion='mse',\n",
            "                      max_depth=None, max_features='auto', max_leaf_nodes=None,\n",
            "                      max_samples=None, min_impurity_decrease=0.0,\n",
            "                      min_impurity_split=None, min_samples_leaf=1,\n",
            "                      min_samples_split=2, min_weight_fraction_leaf=0.0,\n",
            "                      n_estimators=100, n_jobs=-1, oob_score=False,\n",
            "                      random_state=42, verbose=0, warm_start=False)\n"
          ],
          "name": "stdout"
        }
      ]
    },
    {
      "cell_type": "markdown",
      "metadata": {
        "id": "dpeaYB3TcHY_"
      },
      "source": [
        "## Challenge\n",
        "\n",
        "You will continue to participate in our Kaggle challenge. Use cross-validation and submit new predictions."
      ]
    },
    {
      "cell_type": "markdown",
      "metadata": {
        "id": "CuKRPJ6JcHY_"
      },
      "source": [
        "# Use scikit-learn for hyperparameter optimization"
      ]
    },
    {
      "cell_type": "markdown",
      "metadata": {
        "id": "oK3vRczrcHZA"
      },
      "source": [
        "## Overview"
      ]
    },
    {
      "cell_type": "markdown",
      "metadata": {
        "id": "bk6o8W7Cv2cE"
      },
      "source": [
        "\"The universal tension in machine learning is between optimization and generalization; the ideal model is one that stands right at the border between underfitting and overfitting; between undercapacity and overcapacity. To figure out where this border lies, first you must cross it.\" —[Francois Chollet](https://books.google.com/books?id=dadfDwAAQBAJ&pg=PA114)"
      ]
    },
    {
      "cell_type": "markdown",
      "metadata": {
        "id": "p8uKvR_pv2cG"
      },
      "source": [
        "### Validation Curve\n",
        "\n",
        "Let's try different parameter values, and visualize \"the border between underfitting and overfitting.\" \n",
        "\n",
        "Using scikit-learn, we can make [validation curves](https://scikit-learn.org/stable/modules/generated/sklearn.model_selection.validation_curve.html), \"to determine training and test scores for varying parameter values. This is similar to grid search with one parameter.\""
      ]
    },
    {
      "cell_type": "markdown",
      "metadata": {
        "id": "hEIxeNXdv2cF"
      },
      "source": [
        "<img src=\"https://jakevdp.github.io/PythonDataScienceHandbook/figures/05.03-validation-curve.png\">\n",
        "\n",
        "<sup>Source: https://jakevdp.github.io/PythonDataScienceHandbook/05.03-hyperparameters-and-model-validation.html#Validation-curves-in-Scikit-Learn</sup>"
      ]
    },
    {
      "cell_type": "markdown",
      "metadata": {
        "id": "r3bbgaP2c3Pr"
      },
      "source": [
        "Validation curves are awesome for learning about overfitting and underfitting. (But less useful in real-world projects, because we usually want to vary more than one parameter.)\n",
        "\n",
        "For this example, let's see what happens when we vary the depth of a decision tree. (This will be faster than varying the number of estimators in a random forest.)"
      ]
    },
    {
      "cell_type": "code",
      "metadata": {
        "id": "znIz2FPQv2cG",
        "outputId": "11d35f8e-8046-410f-8f58-4e1f8f54767a",
        "colab": {
          "base_uri": "https://localhost:8080/",
          "height": 595
        }
      },
      "source": [
        "%matplotlib inline\n",
        "import matplotlib.pyplot as plt\n",
        "from sklearn.model_selection import validation_curve\n",
        "from sklearn.tree import DecisionTreeRegressor\n",
        "\n",
        "pipeline = make_pipeline(\n",
        "    ce.OrdinalEncoder(), \n",
        "    SimpleImputer(), \n",
        "    DecisionTreeRegressor()\n",
        ")\n",
        "\n",
        "depth = range(1, 30, 3)\n",
        "train_scores, val_scores = validation_curve(\n",
        "    pipeline, X_train, y_train,\n",
        "    param_name='decisiontreeregressor__max_depth', \n",
        "    param_range=depth, scoring='neg_mean_absolute_error', \n",
        "    cv=3,\n",
        "    n_jobs=-1\n",
        ")\n",
        "\n",
        "plt.figure(dpi=150)\n",
        "plt.plot(depth, np.mean(-train_scores, axis=1), color='blue', label='training error')\n",
        "plt.plot(depth, np.mean(-val_scores, axis=1), color='red', label='validation error')\n",
        "plt.title('Validation Curve')\n",
        "plt.xlabel('model complexity: DecisionTreeRegressor max_depth')\n",
        "plt.ylabel('model score: Mean Absolute Error')\n",
        "plt.legend();"
      ],
      "execution_count": null,
      "outputs": [
        {
          "output_type": "display_data",
          "data": {
            "image/png": "[encoded data removed]",
            "text/plain": [
              "<Figure size 900x600 with 1 Axes>"
            ]
          },
          "metadata": {
            "tags": [],
            "needs_background": "light"
          }
        }
      ]
    },
    {
      "cell_type": "code",
      "metadata": {
        "id": "2WIWLEF4cHZD",
        "outputId": "c96f4baa-d34a-4c84-ee7b-1f72ce184675",
        "colab": {
          "base_uri": "https://localhost:8080/",
          "height": 595
        }
      },
      "source": [
        "plt.figure(dpi=150)\n",
        "plt.plot(depth, np.mean(-train_scores, axis=1), color='blue', label='training error')\n",
        "plt.plot(depth, np.mean(-val_scores, axis=1), color='red', label='validation error')\n",
        "plt.title('Validation Curve, Zoomed In')\n",
        "plt.xlabel('model complexity: DecisionTreeRegressor max_depth')\n",
        "plt.ylabel('model score: Mean Absolute Error')\n",
        "plt.ylim((500, 700))  # Zoom in\n",
        "plt.legend();"
      ],
      "execution_count": null,
      "outputs": [
        {
          "output_type": "display_data",
          "data": {
            "image/png": "[encoded data removed]",
            "text/plain": [
              "<Figure size 900x600 with 1 Axes>"
            ]
          },
          "metadata": {
            "tags": [],
            "needs_background": "light"
          }
        }
      ]
    },
    {
      "cell_type": "markdown",
      "metadata": {
        "id": "d1q3r2BqcHZF"
      },
      "source": [
        "## Follow Along"
      ]
    },
    {
      "cell_type": "markdown",
      "metadata": {
        "id": "JUaLgk8Pv2cJ"
      },
      "source": [
        "To vary multiple hyperparameters and find their optimal values, let's try **Randomized Search CV.**"
      ]
    },
    {
      "cell_type": "markdown",
      "metadata": {
        "id": "AexbC7fjv2cL"
      },
      "source": [
        "#### [Scikit-Learn User Guide, 3.2 Tuning the hyper-parameters of an estimator](https://scikit-learn.org/stable/modules/grid_search.html)\n",
        "\n",
        "> Hyper-parameters are parameters that are not directly learnt within estimators. In scikit-learn they are passed as arguments to the constructor of the estimator classes. \n",
        ">\n",
        "> It is possible and recommended to search the hyper-parameter space for the best cross validation score.\n",
        ">\n",
        "> [`GridSearchCV`](https://scikit-learn.org/stable/modules/generated/sklearn.model_selection.GridSearchCV.html#sklearn.model_selection.GridSearchCV) exhaustively considers all parameter combinations, while [`RandomizedSearchCV`](https://scikit-learn.org/stable/modules/generated/sklearn.model_selection.RandomizedSearchCV.html) can sample a given number of candidates from a parameter space with a specified distribution. \n",
        ">\n",
        "> While using a grid of parameter settings is currently the most widely used method for parameter optimization, other search methods have more favourable properties. [`RandomizedSearchCV`](https://scikit-learn.org/stable/modules/generated/sklearn.model_selection.RandomizedSearchCV.html) implements a randomized search over parameters, where each setting is sampled from a distribution over possible parameter values.\n",
        ">\n",
        "> Specifying how parameters should be sampled is done using a dictionary. Additionally, a computation budget, being the number of sampled candidates or sampling iterations, is specified using the `n_iter` parameter. \n",
        ">\n",
        "> For each parameter, either a distribution over possible values or a list of discrete choices (which will be sampled uniformly) can be specified."
      ]
    },
    {
      "cell_type": "markdown",
      "metadata": {
        "id": "SXchBqyPcHZG"
      },
      "source": [
        "Here's a good blog post to explain more: [**A Comparison of Grid Search and Randomized Search Using Scikit Learn**](https://blog.usejournal.com/a-comparison-of-grid-search-and-randomized-search-using-scikit-learn-29823179bc85).\n",
        "\n",
        "<img src=\"https://miro.medium.com/max/2500/1*9W1MrRkHi0YFmBoHi9Y2Ow.png\" width=\"50%\">"
      ]
    },
    {
      "cell_type": "markdown",
      "metadata": {
        "id": "HamLFF0ecHZG"
      },
      "source": [
        "### Linear Model"
      ]
    },
    {
      "cell_type": "code",
      "metadata": {
        "id": "ZtZQbJQ5v2cM",
        "outputId": "bee0448a-9221-417a-bc0f-b6c777cb7cdc",
        "colab": {
          "base_uri": "https://localhost:8080/",
          "height": 561
        }
      },
      "source": [
        "from sklearn.model_selection import GridSearchCV, RandomizedSearchCV\n",
        "\n",
        "features = train.columns.drop([target] + high_cardinality)\n",
        "X_train = train[features]\n",
        "y_train = train[target]\n",
        "\n",
        "pipeline = make_pipeline(\n",
        "    ce.OneHotEncoder(use_cat_names=True), \n",
        "    SimpleImputer(), \n",
        "    StandardScaler(), \n",
        "    SelectKBest(f_regression), \n",
        "    Ridge()\n",
        ")\n",
        "\n",
        "param_distributions = {\n",
        "    'simpleimputer__strategy': ['mean', 'median'], \n",
        "    'selectkbest__k': range(1, len(X_train.columns)+1), \n",
        "    'ridge__alpha': [0.1, 1, 10], \n",
        "}\n",
        "\n",
        "# If you're on Colab, decrease n_iter & cv parameters\n",
        "search = RandomizedSearchCV(\n",
        "    pipeline, \n",
        "    param_distributions=param_distributions, \n",
        "    n_iter=100, \n",
        "    cv=5, \n",
        "    scoring='neg_mean_absolute_error', \n",
        "    verbose=10, \n",
        "    return_train_score=True, \n",
        "    n_jobs=-1\n",
        ")\n",
        "\n",
        "search.fit(X_train, y_train);"
      ],
      "execution_count": null,
      "outputs": [
        {
          "output_type": "stream",
          "text": [
            "Fitting 5 folds for each of 100 candidates, totalling 500 fits\n"
          ],
          "name": "stdout"
        },
        {
          "output_type": "stream",
          "text": [
            "[Parallel(n_jobs=-1)]: Using backend LokyBackend with 2 concurrent workers.\n",
            "[Parallel(n_jobs=-1)]: Done   1 tasks      | elapsed:    0.7s\n",
            "[Parallel(n_jobs=-1)]: Done   4 tasks      | elapsed:    1.4s\n",
            "[Parallel(n_jobs=-1)]: Done   9 tasks      | elapsed:    3.3s\n",
            "[Parallel(n_jobs=-1)]: Done  14 tasks      | elapsed:    4.4s\n",
            "[Parallel(n_jobs=-1)]: Done  21 tasks      | elapsed:    6.6s\n",
            "[Parallel(n_jobs=-1)]: Done  28 tasks      | elapsed:    8.5s\n",
            "[Parallel(n_jobs=-1)]: Done  37 tasks      | elapsed:   11.7s\n",
            "[Parallel(n_jobs=-1)]: Done  46 tasks      | elapsed:   14.1s\n",
            "[Parallel(n_jobs=-1)]: Done  57 tasks      | elapsed:   17.8s\n",
            "[Parallel(n_jobs=-1)]: Done  68 tasks      | elapsed:   20.9s\n",
            "[Parallel(n_jobs=-1)]: Done  81 tasks      | elapsed:   24.9s\n",
            "[Parallel(n_jobs=-1)]: Done  94 tasks      | elapsed:   28.8s\n",
            "[Parallel(n_jobs=-1)]: Done 109 tasks      | elapsed:   33.4s\n",
            "[Parallel(n_jobs=-1)]: Done 124 tasks      | elapsed:   38.0s\n",
            "[Parallel(n_jobs=-1)]: Done 141 tasks      | elapsed:   42.9s\n",
            "[Parallel(n_jobs=-1)]: Done 158 tasks      | elapsed:   48.3s\n",
            "[Parallel(n_jobs=-1)]: Done 177 tasks      | elapsed:   54.1s\n",
            "[Parallel(n_jobs=-1)]: Done 196 tasks      | elapsed:   59.7s\n",
            "[Parallel(n_jobs=-1)]: Done 217 tasks      | elapsed:  1.1min\n",
            "[Parallel(n_jobs=-1)]: Done 238 tasks      | elapsed:  1.2min\n",
            "[Parallel(n_jobs=-1)]: Done 261 tasks      | elapsed:  1.3min\n",
            "[Parallel(n_jobs=-1)]: Done 284 tasks      | elapsed:  1.4min\n",
            "[Parallel(n_jobs=-1)]: Done 309 tasks      | elapsed:  1.6min\n",
            "[Parallel(n_jobs=-1)]: Done 334 tasks      | elapsed:  1.7min\n",
            "[Parallel(n_jobs=-1)]: Done 361 tasks      | elapsed:  1.8min\n",
            "[Parallel(n_jobs=-1)]: Done 388 tasks      | elapsed:  2.0min\n",
            "[Parallel(n_jobs=-1)]: Done 417 tasks      | elapsed:  2.1min\n",
            "[Parallel(n_jobs=-1)]: Done 446 tasks      | elapsed:  2.3min\n",
            "[Parallel(n_jobs=-1)]: Done 477 tasks      | elapsed:  2.4min\n",
            "[Parallel(n_jobs=-1)]: Done 500 out of 500 | elapsed:  2.5min finished\n"
          ],
          "name": "stderr"
        }
      ]
    },
    {
      "cell_type": "code",
      "metadata": {
        "id": "P9M-OOJltM_I",
        "outputId": "fb8446d1-f0a5-4f8f-ec55-0e248b797047",
        "colab": {
          "base_uri": "https://localhost:8080/",
          "height": 51
        }
      },
      "source": [
        "print('Best hyperparameters', search.best_params_)\n",
        "print('Cross-validation MAE', -search.best_score_)"
      ],
      "execution_count": null,
      "outputs": [
        {
          "output_type": "stream",
          "text": [
            "Best hyperparameters {'simpleimputer__strategy': 'mean', 'selectkbest__k': 36, 'ridge__alpha': 10}\n",
            "Cross-validation MAE 671.929397105717\n"
          ],
          "name": "stdout"
        }
      ]
    },
    {
      "cell_type": "code",
      "metadata": {
        "id": "gmlEkknycHZK",
        "outputId": "82cf2c65-9d60-4c5c-9b00-eb54c678d919",
        "colab": {
          "base_uri": "https://localhost:8080/",
          "height": 34
        }
      },
      "source": [
        "# If we used GridSearchCV instead of RandomizedSearchCV, \n",
        "# how many candidates would there be?\n",
        "# 2 imputation strategies * n columns * 3 Ridge alphas\n",
        "2 * len(X_train.columns) * 3"
      ],
      "execution_count": null,
      "outputs": [
        {
          "output_type": "execute_result",
          "data": {
            "text/plain": [
              "216"
            ]
          },
          "metadata": {
            "tags": []
          },
          "execution_count": 16
        }
      ]
    },
    {
      "cell_type": "markdown",
      "metadata": {
        "id": "Q79ipvpgqYwF"
      },
      "source": [
        "### \"Fitting X folds for each of Y candidates, totalling Z fits\" ?\n",
        "\n",
        "What did that mean? What do you think?\n",
        "\n"
      ]
    },
    {
      "cell_type": "markdown",
      "metadata": {
        "id": "TAk3aILJcHZM"
      },
      "source": [
        "### Random Forest"
      ]
    },
    {
      "cell_type": "markdown",
      "metadata": {
        "id": "bMb01xPXcHZM"
      },
      "source": [
        "#### [Scikit-Learn User Guide, 3.2 Tuning the hyper-parameters of an estimator](https://scikit-learn.org/stable/modules/grid_search.html)\n",
        "\n",
        "> [`RandomizedSearchCV`](https://scikit-learn.org/stable/modules/generated/sklearn.model_selection.RandomizedSearchCV.html) implements a randomized search over parameters, where each setting is sampled from a distribution over possible parameter values.\n",
        ">\n",
        "> For each parameter, either a distribution over possible values or a list of discrete choices (which will be sampled uniformly) can be specified.\n",
        ">\n",
        "> This example uses the `scipy.stats` module, which contains many useful distributions for sampling parameters."
      ]
    },
    {
      "cell_type": "code",
      "metadata": {
        "id": "IBfuW_A9cHZN",
        "outputId": "3ca9bc74-8d1e-4fe6-d1bf-51b765b99b43",
        "colab": {
          "base_uri": "https://localhost:8080/",
          "height": 170
        }
      },
      "source": [
        "from scipy.stats import randint, uniform\n",
        "\n",
        "features = train.columns.drop(target)\n",
        "X_train = train[features]\n",
        "y_train = train[target]\n",
        "\n",
        "pipeline = make_pipeline(\n",
        "    ce.TargetEncoder(), \n",
        "    SimpleImputer(), \n",
        "    RandomForestRegressor(random_state=42)\n",
        ")\n",
        "\n",
        "param_distributions = {\n",
        "    'targetencoder__min_samples_leaf': randint(1, 1000), \n",
        "    \n",
        "#     Remove this hyperparameter, because of an issue: \n",
        "#     https://github.com/scikit-learn-contrib/categorical-encoding/issues/184\n",
        "#     'targetencoder__smoothing': uniform(1, 1000), \n",
        "    \n",
        "    'simpleimputer__strategy': ['mean', 'median'], \n",
        "    'randomforestregressor__n_estimators': randint(50, 500), \n",
        "    'randomforestregressor__max_depth': [5, 10, 15, 20, None], \n",
        "    'randomforestregressor__max_features': uniform(0, 1), \n",
        "}\n",
        "\n",
        "# If you're on Colab, decrease n_iter & cv parameters\n",
        "search = RandomizedSearchCV(\n",
        "    pipeline, \n",
        "    param_distributions=param_distributions, \n",
        "    n_iter=3, \n",
        "    cv=3, \n",
        "    scoring='neg_mean_absolute_error', \n",
        "    verbose=10, \n",
        "    return_train_score=True, \n",
        "    n_jobs=-1\n",
        ")\n",
        "\n",
        "search.fit(X_train, y_train);"
      ],
      "execution_count": null,
      "outputs": [
        {
          "output_type": "stream",
          "text": [
            "Fitting 3 folds for each of 3 candidates, totalling 9 fits\n"
          ],
          "name": "stdout"
        },
        {
          "output_type": "stream",
          "text": [
            "[Parallel(n_jobs=-1)]: Using backend LokyBackend with 2 concurrent workers.\n",
            "[Parallel(n_jobs=-1)]: Done   1 tasks      | elapsed:   34.1s\n",
            "[Parallel(n_jobs=-1)]: Done   4 tasks      | elapsed:  1.0min\n",
            "[Parallel(n_jobs=-1)]: Done   7 out of   9 | elapsed:  1.6min remaining:   27.6s\n",
            "[Parallel(n_jobs=-1)]: Done   9 out of   9 | elapsed:  2.0min remaining:    0.0s\n",
            "[Parallel(n_jobs=-1)]: Done   9 out of   9 | elapsed:  2.0min finished\n",
            "/usr/local/lib/python3.6/dist-packages/pandas/core/series.py:679: RuntimeWarning: overflow encountered in exp\n",
            "  result = getattr(ufunc, method)(*inputs, **kwargs)\n"
          ],
          "name": "stderr"
        }
      ]
    },
    {
      "cell_type": "code",
      "metadata": {
        "id": "1guEHVndcHZO",
        "outputId": "ed998b6f-428c-4489-f0ca-828b43ad4393",
        "colab": {
          "base_uri": "https://localhost:8080/",
          "height": 71
        }
      },
      "source": [
        "print('Best hyperparameters', search.best_params_)\n",
        "print('Cross-validation MAE', -search.best_score_)"
      ],
      "execution_count": null,
      "outputs": [
        {
          "output_type": "stream",
          "text": [
            "Best hyperparameters {'randomforestregressor__max_depth': None, 'randomforestregressor__max_features': 0.49334694484714725, 'randomforestregressor__n_estimators': 432, 'simpleimputer__strategy': 'mean', 'targetencoder__min_samples_leaf': 419}\n",
            "Cross-validation MAE 403.5675091595463\n"
          ],
          "name": "stdout"
        }
      ]
    },
    {
      "cell_type": "markdown",
      "metadata": {
        "id": "2tJr3YZ8xLt-"
      },
      "source": [
        "### See detailed results"
      ]
    },
    {
      "cell_type": "code",
      "metadata": {
        "id": "IGHRUlY3xF1O",
        "outputId": "f8a363e8-bda8-43ed-da09-b11a95ce8796",
        "colab": {
          "base_uri": "https://localhost:8080/",
          "height": 717
        }
      },
      "source": [
        "pd.DataFrame(search.cv_results_).sort_values(by='rank_test_score').T"
      ],
      "execution_count": null,
      "outputs": [
        {
          "output_type": "execute_result",
          "data": {
            "text/html": [
              "<div>\n",
              "<style scoped>\n",
              "    .dataframe tbody tr th:only-of-type {\n",
              "        vertical-align: middle;\n",
              "    }\n",
              "\n",
              "    .dataframe tbody tr th {\n",
              "        vertical-align: top;\n",
              "    }\n",
              "\n",
              "    .dataframe thead th {\n",
              "        text-align: right;\n",
              "    }\n",
              "</style>\n",
              "<table border=\"1\" class=\"dataframe\">\n",
              "  <thead>\n",
              "    <tr style=\"text-align: right;\">\n",
              "      <th></th>\n",
              "      <th>2</th>\n",
              "      <th>0</th>\n",
              "      <th>1</th>\n",
              "    </tr>\n",
              "  </thead>\n",
              "  <tbody>\n",
              "    <tr>\n",
              "      <th>mean_fit_time</th>\n",
              "      <td>53.691</td>\n",
              "      <td>13.0839</td>\n",
              "      <td>3.59541</td>\n",
              "    </tr>\n",
              "    <tr>\n",
              "      <th>std_fit_time</th>\n",
              "      <td>9.70113</td>\n",
              "      <td>0.132358</td>\n",
              "      <td>0.0210481</td>\n",
              "    </tr>\n",
              "    <tr>\n",
              "      <th>mean_score_time</th>\n",
              "      <td>1.74857</td>\n",
              "      <td>0.24552</td>\n",
              "      <td>0.181936</td>\n",
              "    </tr>\n",
              "    <tr>\n",
              "      <th>std_score_time</th>\n",
              "      <td>0.206985</td>\n",
              "      <td>0.00175446</td>\n",
              "      <td>0.00211087</td>\n",
              "    </tr>\n",
              "    <tr>\n",
              "      <th>param_randomforestregressor__max_depth</th>\n",
              "      <td>None</td>\n",
              "      <td>10</td>\n",
              "      <td>10</td>\n",
              "    </tr>\n",
              "    <tr>\n",
              "      <th>param_randomforestregressor__max_features</th>\n",
              "      <td>0.493347</td>\n",
              "      <td>0.945144</td>\n",
              "      <td>0.365465</td>\n",
              "    </tr>\n",
              "    <tr>\n",
              "      <th>param_randomforestregressor__n_estimators</th>\n",
              "      <td>432</td>\n",
              "      <td>104</td>\n",
              "      <td>59</td>\n",
              "    </tr>\n",
              "    <tr>\n",
              "      <th>param_simpleimputer__strategy</th>\n",
              "      <td>mean</td>\n",
              "      <td>mean</td>\n",
              "      <td>mean</td>\n",
              "    </tr>\n",
              "    <tr>\n",
              "      <th>param_targetencoder__min_samples_leaf</th>\n",
              "      <td>419</td>\n",
              "      <td>166</td>\n",
              "      <td>881</td>\n",
              "    </tr>\n",
              "    <tr>\n",
              "      <th>params</th>\n",
              "      <td>{'randomforestregressor__max_depth': None, 'ra...</td>\n",
              "      <td>{'randomforestregressor__max_depth': 10, 'rand...</td>\n",
              "      <td>{'randomforestregressor__max_depth': 10, 'rand...</td>\n",
              "    </tr>\n",
              "    <tr>\n",
              "      <th>split0_test_score</th>\n",
              "      <td>-405.651</td>\n",
              "      <td>-497.432</td>\n",
              "      <td>-498.998</td>\n",
              "    </tr>\n",
              "    <tr>\n",
              "      <th>split1_test_score</th>\n",
              "      <td>-407.076</td>\n",
              "      <td>-488.444</td>\n",
              "      <td>-492.844</td>\n",
              "    </tr>\n",
              "    <tr>\n",
              "      <th>split2_test_score</th>\n",
              "      <td>-397.976</td>\n",
              "      <td>-492.022</td>\n",
              "      <td>-493.955</td>\n",
              "    </tr>\n",
              "    <tr>\n",
              "      <th>mean_test_score</th>\n",
              "      <td>-403.568</td>\n",
              "      <td>-492.633</td>\n",
              "      <td>-495.266</td>\n",
              "    </tr>\n",
              "    <tr>\n",
              "      <th>std_test_score</th>\n",
              "      <td>3.99657</td>\n",
              "      <td>3.69464</td>\n",
              "      <td>2.67795</td>\n",
              "    </tr>\n",
              "    <tr>\n",
              "      <th>rank_test_score</th>\n",
              "      <td>1</td>\n",
              "      <td>2</td>\n",
              "      <td>3</td>\n",
              "    </tr>\n",
              "    <tr>\n",
              "      <th>split0_train_score</th>\n",
              "      <td>-146.272</td>\n",
              "      <td>-432.743</td>\n",
              "      <td>-440.43</td>\n",
              "    </tr>\n",
              "    <tr>\n",
              "      <th>split1_train_score</th>\n",
              "      <td>-144.564</td>\n",
              "      <td>-433.12</td>\n",
              "      <td>-444.036</td>\n",
              "    </tr>\n",
              "    <tr>\n",
              "      <th>split2_train_score</th>\n",
              "      <td>-146.237</td>\n",
              "      <td>-438.504</td>\n",
              "      <td>-447.296</td>\n",
              "    </tr>\n",
              "    <tr>\n",
              "      <th>mean_train_score</th>\n",
              "      <td>-145.691</td>\n",
              "      <td>-434.789</td>\n",
              "      <td>-443.921</td>\n",
              "    </tr>\n",
              "    <tr>\n",
              "      <th>std_train_score</th>\n",
              "      <td>0.797306</td>\n",
              "      <td>2.63165</td>\n",
              "      <td>2.80456</td>\n",
              "    </tr>\n",
              "  </tbody>\n",
              "</table>\n",
              "</div>"
            ],
            "text/plain": [
              "                                                                                           2  ...                                                  1\n",
              "mean_fit_time                                                                         53.691  ...                                            3.59541\n",
              "std_fit_time                                                                         9.70113  ...                                          0.0210481\n",
              "mean_score_time                                                                      1.74857  ...                                           0.181936\n",
              "std_score_time                                                                      0.206985  ...                                         0.00211087\n",
              "param_randomforestregressor__max_depth                                                  None  ...                                                 10\n",
              "param_randomforestregressor__max_features                                           0.493347  ...                                           0.365465\n",
              "param_randomforestregressor__n_estimators                                                432  ...                                                 59\n",
              "param_simpleimputer__strategy                                                           mean  ...                                               mean\n",
              "param_targetencoder__min_samples_leaf                                                    419  ...                                                881\n",
              "params                                     {'randomforestregressor__max_depth': None, 'ra...  ...  {'randomforestregressor__max_depth': 10, 'rand...\n",
              "split0_test_score                                                                   -405.651  ...                                           -498.998\n",
              "split1_test_score                                                                   -407.076  ...                                           -492.844\n",
              "split2_test_score                                                                   -397.976  ...                                           -493.955\n",
              "mean_test_score                                                                     -403.568  ...                                           -495.266\n",
              "std_test_score                                                                       3.99657  ...                                            2.67795\n",
              "rank_test_score                                                                            1  ...                                                  3\n",
              "split0_train_score                                                                  -146.272  ...                                            -440.43\n",
              "split1_train_score                                                                  -144.564  ...                                           -444.036\n",
              "split2_train_score                                                                  -146.237  ...                                           -447.296\n",
              "mean_train_score                                                                    -145.691  ...                                           -443.921\n",
              "std_train_score                                                                     0.797306  ...                                            2.80456\n",
              "\n",
              "[21 rows x 3 columns]"
            ]
          },
          "metadata": {
            "tags": []
          },
          "execution_count": 20
        }
      ]
    },
    {
      "cell_type": "markdown",
      "metadata": {
        "id": "GDZyu6FNyY2l"
      },
      "source": [
        "### Make predictions for test set"
      ]
    },
    {
      "cell_type": "code",
      "metadata": {
        "id": "em32KRjYcHZS"
      },
      "source": [
        "pipeline = search.best_estimator_"
      ],
      "execution_count": null,
      "outputs": []
    },
    {
      "cell_type": "code",
      "metadata": {
        "id": "OuWqQUk_yIw4",
        "outputId": "6ebf5176-41f4-42eb-9dcd-4df745cdcaa8",
        "colab": {
          "base_uri": "https://localhost:8080/",
          "height": 34
        }
      },
      "source": [
        "from sklearn.metrics import mean_absolute_error\n",
        "\n",
        "X_test = test[features]\n",
        "y_test = test[target]\n",
        "\n",
        "y_pred = pipeline.predict(X_test)\n",
        "mae = mean_absolute_error(y_test, y_pred)\n",
        "print(f'Test MAE: ${mae:,.0f}')"
      ],
      "execution_count": null,
      "outputs": [
        {
          "output_type": "stream",
          "text": [
            "Test MAE: $419\n"
          ],
          "name": "stdout"
        }
      ]
    },
    {
      "cell_type": "markdown",
      "metadata": {
        "id": "oBSsmJ4KcHZV"
      },
      "source": [
        "\n",
        "Here's what the [`RandomizdSearchCV` documentation](https://scikit-learn.org/stable/modules/generated/sklearn.model_selection.RandomizedSearchCV.html) says about the `best_estimator_` attribute:\n",
        "\n",
        "> **best_estimator_** : ***estimator***  \n",
        "> Estimator that was chosen by the search, i.e. estimator which gave highest score (or smallest loss if specified) on the left out data. Not available if `refit=False`. ... See `refit` parameter for more information ...\n",
        "\n",
        "So let's look at the `refit` parameter too:\n",
        "\n",
        "> **refit** : ***boolean, string, or callable, default=True***  \n",
        "> Refit an estimator using the best found parameters on the whole dataset.\n",
        "\n",
        "By default, scikit-learn cross-validation will _\"refit an estimator using the best found parameters on the whole dataset\",_ which means, use **all** the training data:\n",
        "\n",
        "<img src=\"https://scikit-learn.org/stable/_images/grid_search_workflow.png\" width=\"50%\">\n",
        "\n",
        "***Tip: If you're doing 3-way train/validation/test split, you should do this too!*** After you've optimized your hyperparameters and selected your final model, then manually refit on both the training and validation data."
      ]
    },
    {
      "cell_type": "markdown",
      "metadata": {
        "id": "wKDL-EGYcHZV"
      },
      "source": [
        "## Challenge\n",
        "\n",
        "For your assignment, use scikit-learn for hyperparameter optimization with RandomizedSearchCV."
      ]
    },
    {
      "cell_type": "markdown",
      "metadata": {
        "id": "IsjtATlmcHZV"
      },
      "source": [
        "# Review\n",
        "\n",
        "Continue to participate in our Kaggle Challenge, and practice these objectives:\n",
        "\n",
        "- Do **cross-validation** with independent test set\n",
        "- Use scikit-learn for **hyperparameter optimization**\n",
        "\n",
        "You can refer to these suggestions when you do hyperparameter optimization, now and in future projects:"
      ]
    },
    {
      "cell_type": "markdown",
      "metadata": {
        "id": "4sQiv9s2kOjn"
      },
      "source": [
        "### Tree Ensemble hyperparameter suggestions\n",
        "\n",
        "#### Random Forest\n",
        "- class_weight (for imbalanced classes)\n",
        "- max_depth (usually high, can try decreasing)\n",
        "- n_estimators (too low underfits, too high wastes time)\n",
        "- min_samples_leaf (increase if overfitting)\n",
        "- max_features (decrease for more diverse trees)\n",
        "\n",
        "#### XGBoost\n",
        "- scale_pos_weight (for imbalanced classes)\n",
        "- max_depth (usually low, can try increasing)\n",
        "- n_estimators (too low underfits, too high wastes time/overfits) — _I recommend using early stopping instead of cross-validation_\n",
        "- learning_rate (too low underfits, too high overfits)\n",
        "- See [Notes on Parameter Tuning](https://xgboost.readthedocs.io/en/latest/tutorials/param_tuning.html) and [DART booster](https://xgboost.readthedocs.io/en/latest/tutorials/dart.html) for more ideas\n",
        "\n",
        "### Linear Model hyperparameter suggestions \n",
        "\n",
        "#### Logistic Regression\n",
        "- C\n",
        "- class_weight (for imbalanced classes)\n",
        "- penalty\n",
        "\n",
        "#### Ridge / Lasso Regression\n",
        "- alpha\n",
        "\n",
        "#### ElasticNet Regression\n",
        "- alpha\n",
        "- l1_ratio\n",
        "\n",
        "For more explanation, see [**Aaron Gallant's 9 minute video on Ridge Regression**](https://www.youtube.com/watch?v=XK5jkedy17w)!"
      ]
    },
    {
      "cell_type": "markdown",
      "metadata": {
        "id": "vLDuUT2VcHZW"
      },
      "source": [
        "# Sources\n",
        "- Jake VanderPlas, [Python Data Science Handbook, Chapter 5.3,](https://jakevdp.github.io/PythonDataScienceHandbook/05.03-hyperparameters-and-model-validation.html) Hyperparameters and Model Validation\n",
        "- Peter Worcester, [A Comparison of Grid Search and Randomized Search Using Scikit Learn](https://blog.usejournal.com/a-comparison-of-grid-search-and-randomized-search-using-scikit-learn-29823179bc85)\n",
        "- Ron Zacharski, [A Programmer’s Guide to Data Mining, Chapter 5,](http://guidetodatamining.com/chapter5/) first 10 pages, for a great explanation of cross-validation with examples and pictures\n",
        "- Sebastian Raschka, [Model Evaluation](https://sebastianraschka.com/blog/2018/model-evaluation-selection-part4.html)\n",
        "- [Scikit-Learn User Guide, 3.1 Cross-validation](https://scikit-learn.org/stable/modules/cross_validation.html)\n",
        "- [Scikit-Learn User Guide, 3.2 Tuning the hyper-parameters of an estimator](https://scikit-learn.org/stable/modules/grid_search.html)\n",
        "- [sklearn.model_selection.cross_val_score](https://scikit-learn.org/stable/modules/generated/sklearn.model_selection.cross_val_score.html)\n",
        "- [sklearn.model_selection.RandomizedSearchCV](https://scikit-learn.org/stable/modules/generated/sklearn.model_selection.RandomizedSearchCV.html)\n",
        "- [xgboost, Notes on Parameter Tuning](https://xgboost.readthedocs.io/en/latest/tutorials/param_tuning.html)"
      ]
    }
  ]
}