{
  "nbformat": 4,
  "nbformat_minor": 0,
  "metadata": {
    "kernelspec": {
      "display_name": "Python 3",
      "language": "python",
      "name": "python3"
    },
    "language_info": {
      "codemirror_mode": {
        "name": "ipython",
        "version": 3
      },
      "file_extension": ".py",
      "mimetype": "text/x-python",
      "name": "python",
      "nbconvert_exporter": "python",
      "pygments_lexer": "ipython3",
      "version": "3.7.3"
    },
    "colab": {
      "name": "LS_DS_224_assignment.ipynb",
      "provenance": [],
      "include_colab_link": true
    }
  },
  "cells": [
    {
      "cell_type": "markdown",
      "metadata": {
        "id": "view-in-github",
        "colab_type": "text"
      },
      "source": [
        "<a href=\"https://colab.research.google.com/github/nsriniva/DS-Unit-2-Kaggle-Challenge/blob/master/module4-classification-metrics/LS_DS_224_assignment.ipynb\" target=\"_parent\"><img src=\"https://colab.research.google.com/assets/colab-badge.svg\" alt=\"Open In Colab\"/></a>"
      ]
    },
    {
      "cell_type": "markdown",
      "metadata": {
        "id": "SfdMtlb79yht"
      },
      "source": [
        "Lambda School Data Science\n",
        "\n",
        "*Unit 2, Sprint 2, Module 4*\n",
        "\n",
        "---"
      ]
    },
    {
      "cell_type": "markdown",
      "metadata": {
        "id": "nCc3XZEyG3XV"
      },
      "source": [
        "# Classification Metrics\n",
        "\n",
        "## Assignment\n",
        "- [ ] If you haven't yet, [review requirements for your portfolio project](https://lambdaschool.github.io/ds/unit2), then submit your dataset.\n",
        "- [ ] Plot a confusion matrix for your Tanzania Waterpumps model.\n",
        "- [ ] Continue to participate in our Kaggle challenge. Every student should have made at least one submission that scores at least 70% accuracy (well above the majority class baseline).\n",
        "- [ ] Submit your final predictions to our Kaggle competition. Optionally, go to **My Submissions**, and _\"you may select up to 1 submission to be used to count towards your final leaderboard score.\"_\n",
        "- [ ] Commit your notebook to your fork of the GitHub repo.\n",
        "- [ ] Read [Maximizing Scarce Maintenance Resources with Data: Applying predictive modeling, precision at k, and clustering to optimize impact](http://archive.is/DelgE), by Lambda DS3 student Michael Brady. His blog post extends the Tanzania Waterpumps scenario, far beyond what's in the lecture notebook.\n",
        "\n",
        "\n",
        "## Stretch Goals\n",
        "\n",
        "### Reading\n",
        "\n",
        "- [Attacking discrimination with smarter machine learning](https://research.google.com/bigpicture/attacking-discrimination-in-ml/), by Google Research, with  interactive visualizations. _\"A threshold classifier essentially makes a yes/no decision, putting things in one category or another. We look at how these classifiers work, ways they can potentially be unfair, and how you might turn an unfair classifier into a fairer one. As an illustrative example, we focus on loan granting scenarios where a bank may grant or deny a loan based on a single, automatically computed number such as a credit score.\"_\n",
        "- [Notebook about how to calculate expected value from a confusion matrix by treating it as a cost-benefit matrix](https://github.com/podopie/DAT18NYC/blob/master/classes/13-expected_value_cost_benefit_analysis.ipynb)\n",
        "- [Visualizing Machine Learning Thresholds to Make Better Business Decisions](https://blog.insightdatascience.com/visualizing-machine-learning-thresholds-to-make-better-business-decisions-4ab07f823415)\n",
        "\n",
        "\n",
        "### Doing\n",
        "- [ ] Share visualizations in our Slack channel!\n",
        "- [ ] RandomizedSearchCV / GridSearchCV, for model selection. (See module 3 assignment notebook)\n",
        "- [ ] Stacking Ensemble. (See module 3 assignment notebook)\n",
        "- [ ] More Categorical Encoding. (See module 2 assignment notebook)"
      ]
    },
    {
      "cell_type": "code",
      "metadata": {
        "id": "lsbRiKBoB5RE"
      },
      "source": [
        "%%capture\n",
        "import sys\n",
        "\n",
        "# If you're on Colab:\n",
        "if 'google.colab' in sys.modules:\n",
        "    DATA_PATH = 'https://raw.githubusercontent.com/LambdaSchool/DS-Unit-2-Kaggle-Challenge/master/data/'\n",
        "    !pip install category_encoders==2.*\n",
        "\n",
        "# If you're working locally:\n",
        "else:\n",
        "    DATA_PATH = '../data/'"
      ],
      "execution_count": 1,
      "outputs": []
    },
    {
      "cell_type": "code",
      "metadata": {
        "id": "BVA1lph8CcNX",
        "colab": {
          "base_uri": "https://localhost:8080/"
        },
        "outputId": "73b3702a-93f8-4a18-8fb8-e384d82a8efe"
      },
      "source": [
        "from category_encoders import OneHotEncoder, OrdinalEncoder\n",
        "from sklearn.ensemble import RandomForestClassifier\n",
        "from sklearn.impute import SimpleImputer\n",
        "from sklearn.linear_model import LogisticRegression\n",
        "from sklearn.metrics import accuracy_score, plot_confusion_matrix, classification_report, roc_curve, roc_auc_score\n",
        "from sklearn.model_selection import train_test_split\n",
        "from sklearn.pipeline import make_pipeline\n",
        "from sklearn.preprocessing import StandardScaler\n",
        "import pandas as pd\n",
        "\n",
        "# Merge train_features.csv & train_labels.csv\n",
        "train = pd.merge(pd.read_csv(DATA_PATH+'waterpumps/train_features.csv', na_values=[0, -2.000000e-08]), \n",
        "                 pd.read_csv(DATA_PATH+'waterpumps/train_labels.csv')).set_index('id')\n",
        "\n",
        "# Read test_features.csv & sample_submission.csv\n",
        "test = pd.read_csv(DATA_PATH+'waterpumps/test_features.csv', na_values=[0, -2.000000e-08], index_col='id')\n"
      ],
      "execution_count": 2,
      "outputs": [
        {
          "output_type": "stream",
          "text": [
            "/usr/local/lib/python3.6/dist-packages/statsmodels/tools/_testing.py:19: FutureWarning: pandas.util.testing is deprecated. Use the functions in the public API at pandas.testing instead.\n",
            "  import pandas.util.testing as tm\n"
          ],
          "name": "stderr"
        }
      ]
    },
    {
      "cell_type": "code",
      "metadata": {
        "id": "0ENYTldd9yht",
        "colab": {
          "base_uri": "https://localhost:8080/"
        },
        "outputId": "33a115e0-0d51-4e92-ad52-e1f80e9ddcb4"
      },
      "source": [
        "train.isna().sum()"
      ],
      "execution_count": 3,
      "outputs": [
        {
          "output_type": "execute_result",
          "data": {
            "text/plain": [
              "amount_tsh               41638\n",
              "date_recorded                0\n",
              "funder                    4412\n",
              "gps_height               20437\n",
              "installer                 4432\n",
              "longitude                 1812\n",
              "latitude                  1812\n",
              "wpt_name                     0\n",
              "num_private              58642\n",
              "basin                        0\n",
              "subvillage                 371\n",
              "region                       0\n",
              "region_code                  0\n",
              "district_code               23\n",
              "lga                          0\n",
              "ward                         0\n",
              "population               21380\n",
              "public_meeting            3333\n",
              "recorded_by                  0\n",
              "scheme_management         3877\n",
              "scheme_name              28165\n",
              "permit                    3056\n",
              "construction_year        20708\n",
              "extraction_type              0\n",
              "extraction_type_group        0\n",
              "extraction_type_class        0\n",
              "management                   0\n",
              "management_group             0\n",
              "payment                      0\n",
              "payment_type                 0\n",
              "water_quality                0\n",
              "quality_group                0\n",
              "quantity                     0\n",
              "quantity_group               0\n",
              "source                       0\n",
              "source_type                  0\n",
              "source_class                 0\n",
              "waterpoint_type              0\n",
              "waterpoint_type_group        0\n",
              "status_group                 0\n",
              "dtype: int64"
            ]
          },
          "metadata": {
            "tags": []
          },
          "execution_count": 3
        }
      ]
    },
    {
      "cell_type": "code",
      "metadata": {
        "id": "ROoMe_sf_fKB"
      },
      "source": [
        "def wrangle(X):\n",
        "  # Make a copy\n",
        "  X = X.copy()\n",
        "\n",
        "  # Drop high cardinality cols\n",
        "  high_card_cols = [col for col in X.select_dtypes('object').columns\n",
        "                    if X[col].nunique() > 100]\n",
        "\n",
        "  X.drop(columns=high_card_cols, inplace=True)\n",
        "\n",
        "  # Drop repeated columns\n",
        "  cols = ['extraction_type_group', 'quantity']\n",
        "  X.drop(columns=cols, inplace=True)\n",
        "\n",
        "\n",
        "  return X"
      ],
      "execution_count": 4,
      "outputs": []
    },
    {
      "cell_type": "code",
      "metadata": {
        "id": "Pj-qktm2cS8Y"
      },
      "source": [
        "train = wrangle(train)\n",
        "\n",
        "test = wrangle(test)"
      ],
      "execution_count": 5,
      "outputs": []
    },
    {
      "cell_type": "code",
      "metadata": {
        "id": "0lDL3ooJcAJV"
      },
      "source": [
        "# Split TV / FM\n",
        "target = 'status_group'\n",
        "y = train[target]\n",
        "X = train.drop(columns=[target])\n",
        "\n",
        "# Train-val split\n",
        "X_train, X_val, y_train, y_val = train_test_split(X, y, train_size=0.8, random_state=42)\n",
        "\n",
        "# Sanity check\n",
        "assert len(X_train) + len(X_val) == len(X)"
      ],
      "execution_count": 6,
      "outputs": []
    },
    {
      "cell_type": "code",
      "metadata": {
        "colab": {
          "base_uri": "https://localhost:8080/"
        },
        "id": "ANlh5l9vcmqL",
        "outputId": "0796a916-aa2b-4054-b213-cbeb1ed48586"
      },
      "source": [
        "print('Baseline Accuracy:', y_train.value_counts(normalize=True).max())"
      ],
      "execution_count": 7,
      "outputs": [
        {
          "output_type": "stream",
          "text": [
            "Baseline Accuracy: 0.5425829668132747\n"
          ],
          "name": "stdout"
        }
      ]
    },
    {
      "cell_type": "code",
      "metadata": {
        "colab": {
          "base_uri": "https://localhost:8080/"
        },
        "id": "xJk39I-9cq5E",
        "outputId": "6cdf4ee6-5692-4a1d-c73e-fd4d58961acc"
      },
      "source": [
        "%%time\n",
        "\n",
        "model = make_pipeline(OrdinalEncoder(),\n",
        "                      SimpleImputer(),\n",
        "                      RandomForestClassifier(n_estimators=50, n_jobs = -1, random_state=42)\n",
        "                      )\n",
        "model.fit(X_train, y_train)\n",
        "print('Training Accuracy:', model.score(X_train, y_train))\n",
        "print('Validation Accuracy:', model.score(X_val, y_val))"
      ],
      "execution_count": 8,
      "outputs": [
        {
          "output_type": "stream",
          "text": [
            "Training Accuracy: 0.9945074601738252\n",
            "Validation Accuracy: 0.8052188552188552\n",
            "CPU times: user 9.12 s, sys: 199 ms, total: 9.32 s\n",
            "Wall time: 7.53 s\n"
          ],
          "name": "stdout"
        }
      ]
    },
    {
      "cell_type": "code",
      "metadata": {
        "colab": {
          "base_uri": "https://localhost:8080/",
          "height": 466
        },
        "id": "OHI8TvYXcznW",
        "outputId": "6d0ca79e-edc9-458a-9085-98a6a399f073"
      },
      "source": [
        "# Plot the decision matrix\n",
        "import matplotlib.pyplot as plt\n",
        "\n",
        "fig, ax = plt.subplots(1,1,figsize=(8,8))\n",
        "\n",
        "ax.set_title('Confusion Matrix: Tanzania Water Pumps model')\n",
        "\n",
        "plot_confusion_matrix(model,\n",
        "                      X_val,\n",
        "                      y_val,\n",
        "                      values_format = '.0f',\n",
        "                      cmap=plt.cm.Blues, ax=ax\n",
        "                     );\n",
        "\n",
        "\n"
      ],
      "execution_count": 17,
      "outputs": [
        {
          "output_type": "display_data",
          "data": {
            "image/png": "[encoded data removed]",
            "text/plain": [
              "<Figure size 576x576 with 2 Axes>"
            ]
          },
          "metadata": {
            "tags": [],
            "needs_background": "light"
          }
        }
      ]
    },
    {
      "cell_type": "code",
      "metadata": {
        "colab": {
          "base_uri": "https://localhost:8080/"
        },
        "id": "LKs28_sEpaXL",
        "outputId": "53ebb32b-7566-47b6-ccb3-bf72ee206d58"
      },
      "source": [
        "y_pred_proba = model.predict_proba(X_val)[:,-1]\n",
        "y_pred_proba"
      ],
      "execution_count": 12,
      "outputs": [
        {
          "output_type": "execute_result",
          "data": {
            "text/plain": [
              "array([1. , 0.3, 0. , ..., 0. , 0. , 0.4])"
            ]
          },
          "metadata": {
            "tags": []
          },
          "execution_count": 12
        }
      ]
    },
    {
      "cell_type": "code",
      "metadata": {
        "colab": {
          "base_uri": "https://localhost:8080/"
        },
        "id": "z2zKVKpcpdzM",
        "outputId": "422c6d32-db08-4868-832d-6f020062cc88"
      },
      "source": [
        "print(classification_report(y_val, model.predict(X_val)))"
      ],
      "execution_count": 14,
      "outputs": [
        {
          "output_type": "stream",
          "text": [
            "                         precision    recall  f1-score   support\n",
            "\n",
            "             functional       0.81      0.88      0.84      6476\n",
            "functional needs repair       0.51      0.37      0.43       845\n",
            "         non functional       0.84      0.78      0.81      4559\n",
            "\n",
            "               accuracy                           0.81     11880\n",
            "              macro avg       0.72      0.68      0.69     11880\n",
            "           weighted avg       0.80      0.81      0.80     11880\n",
            "\n"
          ],
          "name": "stdout"
        }
      ]
    }
  ]
}