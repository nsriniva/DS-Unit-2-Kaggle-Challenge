{
  "nbformat": 4,
  "nbformat_minor": 0,
  "metadata": {
    "kernelspec": {
      "display_name": "Python 3",
      "language": "python",
      "name": "python3"
    },
    "language_info": {
      "codemirror_mode": {
        "name": "ipython",
        "version": 3
      },
      "file_extension": ".py",
      "mimetype": "text/x-python",
      "name": "python",
      "nbconvert_exporter": "python",
      "pygments_lexer": "ipython3",
      "version": "3.7.3"
    },
    "colab": {
      "name": "LS_DS_222-NK-UNSOLVED.ipynb",
      "provenance": [],
      "toc_visible": true,
      "include_colab_link": true
    },
    "widgets": {
      "application/vnd.jupyter.widget-state+json": {
        "2a3b5b4adaf245a38709fdadebd16811": {
          "model_module": "@jupyter-widgets/controls",
          "model_name": "VBoxModel",
          "state": {
            "_view_name": "VBoxView",
            "_dom_classes": [
              "widget-interact"
            ],
            "_model_name": "VBoxModel",
            "_view_module": "@jupyter-widgets/controls",
            "_model_module_version": "1.5.0",
            "_view_count": null,
            "_view_module_version": "1.5.0",
            "box_style": "",
            "layout": "IPY_MODEL_2e14fad993a049fc9c1bdd9c03309543",
            "_model_module": "@jupyter-widgets/controls",
            "children": [
              "IPY_MODEL_cd5c301d0af34a0193fb180c35ac9715",
              "IPY_MODEL_fe725aba10ef403cbd8ba2ce2ca330eb",
              "IPY_MODEL_fa7a0edd8fe447c78930374c6504ec5f"
            ]
          }
        },
        "2e14fad993a049fc9c1bdd9c03309543": {
          "model_module": "@jupyter-widgets/base",
          "model_name": "LayoutModel",
          "state": {
            "_view_name": "LayoutView",
            "grid_template_rows": null,
            "right": null,
            "justify_content": null,
            "_view_module": "@jupyter-widgets/base",
            "overflow": null,
            "_model_module_version": "1.2.0",
            "_view_count": null,
            "flex_flow": null,
            "width": null,
            "min_width": null,
            "border": null,
            "align_items": null,
            "bottom": null,
            "_model_module": "@jupyter-widgets/base",
            "top": null,
            "grid_column": null,
            "overflow_y": null,
            "overflow_x": null,
            "grid_auto_flow": null,
            "grid_area": null,
            "grid_template_columns": null,
            "flex": null,
            "_model_name": "LayoutModel",
            "justify_items": null,
            "grid_row": null,
            "max_height": null,
            "align_content": null,
            "visibility": null,
            "align_self": null,
            "height": null,
            "min_height": null,
            "padding": null,
            "grid_auto_rows": null,
            "grid_gap": null,
            "max_width": null,
            "order": null,
            "_view_module_version": "1.2.0",
            "grid_template_areas": null,
            "object_position": null,
            "object_fit": null,
            "grid_auto_columns": null,
            "margin": null,
            "display": null,
            "left": null
          }
        },
        "cd5c301d0af34a0193fb180c35ac9715": {
          "model_module": "@jupyter-widgets/controls",
          "model_name": "IntSliderModel",
          "state": {
            "_view_name": "IntSliderView",
            "style": "IPY_MODEL_03bdc1df779e423892b46b7dbaef1a9b",
            "_dom_classes": [],
            "description": "max_depth",
            "step": 1,
            "_model_name": "IntSliderModel",
            "orientation": "horizontal",
            "max": 6,
            "_view_module": "@jupyter-widgets/controls",
            "_model_module_version": "1.5.0",
            "value": 3,
            "_view_count": null,
            "disabled": false,
            "_view_module_version": "1.5.0",
            "min": 1,
            "continuous_update": true,
            "readout_format": "d",
            "description_tooltip": null,
            "readout": true,
            "_model_module": "@jupyter-widgets/controls",
            "layout": "IPY_MODEL_542874bd8fde434d83685d1887d75c68"
          }
        },
        "fe725aba10ef403cbd8ba2ce2ca330eb": {
          "model_module": "@jupyter-widgets/controls",
          "model_name": "IntSliderModel",
          "state": {
            "_view_name": "IntSliderView",
            "style": "IPY_MODEL_b3de3ae985164439b02163e3d1c2e4f8",
            "_dom_classes": [],
            "description": "n_estimators",
            "step": 10,
            "_model_name": "IntSliderModel",
            "orientation": "horizontal",
            "max": 40,
            "_view_module": "@jupyter-widgets/controls",
            "_model_module_version": "1.5.0",
            "value": 40,
            "_view_count": null,
            "disabled": false,
            "_view_module_version": "1.5.0",
            "min": 10,
            "continuous_update": true,
            "readout_format": "d",
            "description_tooltip": null,
            "readout": true,
            "_model_module": "@jupyter-widgets/controls",
            "layout": "IPY_MODEL_1e0553c9b27549788e2aabd4b6b68b8f"
          }
        },
        "fa7a0edd8fe447c78930374c6504ec5f": {
          "model_module": "@jupyter-widgets/output",
          "model_name": "OutputModel",
          "state": {
            "_view_name": "OutputView",
            "msg_id": "",
            "_dom_classes": [],
            "_model_name": "OutputModel",
            "outputs": [
              {
                "output_type": "display_data",
                "metadata": {
                  "tags": [],
                  "needs_background": "light"
                },
                "image/png": "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\n",
                "text/plain": "<Figure size 432x288 with 1 Axes>"
              },
              {
                "output_type": "display_data",
                "metadata": {
                  "tags": [],
                  "needs_background": "light"
                },
                "image/png": "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\n",
                "text/plain": "<Figure size 432x288 with 1 Axes>"
              }
            ],
            "_view_module": "@jupyter-widgets/output",
            "_model_module_version": "1.0.0",
            "_view_count": null,
            "_view_module_version": "1.0.0",
            "layout": "IPY_MODEL_213b4171e5a147d88b91817544262f5d",
            "_model_module": "@jupyter-widgets/output"
          }
        },
        "03bdc1df779e423892b46b7dbaef1a9b": {
          "model_module": "@jupyter-widgets/controls",
          "model_name": "SliderStyleModel",
          "state": {
            "_view_name": "StyleView",
            "handle_color": null,
            "_model_name": "SliderStyleModel",
            "description_width": "",
            "_view_module": "@jupyter-widgets/base",
            "_model_module_version": "1.5.0",
            "_view_count": null,
            "_view_module_version": "1.2.0",
            "_model_module": "@jupyter-widgets/controls"
          }
        },
        "542874bd8fde434d83685d1887d75c68": {
          "model_module": "@jupyter-widgets/base",
          "model_name": "LayoutModel",
          "state": {
            "_view_name": "LayoutView",
            "grid_template_rows": null,
            "right": null,
            "justify_content": null,
            "_view_module": "@jupyter-widgets/base",
            "overflow": null,
            "_model_module_version": "1.2.0",
            "_view_count": null,
            "flex_flow": null,
            "width": null,
            "min_width": null,
            "border": null,
            "align_items": null,
            "bottom": null,
            "_model_module": "@jupyter-widgets/base",
            "top": null,
            "grid_column": null,
            "overflow_y": null,
            "overflow_x": null,
            "grid_auto_flow": null,
            "grid_area": null,
            "grid_template_columns": null,
            "flex": null,
            "_model_name": "LayoutModel",
            "justify_items": null,
            "grid_row": null,
            "max_height": null,
            "align_content": null,
            "visibility": null,
            "align_self": null,
            "height": null,
            "min_height": null,
            "padding": null,
            "grid_auto_rows": null,
            "grid_gap": null,
            "max_width": null,
            "order": null,
            "_view_module_version": "1.2.0",
            "grid_template_areas": null,
            "object_position": null,
            "object_fit": null,
            "grid_auto_columns": null,
            "margin": null,
            "display": null,
            "left": null
          }
        },
        "b3de3ae985164439b02163e3d1c2e4f8": {
          "model_module": "@jupyter-widgets/controls",
          "model_name": "SliderStyleModel",
          "state": {
            "_view_name": "StyleView",
            "handle_color": null,
            "_model_name": "SliderStyleModel",
            "description_width": "",
            "_view_module": "@jupyter-widgets/base",
            "_model_module_version": "1.5.0",
            "_view_count": null,
            "_view_module_version": "1.2.0",
            "_model_module": "@jupyter-widgets/controls"
          }
        },
        "1e0553c9b27549788e2aabd4b6b68b8f": {
          "model_module": "@jupyter-widgets/base",
          "model_name": "LayoutModel",
          "state": {
            "_view_name": "LayoutView",
            "grid_template_rows": null,
            "right": null,
            "justify_content": null,
            "_view_module": "@jupyter-widgets/base",
            "overflow": null,
            "_model_module_version": "1.2.0",
            "_view_count": null,
            "flex_flow": null,
            "width": null,
            "min_width": null,
            "border": null,
            "align_items": null,
            "bottom": null,
            "_model_module": "@jupyter-widgets/base",
            "top": null,
            "grid_column": null,
            "overflow_y": null,
            "overflow_x": null,
            "grid_auto_flow": null,
            "grid_area": null,
            "grid_template_columns": null,
            "flex": null,
            "_model_name": "LayoutModel",
            "justify_items": null,
            "grid_row": null,
            "max_height": null,
            "align_content": null,
            "visibility": null,
            "align_self": null,
            "height": null,
            "min_height": null,
            "padding": null,
            "grid_auto_rows": null,
            "grid_gap": null,
            "max_width": null,
            "order": null,
            "_view_module_version": "1.2.0",
            "grid_template_areas": null,
            "object_position": null,
            "object_fit": null,
            "grid_auto_columns": null,
            "margin": null,
            "display": null,
            "left": null
          }
        },
        "213b4171e5a147d88b91817544262f5d": {
          "model_module": "@jupyter-widgets/base",
          "model_name": "LayoutModel",
          "state": {
            "_view_name": "LayoutView",
            "grid_template_rows": null,
            "right": null,
            "justify_content": null,
            "_view_module": "@jupyter-widgets/base",
            "overflow": null,
            "_model_module_version": "1.2.0",
            "_view_count": null,
            "flex_flow": null,
            "width": null,
            "min_width": null,
            "border": null,
            "align_items": null,
            "bottom": null,
            "_model_module": "@jupyter-widgets/base",
            "top": null,
            "grid_column": null,
            "overflow_y": null,
            "overflow_x": null,
            "grid_auto_flow": null,
            "grid_area": null,
            "grid_template_columns": null,
            "flex": null,
            "_model_name": "LayoutModel",
            "justify_items": null,
            "grid_row": null,
            "max_height": null,
            "align_content": null,
            "visibility": null,
            "align_self": null,
            "height": null,
            "min_height": null,
            "padding": null,
            "grid_auto_rows": null,
            "grid_gap": null,
            "max_width": null,
            "order": null,
            "_view_module_version": "1.2.0",
            "grid_template_areas": null,
            "object_position": null,
            "object_fit": null,
            "grid_auto_columns": null,
            "margin": null,
            "display": null,
            "left": null
          }
        },
        "909557cbba4843b8922e665b120f28c0": {
          "model_module": "@jupyter-widgets/controls",
          "model_name": "VBoxModel",
          "state": {
            "_view_name": "VBoxView",
            "_dom_classes": [
              "widget-interact"
            ],
            "_model_name": "VBoxModel",
            "_view_module": "@jupyter-widgets/controls",
            "_model_module_version": "1.5.0",
            "_view_count": null,
            "_view_module_version": "1.5.0",
            "box_style": "",
            "layout": "IPY_MODEL_6b5d58ec72a34a4faf5d2e6dd89a02a2",
            "_model_module": "@jupyter-widgets/controls",
            "children": [
              "IPY_MODEL_d57fd2b7060842d1b146e610e1b6e4f2",
              "IPY_MODEL_9f353f355d514b0fb06ea04bb130d510",
              "IPY_MODEL_090a4df9baba404bab37a15ba36eaf0c"
            ]
          }
        },
        "6b5d58ec72a34a4faf5d2e6dd89a02a2": {
          "model_module": "@jupyter-widgets/base",
          "model_name": "LayoutModel",
          "state": {
            "_view_name": "LayoutView",
            "grid_template_rows": null,
            "right": null,
            "justify_content": null,
            "_view_module": "@jupyter-widgets/base",
            "overflow": null,
            "_model_module_version": "1.2.0",
            "_view_count": null,
            "flex_flow": null,
            "width": null,
            "min_width": null,
            "border": null,
            "align_items": null,
            "bottom": null,
            "_model_module": "@jupyter-widgets/base",
            "top": null,
            "grid_column": null,
            "overflow_y": null,
            "overflow_x": null,
            "grid_auto_flow": null,
            "grid_area": null,
            "grid_template_columns": null,
            "flex": null,
            "_model_name": "LayoutModel",
            "justify_items": null,
            "grid_row": null,
            "max_height": null,
            "align_content": null,
            "visibility": null,
            "align_self": null,
            "height": null,
            "min_height": null,
            "padding": null,
            "grid_auto_rows": null,
            "grid_gap": null,
            "max_width": null,
            "order": null,
            "_view_module_version": "1.2.0",
            "grid_template_areas": null,
            "object_position": null,
            "object_fit": null,
            "grid_auto_columns": null,
            "margin": null,
            "display": null,
            "left": null
          }
        },
        "d57fd2b7060842d1b146e610e1b6e4f2": {
          "model_module": "@jupyter-widgets/controls",
          "model_name": "IntSliderModel",
          "state": {
            "_view_name": "IntSliderView",
            "style": "IPY_MODEL_f5c7f07a9c6644a794ce8bf77397abfc",
            "_dom_classes": [],
            "description": "max_depth",
            "step": 1,
            "_model_name": "IntSliderModel",
            "orientation": "horizontal",
            "max": 6,
            "_view_module": "@jupyter-widgets/controls",
            "_model_module_version": "1.5.0",
            "value": 6,
            "_view_count": null,
            "disabled": false,
            "_view_module_version": "1.5.0",
            "min": 1,
            "continuous_update": true,
            "readout_format": "d",
            "description_tooltip": null,
            "readout": true,
            "_model_module": "@jupyter-widgets/controls",
            "layout": "IPY_MODEL_b15c9198e7dc48c49eb67f8011f0632f"
          }
        },
        "9f353f355d514b0fb06ea04bb130d510": {
          "model_module": "@jupyter-widgets/controls",
          "model_name": "IntSliderModel",
          "state": {
            "_view_name": "IntSliderView",
            "style": "IPY_MODEL_c65320ba50204e9dae8a10f867cc3d5c",
            "_dom_classes": [],
            "description": "n_estimators",
            "step": 10,
            "_model_name": "IntSliderModel",
            "orientation": "horizontal",
            "max": 40,
            "_view_module": "@jupyter-widgets/controls",
            "_model_module_version": "1.5.0",
            "value": 40,
            "_view_count": null,
            "disabled": false,
            "_view_module_version": "1.5.0",
            "min": 10,
            "continuous_update": true,
            "readout_format": "d",
            "description_tooltip": null,
            "readout": true,
            "_model_module": "@jupyter-widgets/controls",
            "layout": "IPY_MODEL_c6631160c31540569b5c635dc5e4ffd6"
          }
        },
        "090a4df9baba404bab37a15ba36eaf0c": {
          "model_module": "@jupyter-widgets/output",
          "model_name": "OutputModel",
          "state": {
            "_view_name": "OutputView",
            "msg_id": "",
            "_dom_classes": [],
            "_model_name": "OutputModel",
            "outputs": [
              {
                "output_type": "display_data",
                "metadata": {
                  "tags": [],
                  "needs_background": "light"
                },
                "image/png": "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\n",
                "text/plain": "<Figure size 432x288 with 2 Axes>"
              },
              {
                "output_type": "display_data",
                "metadata": {
                  "tags": [],
                  "needs_background": "light"
                },
                "image/png": "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\n",
                "text/plain": "<Figure size 432x288 with 2 Axes>"
              },
              {
                "output_type": "display_data",
                "metadata": {
                  "tags": [],
                  "needs_background": "light"
                },
                "image/png": "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\n",
                "text/plain": "<Figure size 432x288 with 2 Axes>"
              }
            ],
            "_view_module": "@jupyter-widgets/output",
            "_model_module_version": "1.0.0",
            "_view_count": null,
            "_view_module_version": "1.0.0",
            "layout": "IPY_MODEL_5048770511034e3aac1d0222428214fc",
            "_model_module": "@jupyter-widgets/output"
          }
        },
        "f5c7f07a9c6644a794ce8bf77397abfc": {
          "model_module": "@jupyter-widgets/controls",
          "model_name": "SliderStyleModel",
          "state": {
            "_view_name": "StyleView",
            "handle_color": null,
            "_model_name": "SliderStyleModel",
            "description_width": "",
            "_view_module": "@jupyter-widgets/base",
            "_model_module_version": "1.5.0",
            "_view_count": null,
            "_view_module_version": "1.2.0",
            "_model_module": "@jupyter-widgets/controls"
          }
        },
        "b15c9198e7dc48c49eb67f8011f0632f": {
          "model_module": "@jupyter-widgets/base",
          "model_name": "LayoutModel",
          "state": {
            "_view_name": "LayoutView",
            "grid_template_rows": null,
            "right": null,
            "justify_content": null,
            "_view_module": "@jupyter-widgets/base",
            "overflow": null,
            "_model_module_version": "1.2.0",
            "_view_count": null,
            "flex_flow": null,
            "width": null,
            "min_width": null,
            "border": null,
            "align_items": null,
            "bottom": null,
            "_model_module": "@jupyter-widgets/base",
            "top": null,
            "grid_column": null,
            "overflow_y": null,
            "overflow_x": null,
            "grid_auto_flow": null,
            "grid_area": null,
            "grid_template_columns": null,
            "flex": null,
            "_model_name": "LayoutModel",
            "justify_items": null,
            "grid_row": null,
            "max_height": null,
            "align_content": null,
            "visibility": null,
            "align_self": null,
            "height": null,
            "min_height": null,
            "padding": null,
            "grid_auto_rows": null,
            "grid_gap": null,
            "max_width": null,
            "order": null,
            "_view_module_version": "1.2.0",
            "grid_template_areas": null,
            "object_position": null,
            "object_fit": null,
            "grid_auto_columns": null,
            "margin": null,
            "display": null,
            "left": null
          }
        },
        "c65320ba50204e9dae8a10f867cc3d5c": {
          "model_module": "@jupyter-widgets/controls",
          "model_name": "SliderStyleModel",
          "state": {
            "_view_name": "StyleView",
            "handle_color": null,
            "_model_name": "SliderStyleModel",
            "description_width": "",
            "_view_module": "@jupyter-widgets/base",
            "_model_module_version": "1.5.0",
            "_view_count": null,
            "_view_module_version": "1.2.0",
            "_model_module": "@jupyter-widgets/controls"
          }
        },
        "c6631160c31540569b5c635dc5e4ffd6": {
          "model_module": "@jupyter-widgets/base",
          "model_name": "LayoutModel",
          "state": {
            "_view_name": "LayoutView",
            "grid_template_rows": null,
            "right": null,
            "justify_content": null,
            "_view_module": "@jupyter-widgets/base",
            "overflow": null,
            "_model_module_version": "1.2.0",
            "_view_count": null,
            "flex_flow": null,
            "width": null,
            "min_width": null,
            "border": null,
            "align_items": null,
            "bottom": null,
            "_model_module": "@jupyter-widgets/base",
            "top": null,
            "grid_column": null,
            "overflow_y": null,
            "overflow_x": null,
            "grid_auto_flow": null,
            "grid_area": null,
            "grid_template_columns": null,
            "flex": null,
            "_model_name": "LayoutModel",
            "justify_items": null,
            "grid_row": null,
            "max_height": null,
            "align_content": null,
            "visibility": null,
            "align_self": null,
            "height": null,
            "min_height": null,
            "padding": null,
            "grid_auto_rows": null,
            "grid_gap": null,
            "max_width": null,
            "order": null,
            "_view_module_version": "1.2.0",
            "grid_template_areas": null,
            "object_position": null,
            "object_fit": null,
            "grid_auto_columns": null,
            "margin": null,
            "display": null,
            "left": null
          }
        },
        "5048770511034e3aac1d0222428214fc": {
          "model_module": "@jupyter-widgets/base",
          "model_name": "LayoutModel",
          "state": {
            "_view_name": "LayoutView",
            "grid_template_rows": null,
            "right": null,
            "justify_content": null,
            "_view_module": "@jupyter-widgets/base",
            "overflow": null,
            "_model_module_version": "1.2.0",
            "_view_count": null,
            "flex_flow": null,
            "width": null,
            "min_width": null,
            "border": null,
            "align_items": null,
            "bottom": null,
            "_model_module": "@jupyter-widgets/base",
            "top": null,
            "grid_column": null,
            "overflow_y": null,
            "overflow_x": null,
            "grid_auto_flow": null,
            "grid_area": null,
            "grid_template_columns": null,
            "flex": null,
            "_model_name": "LayoutModel",
            "justify_items": null,
            "grid_row": null,
            "max_height": null,
            "align_content": null,
            "visibility": null,
            "align_self": null,
            "height": null,
            "min_height": null,
            "padding": null,
            "grid_auto_rows": null,
            "grid_gap": null,
            "max_width": null,
            "order": null,
            "_view_module_version": "1.2.0",
            "grid_template_areas": null,
            "object_position": null,
            "object_fit": null,
            "grid_auto_columns": null,
            "margin": null,
            "display": null,
            "left": null
          }
        },
        "4c911c3ca3f04f1580fd55bade2f0068": {
          "model_module": "@jupyter-widgets/controls",
          "model_name": "VBoxModel",
          "state": {
            "_view_name": "VBoxView",
            "_dom_classes": [
              "widget-interact"
            ],
            "_model_name": "VBoxModel",
            "_view_module": "@jupyter-widgets/controls",
            "_model_module_version": "1.5.0",
            "_view_count": null,
            "_view_module_version": "1.5.0",
            "box_style": "",
            "layout": "IPY_MODEL_bf50686e60f04ac58e2be48b1723a75b",
            "_model_module": "@jupyter-widgets/controls",
            "children": [
              "IPY_MODEL_afb5b654d37e47b4a740e774332ad567",
              "IPY_MODEL_7a66bfb4a7294b2bb0bb38839ab6cee7",
              "IPY_MODEL_1f34772a8c33404fafa1e3dcf006806a"
            ]
          }
        },
        "bf50686e60f04ac58e2be48b1723a75b": {
          "model_module": "@jupyter-widgets/base",
          "model_name": "LayoutModel",
          "state": {
            "_view_name": "LayoutView",
            "grid_template_rows": null,
            "right": null,
            "justify_content": null,
            "_view_module": "@jupyter-widgets/base",
            "overflow": null,
            "_model_module_version": "1.2.0",
            "_view_count": null,
            "flex_flow": null,
            "width": null,
            "min_width": null,
            "border": null,
            "align_items": null,
            "bottom": null,
            "_model_module": "@jupyter-widgets/base",
            "top": null,
            "grid_column": null,
            "overflow_y": null,
            "overflow_x": null,
            "grid_auto_flow": null,
            "grid_area": null,
            "grid_template_columns": null,
            "flex": null,
            "_model_name": "LayoutModel",
            "justify_items": null,
            "grid_row": null,
            "max_height": null,
            "align_content": null,
            "visibility": null,
            "align_self": null,
            "height": null,
            "min_height": null,
            "padding": null,
            "grid_auto_rows": null,
            "grid_gap": null,
            "max_width": null,
            "order": null,
            "_view_module_version": "1.2.0",
            "grid_template_areas": null,
            "object_position": null,
            "object_fit": null,
            "grid_auto_columns": null,
            "margin": null,
            "display": null,
            "left": null
          }
        },
        "afb5b654d37e47b4a740e774332ad567": {
          "model_module": "@jupyter-widgets/controls",
          "model_name": "IntSliderModel",
          "state": {
            "_view_name": "IntSliderView",
            "style": "IPY_MODEL_e8ef707ab98f48ba9170fe4786724b20",
            "_dom_classes": [],
            "description": "max_depth",
            "step": 1,
            "_model_name": "IntSliderModel",
            "orientation": "horizontal",
            "max": 6,
            "_view_module": "@jupyter-widgets/controls",
            "_model_module_version": "1.5.0",
            "value": 1,
            "_view_count": null,
            "disabled": false,
            "_view_module_version": "1.5.0",
            "min": 1,
            "continuous_update": true,
            "readout_format": "d",
            "description_tooltip": null,
            "readout": true,
            "_model_module": "@jupyter-widgets/controls",
            "layout": "IPY_MODEL_a4f412203b1f433888f0d6578d675ea6"
          }
        },
        "7a66bfb4a7294b2bb0bb38839ab6cee7": {
          "model_module": "@jupyter-widgets/controls",
          "model_name": "IntSliderModel",
          "state": {
            "_view_name": "IntSliderView",
            "style": "IPY_MODEL_1d3c3be8040c4d30b176dd58fcac0cb9",
            "_dom_classes": [],
            "description": "n_estimators",
            "step": 1,
            "_model_name": "IntSliderModel",
            "orientation": "horizontal",
            "max": 5,
            "_view_module": "@jupyter-widgets/controls",
            "_model_module_version": "1.5.0",
            "value": 2,
            "_view_count": null,
            "disabled": false,
            "_view_module_version": "1.5.0",
            "min": 2,
            "continuous_update": true,
            "readout_format": "d",
            "description_tooltip": null,
            "readout": true,
            "_model_module": "@jupyter-widgets/controls",
            "layout": "IPY_MODEL_376773f785904747af0da1effabe90b9"
          }
        },
        "1f34772a8c33404fafa1e3dcf006806a": {
          "model_module": "@jupyter-widgets/output",
          "model_name": "OutputModel",
          "state": {
            "_view_name": "OutputView",
            "msg_id": "",
            "_dom_classes": [],
            "_model_name": "OutputModel",
            "outputs": [
              {
                "output_type": "display_data",
                "metadata": {
                  "tags": [],
                  "needs_background": "light"
                },
                "image/png": "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\n",
                "text/plain": "<Figure size 432x288 with 2 Axes>"
              },
              {
                "output_type": "display_data",
                "metadata": {
                  "tags": [],
                  "needs_background": "light"
                },
                "image/png": "iVBORw0KGgoAAAANSUhEUgAAAVoAAAEFCAYAAACiiS9UAAAABHNCSVQICAgIfAhkiAAAAAlwSFlzAAALEgAACxIB0t1+/AAAADh0RVh0U29mdHdhcmUAbWF0cGxvdGxpYiB2ZXJzaW9uMy4yLjIsIGh0dHA6Ly9tYXRwbG90bGliLm9yZy+WH4yJAAASAklEQVR4nO3dfaxlVXnH8e9vBhEraGPxpWVQQaGKShURaG2VRLQDKYxpfQFrWqx1rIpptFqxGqRUU62tpqREHSP1pQpFDc1ERtH6RoMiM4iijKLjgMzgC6hI8RXm3qd/nDNyuJ17zzncs+acPXw/k5V79trrrr1uMnny5Nlr75OqQpLUzoppL0CS9nQGWklqzEArSY0ZaCWpMQOtJDVmoJWkxgy0ktSYgVZDJfnJQJtP8vOB4z9tdM17JnlXkm8nuTXJl5Ic3+JaUmt7TXsBmn1Vte/Oz0muA/6yqv574bgke1XVjglddi9gG/Bk4HrgBOCCJI+pqusmdA1ptzCj1V2W5Ngk25O8Ksn3gH9PsiLJ6Um+leSHSS5Icr+B3zkmyeeS/DjJl5Mcu6u5q+qnVXVmVV1XVfNV9RHgWuDxu+evkybHQKvlehBwP+AhwFrgpcDT6WWivwXcDJwDkOQA4CLg9f3feQXw4ST3H3aRJA8EDgWunvyfILVloNVyzQOvq6pfVtXPgb8CXlNV26vql8CZwDOS7AU8F9hQVRv6WeongE30ygKLSnIP4P3Ae6rq6y3/GKkFa7Rarpuq6hcDxw8BLkwyP9A3Bzywf+6ZSU4cOHcP4NOLTZ5kBfA+4DbgtImtWtqNDLRaroWvf9sG/EVVXbpwYJJtwPuq6gWjTJwkwLvoBekTqur25S5WmgZLB5q0twNvSPIQgCT3T7Kmf+4/gBOT/GGSlUn26d9QW7XIXG8DHgmc2C9LSJ1koNWk/SuwHvh4kluBy4CjAapqG7AG+DvgJnrZ7yvZxf/DfqB+IfBY4Hut9+1KLcUXf0tSW2a0ktSYgVaSBiQ5N8mNSb66yPkkOTvJliRXJTli2JwGWkm6s3cDq5c4fzxwSL+tpXfTdkkGWkkaUFWXAD9aYsga4L3Vcxnw60l+c6k5m+yj3fqYp3mHTdrNvnHj/YYPmkGrv39+ljvH7T/YOnLM2fv+D3shvUx0p3VVtW6Myx1Ab8fMTtv7fd9d7Bd8YEHS3Uo/qI4TWJfNQCup++bndufVbgAOHDhe1e9blDVaSd03t2P0tnzrgT/r7z44BrilqhYtG4AZraQ9QNX88EEjSnIecCywf5LtwOvovfyIqno7sIHeG+e2AD8DnjdsTgOtpO6bn1ygrapThpwv4CXjzGmgldR9E8xoWzDQSuq+3XszbGwGWkndZ0YrSW3VZHYTNGOgldR9E7wZ1oKBVlL3WTqQpMa8GSZJjZnRSlJj3gyTpMa8GSZJbVVZo5WktqzRSlJjlg4kqTEzWklqbO72aa9gSQZaSd1n6UCSGrN0IEmNmdFKUmMGWklqq7wZJkmNWaOVpMYsHUhSY2a0ktSYGa0kNWZGK0mN7fDF35LUlhmtJDVmjVaSGjOjlaTGzGglqTEzWklqzF0HktRY1bRXsCQDraTus0YrSY3NeKBdMe0FSNKy1fzobYgkq5Nck2RLktN3cf7BST6d5MokVyU5YdicZrSSum9ubiLTJFkJnAM8FdgObEyyvqo2Dwx7LXBBVb0tyWHABuChS81roJXUfZMrHRwFbKmqrQBJzgfWAIOBtoD79D/fF/jOsEkNtJK6b4xAm2QtsHaga11Vret/PgDYNnBuO3D0ginOBD6e5KXAvYHjhl3TQCup+8Z4YKEfVNcNHbi4U4B3V9W/JPld4H1JHl21+CIMtJI6r+Ynto/2BuDAgeNV/b5BzwdWA1TV55PsA+wP3LjYpO46kNR98/Ojt6VtBA5JclCSvYGTgfULxlwPPAUgySOBfYCblprUjFZS901o10FV7UhyGnAxsBI4t6quTnIWsKmq1gN/A7wzycvo3Rg7tWrpR9MMtJK6b4IPLFTVBnpbtgb7zhj4vBl44jhzGmgldd+MPxlmoJXUfb5URpIaM6OVpMYmt72rCQOtpO6b0K6DVgy0kjqvLB1IUmOWDiSpMb+cUZIaM6OVpMZ2eDNMktqydCBJjVk6kKS23N4lSa2Z0UpSYwZaSWrMR3Alqa0JfmdYEwZaSd1noJWkxtx1IEmNmdFKUmMGWklqq+YsHUhSW2a0ktSW27skqTUDrSQ1NtslWgOtpO6rHbMdaQ20krpvtuOsgVZS93kzTJJaM6OVpLbMaCWpNTNaSWqrdkx7BUsz0ErqvBn/tnFWTHsBkrRs82O0IZKsTnJNki1JTl9kzLOSbE5ydZIPDJvTjFZS500qo02yEjgHeCqwHdiYZH1VbR4YcwjwauCJVXVzkgcMm9eMVlLn1fzobYijgC1VtbWqbgPOB9YsGPMC4Jyquhmgqm4cNqmBVlLn1VxGbknWJtk00NYOTHUAsG3geHu/b9ChwKFJLk1yWZLVw9Zn6UBS541TOqiqdcC6ZVxuL+AQ4FhgFXBJksdU1Y+X+gVJ6rSaz6SmugE4cOB4Vb9v0HbgC1V1O3Btkm/QC7wbF5vU0oGkzptgjXYjcEiSg5LsDZwMrF8w5r/oZbMk2Z9eKWHrUpOa0UrqvKrJZLRVtSPJacDFwErg3Kq6OslZwKaqWt8/97Qkm4E54JVV9cOl5jXQSuq8ST6wUFUbgA0L+s4Y+FzAy/ttJCOVDpIcmuSTSb7aPz48yWtHvYgktTQ/l5HbNIxao30nvQ26twNU1VX0aheSNHU1n5HbNIxaOvi1qro8udMiZ/w1DpLuLqYVQEc1aqD9QZKHAQWQ5BnAd5utSpLGULP9OtqRA+1L6G3wfUSSG4Brgec2W5UkjWGPyGiraitwXJJ7Ayuq6ta2y5Kk0U1qe1crSwbaJLvcvrCzVltVb2mwJkkay9yUdhOMalhGu1//528DT+COJyROBC5vtShJGkenM9qq+nuAJJcAR+wsGSQ5E7io+eokaQR7RI0WeCBw28Dxbf0+SZq6PWXXwXuBy5Nc2D9+OvCeNkuSpPHsERltVb0hyUeBP+h3Pa+qrmy3LEka3dz8bL+IcKRAm+TBwA+ACwf7qur6VguTpFHtKaWDi+g/FQbcCzgIuAZ4VItFSdI45ru862CnqnrM4HGSI4AXN1mRJI2p09u7FlNVX0xy9KQXI0l3xR5ROljwhNgK4AjgO01WJElj2iNKB9zxhBj0Xo94EfDhyS9Hksa3R+w6ADZX1QcHO5I8E/jgIuMlabeZ8crByN+w8OoR+yRpt5uvjNymYdjbu44HTgAOSHL2wKn74DcsSJoRXd918B1gE3AScMVA/63Ay1otSpLGMcEvwW1i2Nu7vgx8Ocn7q8oMVtJMKjqc0Sa5oKqeBVyZ5P/Vm6vq8GYrk6QR7eh46eCv+z//qPVCJOmumvWMdsldB1W185tuX1xV3x5s+AiupBkxP0abhlG3dz11F33HT3IhknRXFRm5TcOwGu2L6GWuBye5auDUfsClLRcmSaPq9K4D4APAR4F/BE4f6L+1qn7UbFWSNIa5Ga/RDtvedQtwC3AKQJIHAPsA+ybZ1xd/S5oFM/5NNqPVaJOcmOSbwLXAZ4Hr6GW6kjR182TkNg2j3gx7PXAM8I2qOgh4CnBZs1VJ0hhqjDYNowba26vqh8CKJCuq6tPAkQ3XJUkjm/XtXaO+JvHHSfYFLgHen+RG4KftliVJo5vPbBdpR81o1wA/p/cimY8B3wJObLUoSRrH3BhtGkYKtFX106qaq6odVfWeqjq7X0qQpKmbz+htmCSrk1yTZEuS05cY9ydJKsnQMuqwBxZuZdf14wBVVfcZumpJamxSuwmSrATOofc07HZgY5L1VbV5wbj96L0L5gujzDvsXQf7VdV9dtH2M8hKmhUT3HVwFLClqrZW1W3A+fRKpwv9A/Am4BejrG+2v9FMkkYwTukgydokmwba2oGpDgC2DRxv7/f9SpIjgAOr6qJR1zfqrgNJmlnjbNuqqnXAurtynSQrgLcAp47zewZaSZ03N7ndXTcABw4cr+r37bQf8GjgM+ltKXsQsD7JSVW1abFJDbSSOm+CDyJsBA5JchC9AHsy8JydJ/vvf9l/53GSzwCvWCrIgjVaSXuAST0Z1v9uxNOAi4GvARdU1dVJzkpy0l1dnxmtpM6b5FeGVdUGYMOCvjMWGXvsKHMaaCV1Xtdf/C1JM29aj9aOykArqfNm/cXfBlpJnWfpQJIaM9BKUmPT+uaEURloJXWeNVpJasxdB5LU2PyMFw8MtJI6z5thktTYbOezBlpJewAzWklqbEdmO6c10ErqvNkOswZaSXsASweS1JjbuySpsdkOswZaSXsASweS1NjcjOe0BlpJnWdGK0mNlRmtJLVlRitJjbm9S5Iam+0wa6CVtAfYMeOh1kArqfO8GSZJjXkzTJIaM6OVpMbMaCWpsbkyo5WkptxHK0mNWaOVpMas0UpSY7NeOlgx7QVI0nLVGP+GSbI6yTVJtiQ5fRfnX55kc5KrknwyyUOGzWmgldR5c1Ujt6UkWQmcAxwPHAackuSwBcOuBI6sqsOBDwH/NGx9BlpJnTdPjdyGOArYUlVbq+o24HxgzeCAqvp0Vf2sf3gZsGrYpAZaSZ03P0ZLsjbJpoG2dmCqA4BtA8fb+32LeT7w0WHr82aYpM4bZ3tXVa0D1i33mkmeCxwJPHnYWAOtpM6b4K6DG4ADB45X9fvuJMlxwGuAJ1fVL4dNaqCV1Hk1uUdwNwKHJDmIXoA9GXjO4IAkjwPeAayuqhtHmdRAK6nzJvV141W1I8lpwMXASuDcqro6yVnApqpaD7wZ2Bf4YBKA66vqpKXmNdBK6rxJPrBQVRuADQv6zhj4fNy4cxpoJXXeBEsHTRhoJXXerD+Ca6CV1Hm+vUuSGvPF35LUmKUDSWrMQCtJjbnrQJIaM6OVpMbcdSBJjc3VbH9rmIFWUudZo5WkxqzRSlJj1mglqbF5SweS1JYZrSQ15q4DSWrM0oEkNWbpQJIaM6OVpMbMaCWpsbmam/YSlmSgldR5PoIrSY35CK4kNWZGK0mNuetAkhpz14EkNeYjuJLUmDVaSWrMGq0kNWZGK0mNuY9Wkhozo5Wkxtx1IEmNeTNMkhqb9dLBimkvQJKWq8b4N0yS1UmuSbIlyem7OH/PJP/ZP/+FJA8dNqeBVlLnVdXIbSlJVgLnAMcDhwGnJDlswbDnAzdX1cOBtwJvGrY+A62kzpuvGrkNcRSwpaq2VtVtwPnAmgVj1gDv6X/+EPCUJFlq0iY12oO/8vElLypp8g6e9gKmaMdtN4wcc5KsBdYOdK2rqnX9zwcA2wbObQeOXjDFr8ZU1Y4ktwC/AfxgsWt6M0zS3Uo/qK4bOnCCLB1I0h1uAA4cOF7V79vlmCR7AfcFfrjUpAZaSbrDRuCQJAcl2Rs4GVi/YMx64M/7n58BfKqG3GWzdCBJff2a62nAxcBK4NyqujrJWcCmqloPvAt4X5ItwI/oBeMlZdY3+mr3SvKTqtp3wnOeBBxWVW9M8nTgG1W1ecw5PgO8oqo2TXJt0u5g6UDNVdX6qnpj//Dp9PYnSncbBlrtUnrenOSrSb6S5Nn9/mOTfCbJh5J8Pcn7d+4hTHJCv++KJGcn+Ui//9Qk/5bk94CTgDcn+VKSh/XnOrI/bv8k1/U/3yvJ+Um+luRC4F4Da3taks8n+WKSDyaZaAYuTZo1Wi3mj4HHAr8D7A9sTHJJ/9zjgEcB3wEuBZ6YZBPwDuBJVXVtkvMWTlhVn0uyHvhIVX0IYIl93i8CflZVj0xyOPDF/vj9gdcCx1XVT5O8Cng5cNYk/mipBQOtFvP7wHlVNQd8P8lngScA/wtcXlXbAZJ8CXgo8BNga1Vd2//987jzpvBxPQk4G6CqrkpyVb//GHqlh0v7QXpv4PPLuI7UnIFWd8UvBz7Psbz/Rzu4o4S1zwjjA3yiqk5ZxjWl3coarRbzP8Czk6xMcn96GeblS4y/Bjh44E1Gz15k3K3AfgPH1wGP739+xkD/JcBzAJI8Gji8338ZvVLFw/vn7p3k0BH+HmlqDLRazIXAVcCXgU8Bf1tV31tscFX9HHgx8LEkV9ALqLfsYuj5wCuTXJnkYcA/Ay9KciW9WvBObwP2TfI1evXXK/rXuQk4FTivX074PPCI5fyhUmvuo9XEJNm3qn7S34VwDvDNqnrrtNclTZsZrSbpBf2bY1fTe/77HVNejzQTzGglqTEzWklqzEArSY0ZaCWpMQOtJDVmoJWkxv4PAOiT3U9ZY6wAAAAASUVORK5CYII=\n",
                "text/plain": "<Figure size 432x288 with 2 Axes>"
              },
              {
                "output_type": "display_data",
                "metadata": {
                  "tags": [],
                  "needs_background": "light"
                },
                "image/png": "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\n",
                "text/plain": "<Figure size 432x288 with 2 Axes>"
              }
            ],
            "_view_module": "@jupyter-widgets/output",
            "_model_module_version": "1.0.0",
            "_view_count": null,
            "_view_module_version": "1.0.0",
            "layout": "IPY_MODEL_0d3159e7499c473c98b96fe6b6945cf2",
            "_model_module": "@jupyter-widgets/output"
          }
        },
        "e8ef707ab98f48ba9170fe4786724b20": {
          "model_module": "@jupyter-widgets/controls",
          "model_name": "SliderStyleModel",
          "state": {
            "_view_name": "StyleView",
            "handle_color": null,
            "_model_name": "SliderStyleModel",
            "description_width": "",
            "_view_module": "@jupyter-widgets/base",
            "_model_module_version": "1.5.0",
            "_view_count": null,
            "_view_module_version": "1.2.0",
            "_model_module": "@jupyter-widgets/controls"
          }
        },
        "a4f412203b1f433888f0d6578d675ea6": {
          "model_module": "@jupyter-widgets/base",
          "model_name": "LayoutModel",
          "state": {
            "_view_name": "LayoutView",
            "grid_template_rows": null,
            "right": null,
            "justify_content": null,
            "_view_module": "@jupyter-widgets/base",
            "overflow": null,
            "_model_module_version": "1.2.0",
            "_view_count": null,
            "flex_flow": null,
            "width": null,
            "min_width": null,
            "border": null,
            "align_items": null,
            "bottom": null,
            "_model_module": "@jupyter-widgets/base",
            "top": null,
            "grid_column": null,
            "overflow_y": null,
            "overflow_x": null,
            "grid_auto_flow": null,
            "grid_area": null,
            "grid_template_columns": null,
            "flex": null,
            "_model_name": "LayoutModel",
            "justify_items": null,
            "grid_row": null,
            "max_height": null,
            "align_content": null,
            "visibility": null,
            "align_self": null,
            "height": null,
            "min_height": null,
            "padding": null,
            "grid_auto_rows": null,
            "grid_gap": null,
            "max_width": null,
            "order": null,
            "_view_module_version": "1.2.0",
            "grid_template_areas": null,
            "object_position": null,
            "object_fit": null,
            "grid_auto_columns": null,
            "margin": null,
            "display": null,
            "left": null
          }
        },
        "1d3c3be8040c4d30b176dd58fcac0cb9": {
          "model_module": "@jupyter-widgets/controls",
          "model_name": "SliderStyleModel",
          "state": {
            "_view_name": "StyleView",
            "handle_color": null,
            "_model_name": "SliderStyleModel",
            "description_width": "",
            "_view_module": "@jupyter-widgets/base",
            "_model_module_version": "1.5.0",
            "_view_count": null,
            "_view_module_version": "1.2.0",
            "_model_module": "@jupyter-widgets/controls"
          }
        },
        "376773f785904747af0da1effabe90b9": {
          "model_module": "@jupyter-widgets/base",
          "model_name": "LayoutModel",
          "state": {
            "_view_name": "LayoutView",
            "grid_template_rows": null,
            "right": null,
            "justify_content": null,
            "_view_module": "@jupyter-widgets/base",
            "overflow": null,
            "_model_module_version": "1.2.0",
            "_view_count": null,
            "flex_flow": null,
            "width": null,
            "min_width": null,
            "border": null,
            "align_items": null,
            "bottom": null,
            "_model_module": "@jupyter-widgets/base",
            "top": null,
            "grid_column": null,
            "overflow_y": null,
            "overflow_x": null,
            "grid_auto_flow": null,
            "grid_area": null,
            "grid_template_columns": null,
            "flex": null,
            "_model_name": "LayoutModel",
            "justify_items": null,
            "grid_row": null,
            "max_height": null,
            "align_content": null,
            "visibility": null,
            "align_self": null,
            "height": null,
            "min_height": null,
            "padding": null,
            "grid_auto_rows": null,
            "grid_gap": null,
            "max_width": null,
            "order": null,
            "_view_module_version": "1.2.0",
            "grid_template_areas": null,
            "object_position": null,
            "object_fit": null,
            "grid_auto_columns": null,
            "margin": null,
            "display": null,
            "left": null
          }
        },
        "0d3159e7499c473c98b96fe6b6945cf2": {
          "model_module": "@jupyter-widgets/base",
          "model_name": "LayoutModel",
          "state": {
            "_view_name": "LayoutView",
            "grid_template_rows": null,
            "right": null,
            "justify_content": null,
            "_view_module": "@jupyter-widgets/base",
            "overflow": null,
            "_model_module_version": "1.2.0",
            "_view_count": null,
            "flex_flow": null,
            "width": null,
            "min_width": null,
            "border": null,
            "align_items": null,
            "bottom": null,
            "_model_module": "@jupyter-widgets/base",
            "top": null,
            "grid_column": null,
            "overflow_y": null,
            "overflow_x": null,
            "grid_auto_flow": null,
            "grid_area": null,
            "grid_template_columns": null,
            "flex": null,
            "_model_name": "LayoutModel",
            "justify_items": null,
            "grid_row": null,
            "max_height": null,
            "align_content": null,
            "visibility": null,
            "align_self": null,
            "height": null,
            "min_height": null,
            "padding": null,
            "grid_auto_rows": null,
            "grid_gap": null,
            "max_width": null,
            "order": null,
            "_view_module_version": "1.2.0",
            "grid_template_areas": null,
            "object_position": null,
            "object_fit": null,
            "grid_auto_columns": null,
            "margin": null,
            "display": null,
            "left": null
          }
        }
      }
    }
  },
  "cells": [
    {
      "cell_type": "markdown",
      "metadata": {
        "id": "view-in-github",
        "colab_type": "text"
      },
      "source": [
        "<a href=\"https://colab.research.google.com/github/nsriniva/DS-Unit-2-Kaggle-Challenge/blob/master/module2-random-forests/LS_DS_222_NK_UNSOLVED.ipynb\" target=\"_parent\"><img src=\"https://colab.research.google.com/assets/colab-badge.svg\" alt=\"Open In Colab\"/></a>"
      ]
    },
    {
      "cell_type": "markdown",
      "metadata": {
        "id": "UEHyIgGaaSEJ"
      },
      "source": [
        "Lambda School Data Science\n",
        "\n",
        "*Unit 2, Sprint 2, Module 2*\n",
        "\n",
        "---"
      ]
    },
    {
      "cell_type": "markdown",
      "metadata": {
        "id": "mRfPLX4WgLVJ"
      },
      "source": [
        "# Random Forests"
      ]
    },
    {
      "cell_type": "markdown",
      "metadata": {
        "id": "jRRNhkxcgLVK"
      },
      "source": [
        "- use scikit-learn for **random forests**\n",
        "- do **ordinal encoding** with high-cardinality categoricals\n",
        "- understand how categorical encodings affect trees differently compared to linear models\n",
        "- understand how tree ensembles reduce overfitting compared to a single decision tree with unlimited depth"
      ]
    },
    {
      "cell_type": "markdown",
      "metadata": {
        "id": "-3TH11e1gLVL"
      },
      "source": [
        "Today's lesson has two take-away messages:\n",
        "\n",
        "#### Try Tree Ensembles when you do machine learning with labeled, tabular data\n",
        "- \"Tree Ensembles\" means Random Forest or Gradient Boosting models. \n",
        "- [Tree Ensembles often have the best predictive accuracy](https://arxiv.org/abs/1708.05070) with labeled, tabular data.\n",
        "- Why? Because trees can fit non-linear, non-[monotonic](https://en.wikipedia.org/wiki/Monotonic_function) relationships, and [interactions](https://christophm.github.io/interpretable-ml-book/interaction.html) between features.\n",
        "- A single decision tree, grown to unlimited depth, will [overfit](http://www.r2d3.us/visual-intro-to-machine-learning-part-1/). We solve this problem by ensembling trees, with bagging (Random Forest) or boosting (Gradient Boosting).\n",
        "- Random Forest's advantage: may be less sensitive to hyperparameters. Gradient Boosting's advantage: may get better predictive accuracy.\n",
        "\n",
        "#### One-hot encoding isn’t the only way, and may not be the best way, of categorical encoding for tree ensembles.\n",
        "- For example, tree ensembles can work with arbitrary \"ordinal\" encoding! (Randomly assigning an integer to each category.) Compared to one-hot encoding, the dimensionality will be lower, and the predictive accuracy may be just as good or even better.\n"
      ]
    },
    {
      "cell_type": "markdown",
      "metadata": {
        "id": "r5PbOFEuFfGF"
      },
      "source": [
        "### Setup\n",
        "\n",
        "Run the code cell below. You can work locally (follow the [local setup instructions](https://lambdaschool.github.io/ds/unit2/local/)) or on Colab.\n",
        "\n",
        "Libraries\n",
        "\n",
        "- **category_encoders** \n",
        "- **graphviz**\n",
        "- ipywidgets\n",
        "- matplotlib\n",
        "- numpy\n",
        "- pandas\n",
        "- seaborn\n",
        "- scikit-learn"
      ]
    },
    {
      "cell_type": "code",
      "metadata": {
        "id": "FStAplyRFoEu"
      },
      "source": [
        "%%capture\n",
        "import sys\n",
        "\n",
        "# If you're on Colab:\n",
        "if 'google.colab' in sys.modules:\n",
        "    DATA_PATH = 'https://raw.githubusercontent.com/LambdaSchool/DS-Unit-2-Kaggle-Challenge/master/data/'\n",
        "    !pip install category_encoders==2.*\n",
        "\n",
        "# If you're working locally:\n",
        "else:\n",
        "    DATA_PATH = '../data/'"
      ],
      "execution_count": null,
      "outputs": []
    },
    {
      "cell_type": "markdown",
      "metadata": {
        "id": "ZL-yK8B7gLVW"
      },
      "source": [
        "# Use scikit-learn for random forests"
      ]
    },
    {
      "cell_type": "markdown",
      "metadata": {
        "id": "I8QvxCbDXYiA"
      },
      "source": [
        "## Overview\n",
        "\n",
        "Let's fit a Random Forest!\n",
        "\n",
        "![](https://pbs.twimg.com/media/EGSvKA0UUAEzUZi?format=png)\n",
        "\n",
        "[Chris Albon, MachineLearningFlashcards.com](https://twitter.com/chrisalbon/status/1181261589887909889)"
      ]
    },
    {
      "cell_type": "markdown",
      "metadata": {
        "id": "gHFxMCPSgLVM"
      },
      "source": [
        "### Solution example\n",
        "\n",
        "First, read & wrangle the data.\n",
        "\n",
        "> Define a function to wrangle train, validate, and test sets in the same way. Clean outliers and engineer features. (For example, [what other columns have zeros and shouldn't?](https://github.com/Quartz/bad-data-guide#zeros-replace-missing-values) What other columns are duplicates, or nearly duplicates? Can you extract the year from date_recorded? Can you engineer new features, such as the number of years from waterpump construction to waterpump inspection?)"
      ]
    },
    {
      "cell_type": "code",
      "metadata": {
        "id": "YTLm-rDagLVM"
      },
      "source": [
        "import numpy as np\n",
        "import pandas as pd\n",
        "from sklearn.model_selection import train_test_split\n",
        "\n",
        "# Merge train_features.csv & train_labels.csv\n",
        "train = pd.merge(pd.read_csv(DATA_PATH+'waterpumps/train_features.csv'), \n",
        "                 pd.read_csv(DATA_PATH+'waterpumps/train_labels.csv'))\n",
        "\n",
        "# Read test_features.csv & sample_submission.csv\n",
        "test = pd.read_csv(DATA_PATH+'waterpumps/test_features.csv')\n",
        "sample_submission = pd.read_csv(DATA_PATH+'waterpumps/sample_submission.csv')\n",
        "\n",
        "# Split train into train & val\n",
        "train, val = train_test_split(train, train_size=0.80, test_size=0.20, \n",
        "                              stratify=train['status_group'], random_state=42)\n",
        "\n",
        "\n",
        "def wrangle(X):\n",
        "    \"\"\"Wrangle train, validate, and test sets in the same way\"\"\"\n",
        "    \n",
        "    # Prevent SettingWithCopyWarning\n",
        "    X = X.copy()\n",
        "    \n",
        "    # About 3% of the time, latitude has small values near zero,\n",
        "    # outside Tanzania, so we'll treat these values like zero.\n",
        "    X['latitude'] = X['latitude'].replace(-2e-08, 0)\n",
        "    \n",
        "    # When columns have zeros and shouldn't, they are like null values.\n",
        "    # So we will replace the zeros with nulls, and impute missing values later.\n",
        "    # Also create a \"missing indicator\" column, because the fact that\n",
        "    # values are missing may be a predictive signal.\n",
        "    cols_with_zeros = ['longitude', 'latitude', 'construction_year', \n",
        "                       'gps_height', 'population']\n",
        "    for col in cols_with_zeros:\n",
        "        X[col] = X[col].replace(0, np.nan)\n",
        "        X[col+'_MISSING'] = X[col].isnull()\n",
        "            \n",
        "    # Drop duplicate columns\n",
        "    duplicates = ['quantity_group', 'payment_type']\n",
        "    X = X.drop(columns=duplicates)\n",
        "    \n",
        "    # Drop recorded_by (never varies) and id (always varies, random)\n",
        "    unusable_variance = ['recorded_by', 'id']\n",
        "    X = X.drop(columns=unusable_variance)\n",
        "    \n",
        "    # Convert date_recorded to datetime\n",
        "    X['date_recorded'] = pd.to_datetime(X['date_recorded'], infer_datetime_format=True)\n",
        "    \n",
        "    # Extract components from date_recorded, then drop the original column\n",
        "    X['year_recorded'] = X['date_recorded'].dt.year\n",
        "    X['month_recorded'] = X['date_recorded'].dt.month\n",
        "    X['day_recorded'] = X['date_recorded'].dt.day\n",
        "    X = X.drop(columns='date_recorded')\n",
        "    \n",
        "    # Engineer feature: how many years from construction_year to date_recorded\n",
        "    X['years'] = X['year_recorded'] - X['construction_year']\n",
        "    X['years_MISSING'] = X['years'].isnull()\n",
        "    \n",
        "    # return the wrangled dataframe\n",
        "    return X\n",
        "\n",
        "train = wrangle(train)\n",
        "val = wrangle(val)\n",
        "test = wrangle(test)"
      ],
      "execution_count": null,
      "outputs": []
    },
    {
      "cell_type": "code",
      "metadata": {
        "id": "m2HppBvZgLVP",
        "outputId": "7a025b2f-e963-4a71-8450-10e75994c84f",
        "colab": {
          "base_uri": "https://localhost:8080/"
        }
      },
      "source": [
        "# The status_group column is the target\n",
        "target = 'status_group'\n",
        "\n",
        "# Get a dataframe with all train columns except the target\n",
        "train_features = train.drop(columns=[target])\n",
        "\n",
        "# Get a list of the numeric features\n",
        "numeric_features = train_features.select_dtypes(include='number').columns.tolist()\n",
        "\n",
        "# Get a series with the cardinality of the nonnumeric features\n",
        "cardinality = train_features.select_dtypes(exclude='number').nunique()\n",
        "\n",
        "# Get a list of all categorical features with cardinality <= 50\n",
        "categorical_features = cardinality[cardinality <= 50].index.tolist()\n",
        "\n",
        "# Combine the lists \n",
        "features = numeric_features + categorical_features\n",
        "features"
      ],
      "execution_count": null,
      "outputs": [
        {
          "output_type": "execute_result",
          "data": {
            "text/plain": [
              "['amount_tsh',\n",
              " 'gps_height',\n",
              " 'longitude',\n",
              " 'latitude',\n",
              " 'num_private',\n",
              " 'region_code',\n",
              " 'district_code',\n",
              " 'population',\n",
              " 'construction_year',\n",
              " 'year_recorded',\n",
              " 'month_recorded',\n",
              " 'day_recorded',\n",
              " 'years',\n",
              " 'basin',\n",
              " 'region',\n",
              " 'public_meeting',\n",
              " 'scheme_management',\n",
              " 'permit',\n",
              " 'extraction_type',\n",
              " 'extraction_type_group',\n",
              " 'extraction_type_class',\n",
              " 'management',\n",
              " 'management_group',\n",
              " 'payment',\n",
              " 'water_quality',\n",
              " 'quality_group',\n",
              " 'quantity',\n",
              " 'source',\n",
              " 'source_type',\n",
              " 'source_class',\n",
              " 'waterpoint_type',\n",
              " 'waterpoint_type_group',\n",
              " 'longitude_MISSING',\n",
              " 'latitude_MISSING',\n",
              " 'construction_year_MISSING',\n",
              " 'gps_height_MISSING',\n",
              " 'population_MISSING',\n",
              " 'years_MISSING']"
            ]
          },
          "metadata": {
            "tags": []
          },
          "execution_count": 7
        }
      ]
    },
    {
      "cell_type": "code",
      "metadata": {
        "id": "aXmK2brXgLVR"
      },
      "source": [
        "# Arrange data into X features matrix and y target vector \n",
        "X_train = train[features]\n",
        "y_train = train[target]\n",
        "X_val = val[features]\n",
        "y_val = val[target]\n",
        "X_test = test[features]"
      ],
      "execution_count": null,
      "outputs": []
    },
    {
      "cell_type": "markdown",
      "metadata": {
        "id": "K18ZCrOhXYiT"
      },
      "source": [
        "## Follow Along\n",
        "\n",
        "[Scikit-Learn User Guide: Random Forests](https://scikit-learn.org/stable/modules/ensemble.html#random-forests) "
      ]
    },
    {
      "cell_type": "code",
      "metadata": {
        "id": "57yyygsdgLVW",
        "outputId": "66ec01ca-e781-4620-f6d2-1c7abe0def7a",
        "colab": {
          "base_uri": "https://localhost:8080/"
        }
      },
      "source": [
        "# TODO\n",
        "%%time\n",
        "# Re-arrange data into X features matrix and y target vectors so we are going to use *all* features, including the high-cardinality categoricals. \n",
        "\n",
        "\n",
        "\n",
        "import category_encoders as ce \n",
        "from sklearn.ensemble import RandomForestClassifier\n",
        "from sklearn.impute import SimpleImputer \n",
        "from sklearn.pipeline import make_pipeline\n",
        "\n",
        "pipeline = make_pipeline(\n",
        "    ce.OneHotEncoder(use_cat_names=True),\n",
        "    SimpleImputer(strategy='median'),\n",
        "    RandomForestClassifier(random_state=0, n_jobs=-1)\n",
        ")\n",
        "\n",
        "#fit \n",
        "pipeline.fit(X_train, y_train)\n",
        "print(\"Validation Accuracy\", pipeline.score(X_val, y_val))\n",
        "\n"
      ],
      "execution_count": null,
      "outputs": [
        {
          "output_type": "stream",
          "text": [
            "/usr/local/lib/python3.6/dist-packages/statsmodels/tools/_testing.py:19: FutureWarning: pandas.util.testing is deprecated. Use the functions in the public API at pandas.testing instead.\n",
            "  import pandas.util.testing as tm\n",
            "/usr/local/lib/python3.6/dist-packages/category_encoders/utils.py:21: FutureWarning: is_categorical is deprecated and will be removed in a future version.  Use is_categorical_dtype instead\n",
            "  elif pd.api.types.is_categorical(cols):\n"
          ],
          "name": "stderr"
        },
        {
          "output_type": "stream",
          "text": [
            "Validation Accuracy 0.8088383838383838\n",
            "CPU times: user 26.5 s, sys: 534 ms, total: 27 s\n",
            "Wall time: 16.7 s\n"
          ],
          "name": "stdout"
        }
      ]
    },
    {
      "cell_type": "code",
      "metadata": {
        "id": "F7yeWqFAmtU2",
        "outputId": "3a1e1974-c8c4-4fae-8c8e-e9021e362564",
        "colab": {
          "base_uri": "https://localhost:8080/"
        }
      },
      "source": [
        "print('X_train shape before encoding', X_train.shape)"
      ],
      "execution_count": null,
      "outputs": [
        {
          "output_type": "stream",
          "text": [
            "X_train shape before encoding (47520, 38)\n"
          ],
          "name": "stdout"
        }
      ]
    },
    {
      "cell_type": "code",
      "metadata": {
        "id": "W0egomYrmwf5",
        "outputId": "e18fd75b-2f15-4d06-9160-bf229e950884",
        "colab": {
          "base_uri": "https://localhost:8080/"
        }
      },
      "source": [
        "encoder = pipeline.named_steps['onehotencoder']\n",
        "encoded = encoder.transform(X_train)\n",
        "print('X_train shape after encoding', encoded.shape)"
      ],
      "execution_count": null,
      "outputs": [
        {
          "output_type": "stream",
          "text": [
            "X_train shape after encoding (47520, 182)\n"
          ],
          "name": "stdout"
        }
      ]
    },
    {
      "cell_type": "code",
      "metadata": {
        "id": "IXIGZ2PmnLNn",
        "outputId": "51bd32d0-8380-4852-ee38-380e9c41188f",
        "colab": {
          "base_uri": "https://localhost:8080/",
          "height": 607
        }
      },
      "source": [
        "%matplotlib inline\n",
        "import matplotlib.pyplot as plt\n",
        "\n",
        "# Get feature importances\n",
        "rf = pipeline.named_steps['randomforestclassifier']\n",
        "importances = pd.Series(rf.feature_importances_, encoded.columns)\n",
        "\n",
        "# Plot top n feature importances\n",
        "n = 20\n",
        "plt.figure(figsize=(10,n/2))\n",
        "plt.title(f'Top {n} features')\n",
        "importances.sort_values()[-n:].plot.barh();"
      ],
      "execution_count": null,
      "outputs": [
        {
          "output_type": "display_data",
          "data": {
            "image/png": "[encoded data removed]",
            "text/plain": [
              "<Figure size 720x720 with 1 Axes>"
            ]
          },
          "metadata": {
            "tags": [],
            "needs_background": "light"
          }
        }
      ]
    },
    {
      "cell_type": "markdown",
      "metadata": {
        "id": "yfyk_aa5gLVY"
      },
      "source": [
        "# Do ordinal encoding with high-cardinality categoricals"
      ]
    },
    {
      "cell_type": "markdown",
      "metadata": {
        "id": "G_1J2155XYib"
      },
      "source": [
        "## Overview\n",
        "\n",
        "https://contrib.scikit-learn.org/category_encoders/ordinal.html"
      ]
    },
    {
      "cell_type": "markdown",
      "metadata": {
        "id": "2CWOlKfKXYic"
      },
      "source": [
        "## Follow Along"
      ]
    },
    {
      "cell_type": "code",
      "metadata": {
        "id": "b8d_WJtcgLVZ",
        "outputId": "20bf4a9d-b9ec-4a21-ecbf-542a2826deeb",
        "colab": {
          "base_uri": "https://localhost:8080/"
        }
      },
      "source": [
        "# TODO\n",
        "%%time\n",
        "# Re-arrange data into X features matrix and y target vector, so\n",
        "# we use *all* features, including the high-cardinality categoricals\n",
        "X_train = train.drop(columns=target)\n",
        "y_train = train[target]\n",
        "X_val = val.drop(columns=target)\n",
        "y_val = val[target]\n",
        "X_test = test\n",
        "\n",
        "pipeline = make_pipeline(\n",
        "    ce.OrdinalEncoder(), \n",
        "    SimpleImputer(strategy='median'), \n",
        "    RandomForestClassifier(random_state=0, n_jobs=-1)\n",
        ")\n",
        "\n",
        "pipeline.fit(X_train, y_train)\n",
        "print('Validation Accuracy', pipeline.score(X_val, y_val))\n",
        "\n",
        "\n"
      ],
      "execution_count": null,
      "outputs": [
        {
          "output_type": "stream",
          "text": [
            "Validation Accuracy 0.8092592592592592\n",
            "CPU times: user 19.9 s, sys: 189 ms, total: 20.1 s\n",
            "Wall time: 11.1 s\n"
          ],
          "name": "stdout"
        }
      ]
    },
    {
      "cell_type": "code",
      "metadata": {
        "id": "29KnJxqep9B5",
        "outputId": "16ca82b5-07a9-4186-9b55-a899d5c6af76",
        "colab": {
          "base_uri": "https://localhost:8080/"
        }
      },
      "source": [
        "print('X_train shape before encoding', X_train.shape)"
      ],
      "execution_count": null,
      "outputs": [
        {
          "output_type": "stream",
          "text": [
            "X_train shape before encoding (47520, 45)\n"
          ],
          "name": "stdout"
        }
      ]
    },
    {
      "cell_type": "code",
      "metadata": {
        "id": "OEGpimlSqDit",
        "outputId": "58ea1be4-dc42-4e8b-fd91-3c7335f1e223",
        "colab": {
          "base_uri": "https://localhost:8080/"
        }
      },
      "source": [
        "encoder= pipeline.named_steps['ordinalencoder']\n",
        "encoded=encoder.transform(X_train)\n",
        "print('X_train shap after encoding', encoded.shape)"
      ],
      "execution_count": null,
      "outputs": [
        {
          "output_type": "stream",
          "text": [
            "X_train shap after encoding (47520, 45)\n"
          ],
          "name": "stdout"
        }
      ]
    },
    {
      "cell_type": "markdown",
      "metadata": {
        "id": "xs2UPoVdgLVp"
      },
      "source": [
        "# Understand how categorical encodings affect trees differently compared to linear models"
      ]
    },
    {
      "cell_type": "markdown",
      "metadata": {
        "id": "tUZ73WGdXYij"
      },
      "source": [
        "## Follow Along"
      ]
    },
    {
      "cell_type": "markdown",
      "metadata": {
        "id": "z8V-A92mgLVp"
      },
      "source": [
        "### Categorical exploration, 1 feature at a time\n",
        "\n",
        "Change `feature`, then re-run these cells!"
      ]
    },
    {
      "cell_type": "code",
      "metadata": {
        "id": "G35RAzVdgLVq"
      },
      "source": [
        "feature = 'extraction_type_class'"
      ],
      "execution_count": null,
      "outputs": []
    },
    {
      "cell_type": "code",
      "metadata": {
        "id": "OuxHWiH8gLVr",
        "outputId": "9a018670-4415-4bc2-c693-6064f40fd6af",
        "colab": {
          "base_uri": "https://localhost:8080/"
        }
      },
      "source": [
        "X_train[feature].value_counts()"
      ],
      "execution_count": null,
      "outputs": [
        {
          "output_type": "execute_result",
          "data": {
            "text/plain": [
              "gravity         21448\n",
              "handpump        13184\n",
              "other            5193\n",
              "submersible      4894\n",
              "motorpump        2355\n",
              "rope pump         353\n",
              "wind-powered       93\n",
              "Name: extraction_type_class, dtype: int64"
            ]
          },
          "metadata": {
            "tags": []
          },
          "execution_count": 20
        }
      ]
    },
    {
      "cell_type": "code",
      "metadata": {
        "id": "pVxoC4NngLVt",
        "outputId": "cabdc6ba-277b-4e8d-ccc6-15eddd2b2521",
        "colab": {
          "base_uri": "https://localhost:8080/",
          "height": 552
        }
      },
      "source": [
        "import seaborn as sns\n",
        "plt.figure(figsize=(16,9))\n",
        "sns.barplot(\n",
        "    x=train[feature], \n",
        "    y=train['status_group']=='functional', \n",
        "    color='grey'\n",
        ");"
      ],
      "execution_count": null,
      "outputs": [
        {
          "output_type": "display_data",
          "data": {
            "image/png": "[encoded data removed]",
            "text/plain": [
              "<Figure size 1152x648 with 1 Axes>"
            ]
          },
          "metadata": {
            "tags": [],
            "needs_background": "light"
          }
        }
      ]
    },
    {
      "cell_type": "code",
      "metadata": {
        "id": "w99mek14gLVv",
        "outputId": "141268d8-b967-4f6e-97d2-e05fee2f37ff",
        "colab": {
          "base_uri": "https://localhost:8080/"
        }
      },
      "source": [
        "X_train[feature].head(20)"
      ],
      "execution_count": null,
      "outputs": [
        {
          "output_type": "execute_result",
          "data": {
            "text/plain": [
              "43360        gravity\n",
              "7263         gravity\n",
              "2486        handpump\n",
              "313            other\n",
              "52726      motorpump\n",
              "8558         gravity\n",
              "2559         gravity\n",
              "54735      motorpump\n",
              "25763       handpump\n",
              "44540    submersible\n",
              "28603          other\n",
              "4372     submersible\n",
              "30666        gravity\n",
              "6431     submersible\n",
              "57420          other\n",
              "1373         gravity\n",
              "2026         gravity\n",
              "58977       handpump\n",
              "41101        gravity\n",
              "10019        gravity\n",
              "Name: extraction_type_class, dtype: object"
            ]
          },
          "metadata": {
            "tags": []
          },
          "execution_count": 22
        }
      ]
    },
    {
      "cell_type": "markdown",
      "metadata": {
        "id": "ezzK2IdbgLVx"
      },
      "source": [
        "### [One Hot Encoding](https://contrib.scikit-learn.org/category_encoders/onehot.html)\n",
        "\n",
        "> Onehot (or dummy) coding for categorical features, produces one feature per category, each binary.\n",
        "\n",
        "Warning: May run slow, or run out of memory, with high cardinality categoricals!"
      ]
    },
    {
      "cell_type": "code",
      "metadata": {
        "id": "HDQZtV6GgLVy",
        "outputId": "1d949474-cdf6-49de-a8c3-45d7bbcc0375",
        "colab": {
          "base_uri": "https://localhost:8080/",
          "height": 726
        }
      },
      "source": [
        "encoder = ce.OneHotEncoder(use_cat_names=True)\n",
        "encoded = encoder.fit_transform(X_train[[feature]])\n",
        "print(f'{len(encoded.columns)} columns')\n",
        "encoded.head(20)"
      ],
      "execution_count": null,
      "outputs": [
        {
          "output_type": "stream",
          "text": [
            "7 columns\n"
          ],
          "name": "stdout"
        },
        {
          "output_type": "stream",
          "text": [
            "/usr/local/lib/python3.6/dist-packages/category_encoders/utils.py:21: FutureWarning: is_categorical is deprecated and will be removed in a future version.  Use is_categorical_dtype instead\n",
            "  elif pd.api.types.is_categorical(cols):\n"
          ],
          "name": "stderr"
        },
        {
          "output_type": "execute_result",
          "data": {
            "text/html": [
              "<div>\n",
              "<style scoped>\n",
              "    .dataframe tbody tr th:only-of-type {\n",
              "        vertical-align: middle;\n",
              "    }\n",
              "\n",
              "    .dataframe tbody tr th {\n",
              "        vertical-align: top;\n",
              "    }\n",
              "\n",
              "    .dataframe thead th {\n",
              "        text-align: right;\n",
              "    }\n",
              "</style>\n",
              "<table border=\"1\" class=\"dataframe\">\n",
              "  <thead>\n",
              "    <tr style=\"text-align: right;\">\n",
              "      <th></th>\n",
              "      <th>extraction_type_class_gravity</th>\n",
              "      <th>extraction_type_class_handpump</th>\n",
              "      <th>extraction_type_class_other</th>\n",
              "      <th>extraction_type_class_motorpump</th>\n",
              "      <th>extraction_type_class_submersible</th>\n",
              "      <th>extraction_type_class_rope pump</th>\n",
              "      <th>extraction_type_class_wind-powered</th>\n",
              "    </tr>\n",
              "  </thead>\n",
              "  <tbody>\n",
              "    <tr>\n",
              "      <th>43360</th>\n",
              "      <td>1</td>\n",
              "      <td>0</td>\n",
              "      <td>0</td>\n",
              "      <td>0</td>\n",
              "      <td>0</td>\n",
              "      <td>0</td>\n",
              "      <td>0</td>\n",
              "    </tr>\n",
              "    <tr>\n",
              "      <th>7263</th>\n",
              "      <td>1</td>\n",
              "      <td>0</td>\n",
              "      <td>0</td>\n",
              "      <td>0</td>\n",
              "      <td>0</td>\n",
              "      <td>0</td>\n",
              "      <td>0</td>\n",
              "    </tr>\n",
              "    <tr>\n",
              "      <th>2486</th>\n",
              "      <td>0</td>\n",
              "      <td>1</td>\n",
              "      <td>0</td>\n",
              "      <td>0</td>\n",
              "      <td>0</td>\n",
              "      <td>0</td>\n",
              "      <td>0</td>\n",
              "    </tr>\n",
              "    <tr>\n",
              "      <th>313</th>\n",
              "      <td>0</td>\n",
              "      <td>0</td>\n",
              "      <td>1</td>\n",
              "      <td>0</td>\n",
              "      <td>0</td>\n",
              "      <td>0</td>\n",
              "      <td>0</td>\n",
              "    </tr>\n",
              "    <tr>\n",
              "      <th>52726</th>\n",
              "      <td>0</td>\n",
              "      <td>0</td>\n",
              "      <td>0</td>\n",
              "      <td>1</td>\n",
              "      <td>0</td>\n",
              "      <td>0</td>\n",
              "      <td>0</td>\n",
              "    </tr>\n",
              "    <tr>\n",
              "      <th>8558</th>\n",
              "      <td>1</td>\n",
              "      <td>0</td>\n",
              "      <td>0</td>\n",
              "      <td>0</td>\n",
              "      <td>0</td>\n",
              "      <td>0</td>\n",
              "      <td>0</td>\n",
              "    </tr>\n",
              "    <tr>\n",
              "      <th>2559</th>\n",
              "      <td>1</td>\n",
              "      <td>0</td>\n",
              "      <td>0</td>\n",
              "      <td>0</td>\n",
              "      <td>0</td>\n",
              "      <td>0</td>\n",
              "      <td>0</td>\n",
              "    </tr>\n",
              "    <tr>\n",
              "      <th>54735</th>\n",
              "      <td>0</td>\n",
              "      <td>0</td>\n",
              "      <td>0</td>\n",
              "      <td>1</td>\n",
              "      <td>0</td>\n",
              "      <td>0</td>\n",
              "      <td>0</td>\n",
              "    </tr>\n",
              "    <tr>\n",
              "      <th>25763</th>\n",
              "      <td>0</td>\n",
              "      <td>1</td>\n",
              "      <td>0</td>\n",
              "      <td>0</td>\n",
              "      <td>0</td>\n",
              "      <td>0</td>\n",
              "      <td>0</td>\n",
              "    </tr>\n",
              "    <tr>\n",
              "      <th>44540</th>\n",
              "      <td>0</td>\n",
              "      <td>0</td>\n",
              "      <td>0</td>\n",
              "      <td>0</td>\n",
              "      <td>1</td>\n",
              "      <td>0</td>\n",
              "      <td>0</td>\n",
              "    </tr>\n",
              "    <tr>\n",
              "      <th>28603</th>\n",
              "      <td>0</td>\n",
              "      <td>0</td>\n",
              "      <td>1</td>\n",
              "      <td>0</td>\n",
              "      <td>0</td>\n",
              "      <td>0</td>\n",
              "      <td>0</td>\n",
              "    </tr>\n",
              "    <tr>\n",
              "      <th>4372</th>\n",
              "      <td>0</td>\n",
              "      <td>0</td>\n",
              "      <td>0</td>\n",
              "      <td>0</td>\n",
              "      <td>1</td>\n",
              "      <td>0</td>\n",
              "      <td>0</td>\n",
              "    </tr>\n",
              "    <tr>\n",
              "      <th>30666</th>\n",
              "      <td>1</td>\n",
              "      <td>0</td>\n",
              "      <td>0</td>\n",
              "      <td>0</td>\n",
              "      <td>0</td>\n",
              "      <td>0</td>\n",
              "      <td>0</td>\n",
              "    </tr>\n",
              "    <tr>\n",
              "      <th>6431</th>\n",
              "      <td>0</td>\n",
              "      <td>0</td>\n",
              "      <td>0</td>\n",
              "      <td>0</td>\n",
              "      <td>1</td>\n",
              "      <td>0</td>\n",
              "      <td>0</td>\n",
              "    </tr>\n",
              "    <tr>\n",
              "      <th>57420</th>\n",
              "      <td>0</td>\n",
              "      <td>0</td>\n",
              "      <td>1</td>\n",
              "      <td>0</td>\n",
              "      <td>0</td>\n",
              "      <td>0</td>\n",
              "      <td>0</td>\n",
              "    </tr>\n",
              "    <tr>\n",
              "      <th>1373</th>\n",
              "      <td>1</td>\n",
              "      <td>0</td>\n",
              "      <td>0</td>\n",
              "      <td>0</td>\n",
              "      <td>0</td>\n",
              "      <td>0</td>\n",
              "      <td>0</td>\n",
              "    </tr>\n",
              "    <tr>\n",
              "      <th>2026</th>\n",
              "      <td>1</td>\n",
              "      <td>0</td>\n",
              "      <td>0</td>\n",
              "      <td>0</td>\n",
              "      <td>0</td>\n",
              "      <td>0</td>\n",
              "      <td>0</td>\n",
              "    </tr>\n",
              "    <tr>\n",
              "      <th>58977</th>\n",
              "      <td>0</td>\n",
              "      <td>1</td>\n",
              "      <td>0</td>\n",
              "      <td>0</td>\n",
              "      <td>0</td>\n",
              "      <td>0</td>\n",
              "      <td>0</td>\n",
              "    </tr>\n",
              "    <tr>\n",
              "      <th>41101</th>\n",
              "      <td>1</td>\n",
              "      <td>0</td>\n",
              "      <td>0</td>\n",
              "      <td>0</td>\n",
              "      <td>0</td>\n",
              "      <td>0</td>\n",
              "      <td>0</td>\n",
              "    </tr>\n",
              "    <tr>\n",
              "      <th>10019</th>\n",
              "      <td>1</td>\n",
              "      <td>0</td>\n",
              "      <td>0</td>\n",
              "      <td>0</td>\n",
              "      <td>0</td>\n",
              "      <td>0</td>\n",
              "      <td>0</td>\n",
              "    </tr>\n",
              "  </tbody>\n",
              "</table>\n",
              "</div>"
            ],
            "text/plain": [
              "       extraction_type_class_gravity  ...  extraction_type_class_wind-powered\n",
              "43360                              1  ...                                   0\n",
              "7263                               1  ...                                   0\n",
              "2486                               0  ...                                   0\n",
              "313                                0  ...                                   0\n",
              "52726                              0  ...                                   0\n",
              "8558                               1  ...                                   0\n",
              "2559                               1  ...                                   0\n",
              "54735                              0  ...                                   0\n",
              "25763                              0  ...                                   0\n",
              "44540                              0  ...                                   0\n",
              "28603                              0  ...                                   0\n",
              "4372                               0  ...                                   0\n",
              "30666                              1  ...                                   0\n",
              "6431                               0  ...                                   0\n",
              "57420                              0  ...                                   0\n",
              "1373                               1  ...                                   0\n",
              "2026                               1  ...                                   0\n",
              "58977                              0  ...                                   0\n",
              "41101                              1  ...                                   0\n",
              "10019                              1  ...                                   0\n",
              "\n",
              "[20 rows x 7 columns]"
            ]
          },
          "metadata": {
            "tags": []
          },
          "execution_count": 23
        }
      ]
    },
    {
      "cell_type": "markdown",
      "metadata": {
        "id": "1Ql9Qmw3sNJ7"
      },
      "source": [
        "#### One-Hot Encoding, Logistic Regression, Validation Accuracy"
      ]
    },
    {
      "cell_type": "code",
      "metadata": {
        "id": "mT4A-oDGpOss",
        "outputId": "ec64f550-527f-4193-d0d3-5b5f08b45806",
        "colab": {
          "base_uri": "https://localhost:8080/"
        }
      },
      "source": [
        "from sklearn.linear_model import LogisticRegressionCV\n",
        "from sklearn.preprocessing import StandardScaler\n",
        "\n",
        "lr = make_pipeline(\n",
        "    ce.OneHotEncoder(use_cat_names=True), \n",
        "    SimpleImputer(), \n",
        "    StandardScaler(), \n",
        "    LogisticRegressionCV(multi_class='auto', solver='lbfgs', cv=5, n_jobs=-1)\n",
        ")\n",
        "\n",
        "lr.fit(X_train[[feature]], y_train)\n",
        "score = lr.score(X_val[[feature]], y_val)\n",
        "print('Logistic Regression, Validation Accuracy', score)"
      ],
      "execution_count": null,
      "outputs": [
        {
          "output_type": "stream",
          "text": [
            "/usr/local/lib/python3.6/dist-packages/category_encoders/utils.py:21: FutureWarning: is_categorical is deprecated and will be removed in a future version.  Use is_categorical_dtype instead\n",
            "  elif pd.api.types.is_categorical(cols):\n"
          ],
          "name": "stderr"
        },
        {
          "output_type": "stream",
          "text": [
            "Logistic Regression, Validation Accuracy 0.6202861952861953\n"
          ],
          "name": "stdout"
        }
      ]
    },
    {
      "cell_type": "markdown",
      "metadata": {
        "id": "EbH6wivpsRuV"
      },
      "source": [
        "#### One-Hot Encoding, Decision Tree, Validation Accuracy"
      ]
    },
    {
      "cell_type": "code",
      "metadata": {
        "id": "b6KUluFOqIdK",
        "outputId": "e05966a0-7947-4879-e308-0779b8fed89d",
        "colab": {
          "base_uri": "https://localhost:8080/"
        }
      },
      "source": [
        "from sklearn.tree import DecisionTreeClassifier\n",
        "\n",
        "dt = make_pipeline(\n",
        "    ce.OneHotEncoder(use_cat_names=True), \n",
        "    SimpleImputer(), \n",
        "    DecisionTreeClassifier(random_state=42)\n",
        ")\n",
        "\n",
        "dt.fit(X_train[[feature]], y_train)\n",
        "score = dt.score(X_val[[feature]], y_val)\n",
        "print('Decision Tree, Validation Accuracy', score)"
      ],
      "execution_count": null,
      "outputs": [
        {
          "output_type": "stream",
          "text": [
            "Decision Tree, Validation Accuracy 0.6202861952861953\n"
          ],
          "name": "stdout"
        },
        {
          "output_type": "stream",
          "text": [
            "/usr/local/lib/python3.6/dist-packages/category_encoders/utils.py:21: FutureWarning: is_categorical is deprecated and will be removed in a future version.  Use is_categorical_dtype instead\n",
            "  elif pd.api.types.is_categorical(cols):\n"
          ],
          "name": "stderr"
        }
      ]
    },
    {
      "cell_type": "markdown",
      "metadata": {
        "id": "8yg11_gTsUu6"
      },
      "source": [
        "#### One-Hot Encoding, Logistic Regression, Model Interpretation"
      ]
    },
    {
      "cell_type": "code",
      "metadata": {
        "id": "IxHwXGRornNI",
        "outputId": "09afb8e7-95bb-46ad-8baf-6ff8da0b01c1",
        "colab": {
          "base_uri": "https://localhost:8080/",
          "height": 265
        }
      },
      "source": [
        "model = lr.named_steps['logisticregressioncv']\n",
        "encoder = lr.named_steps['onehotencoder']\n",
        "encoded_columns = encoder.transform(X_val[[feature]]).columns\n",
        "coefficients = pd.Series(model.coef_[0], encoded_columns)\n",
        "coefficients.sort_values().plot.barh(color='grey');"
      ],
      "execution_count": null,
      "outputs": [
        {
          "output_type": "display_data",
          "data": {
            "image/png": "[encoded data removed]",
            "text/plain": [
              "<Figure size 432x288 with 1 Axes>"
            ]
          },
          "metadata": {
            "tags": [],
            "needs_background": "light"
          }
        }
      ]
    },
    {
      "cell_type": "markdown",
      "metadata": {
        "id": "0REZ8HdpsccR"
      },
      "source": [
        "#### One-Hot Encoding, Decision Tree, Model Interpretation"
      ]
    },
    {
      "cell_type": "code",
      "metadata": {
        "id": "gV-grmYKpDp9",
        "outputId": "25c8456c-28e4-4cbd-b62a-fcf05d7bd33f",
        "colab": {
          "base_uri": "https://localhost:8080/",
          "height": 954
        }
      },
      "source": [
        "# Plot tree\n",
        "# https://scikit-learn.org/stable/modules/generated/sklearn.tree.export_graphviz.html\n",
        "import graphviz\n",
        "from sklearn.tree import export_graphviz\n",
        "\n",
        "model = dt.named_steps['decisiontreeclassifier']\n",
        "encoder = dt.named_steps['onehotencoder']\n",
        "encoded_columns = encoder.transform(X_val[[feature]]).columns\n",
        "\n",
        "dot_data = export_graphviz(model, \n",
        "                           out_file=None, \n",
        "                           max_depth=7, \n",
        "                           feature_names=encoded_columns,\n",
        "                           class_names=model.classes_, \n",
        "                           impurity=False, \n",
        "                           filled=True, \n",
        "                           proportion=True, \n",
        "                           rounded=True)   \n",
        "display(graphviz.Source(dot_data))"
      ],
      "execution_count": null,
      "outputs": [
        {
          "output_type": "display_data",
          "data": {
            "text/plain": [
              "<graphviz.files.Source at 0x7f2fd9d28e10>"
            ],
            "image/svg+xml": "<?xml version=\"1.0\" encoding=\"UTF-8\" standalone=\"no\"?>\n<!DOCTYPE svg PUBLIC \"-//W3C//DTD SVG 1.1//EN\"\n \"http://www.w3.org/Graphics/SVG/1.1/DTD/svg11.dtd\">\n<!-- Generated by graphviz version 2.40.1 (20161225.0304)\n -->\n<!-- Title: Tree Pages: 1 -->\n<svg width=\"1067pt\" height=\"685pt\"\n viewBox=\"0.00 0.00 1067.00 685.00\" xmlns=\"http://www.w3.org/2000/svg\" xmlns:xlink=\"http://www.w3.org/1999/xlink\">\n<g id=\"graph0\" class=\"graph\" transform=\"scale(1 1) rotate(0) translate(4 681)\">\n<title>Tree</title>\n<polygon fill=\"#ffffff\" stroke=\"transparent\" points=\"-4,4 -4,-681 1063,-681 1063,4 -4,4\"/>\n<!-- 0 -->\n<g id=\"node1\" class=\"node\">\n<title>0</title>\n<path fill=\"#f8decc\" stroke=\"#000000\" d=\"M944.5,-677C944.5,-677 725.5,-677 725.5,-677 719.5,-677 713.5,-671 713.5,-665 713.5,-665 713.5,-621 713.5,-621 713.5,-615 719.5,-609 725.5,-609 725.5,-609 944.5,-609 944.5,-609 950.5,-609 956.5,-615 956.5,-621 956.5,-621 956.5,-665 956.5,-665 956.5,-671 950.5,-677 944.5,-677\"/>\n<text text-anchor=\"middle\" x=\"835\" y=\"-661.8\" font-family=\"Helvetica,sans-Serif\" font-size=\"14.00\" fill=\"#000000\">extraction_type_class_other &lt;= 0.5</text>\n<text text-anchor=\"middle\" x=\"835\" y=\"-646.8\" font-family=\"Helvetica,sans-Serif\" font-size=\"14.00\" fill=\"#000000\">samples = 100.0%</text>\n<text text-anchor=\"middle\" x=\"835\" y=\"-631.8\" font-family=\"Helvetica,sans-Serif\" font-size=\"14.00\" fill=\"#000000\">value = [0.543, 0.073, 0.384]</text>\n<text text-anchor=\"middle\" x=\"835\" y=\"-616.8\" font-family=\"Helvetica,sans-Serif\" font-size=\"14.00\" fill=\"#000000\">class = functional</text>\n</g>\n<!-- 1 -->\n<g id=\"node2\" class=\"node\">\n<title>1</title>\n<path fill=\"#f5ceb2\" stroke=\"#000000\" d=\"M837,-573C837,-573 577,-573 577,-573 571,-573 565,-567 565,-561 565,-561 565,-517 565,-517 565,-511 571,-505 577,-505 577,-505 837,-505 837,-505 843,-505 849,-511 849,-517 849,-517 849,-561 849,-561 849,-567 843,-573 837,-573\"/>\n<text text-anchor=\"middle\" x=\"707\" y=\"-557.8\" font-family=\"Helvetica,sans-Serif\" font-size=\"14.00\" fill=\"#000000\">extraction_type_class_motorpump &lt;= 0.5</text>\n<text text-anchor=\"middle\" x=\"707\" y=\"-542.8\" font-family=\"Helvetica,sans-Serif\" font-size=\"14.00\" fill=\"#000000\">samples = 89.1%</text>\n<text text-anchor=\"middle\" x=\"707\" y=\"-527.8\" font-family=\"Helvetica,sans-Serif\" font-size=\"14.00\" fill=\"#000000\">value = [0.59, 0.078, 0.332]</text>\n<text text-anchor=\"middle\" x=\"707\" y=\"-512.8\" font-family=\"Helvetica,sans-Serif\" font-size=\"14.00\" fill=\"#000000\">class = functional</text>\n</g>\n<!-- 0&#45;&gt;1 -->\n<g id=\"edge1\" class=\"edge\">\n<title>0&#45;&gt;1</title>\n<path fill=\"none\" stroke=\"#000000\" d=\"M793.088,-608.9465C781.485,-599.519 768.7779,-589.1946 756.7741,-579.4415\"/>\n<polygon fill=\"#000000\" stroke=\"#000000\" points=\"758.9744,-576.7196 749.0061,-573.13 754.5602,-582.1524 758.9744,-576.7196\"/>\n<text text-anchor=\"middle\" x=\"751.5786\" y=\"-594.2973\" font-family=\"Helvetica,sans-Serif\" font-size=\"14.00\" fill=\"#000000\">True</text>\n</g>\n<!-- 12 -->\n<g id=\"node13\" class=\"node\">\n<title>12</title>\n<path fill=\"#9d66eb\" stroke=\"#000000\" d=\"M1047,-565.5C1047,-565.5 879,-565.5 879,-565.5 873,-565.5 867,-559.5 867,-553.5 867,-553.5 867,-524.5 867,-524.5 867,-518.5 873,-512.5 879,-512.5 879,-512.5 1047,-512.5 1047,-512.5 1053,-512.5 1059,-518.5 1059,-524.5 1059,-524.5 1059,-553.5 1059,-553.5 1059,-559.5 1053,-565.5 1047,-565.5\"/>\n<text text-anchor=\"middle\" x=\"963\" y=\"-550.3\" font-family=\"Helvetica,sans-Serif\" font-size=\"14.00\" fill=\"#000000\">samples = 10.9%</text>\n<text text-anchor=\"middle\" x=\"963\" y=\"-535.3\" font-family=\"Helvetica,sans-Serif\" font-size=\"14.00\" fill=\"#000000\">value = [0.159, 0.031, 0.81]</text>\n<text text-anchor=\"middle\" x=\"963\" y=\"-520.3\" font-family=\"Helvetica,sans-Serif\" font-size=\"14.00\" fill=\"#000000\">class = non functional</text>\n</g>\n<!-- 0&#45;&gt;12 -->\n<g id=\"edge12\" class=\"edge\">\n<title>0&#45;&gt;12</title>\n<path fill=\"none\" stroke=\"#000000\" d=\"M876.912,-608.9465C891.5533,-597.0504 907.9526,-583.726 922.4785,-571.9237\"/>\n<polygon fill=\"#000000\" stroke=\"#000000\" points=\"924.7786,-574.5645 930.3327,-565.5422 920.3645,-569.1317 924.7786,-574.5645\"/>\n<text text-anchor=\"middle\" x=\"927.7602\" y=\"-586.7095\" font-family=\"Helvetica,sans-Serif\" font-size=\"14.00\" fill=\"#000000\">False</text>\n</g>\n<!-- 2 -->\n<g id=\"node3\" class=\"node\">\n<title>2</title>\n<path fill=\"#f4caac\" stroke=\"#000000\" d=\"M708.5,-469C708.5,-469 443.5,-469 443.5,-469 437.5,-469 431.5,-463 431.5,-457 431.5,-457 431.5,-413 431.5,-413 431.5,-407 437.5,-401 443.5,-401 443.5,-401 708.5,-401 708.5,-401 714.5,-401 720.5,-407 720.5,-413 720.5,-413 720.5,-457 720.5,-457 720.5,-463 714.5,-469 708.5,-469\"/>\n<text text-anchor=\"middle\" x=\"576\" y=\"-453.8\" font-family=\"Helvetica,sans-Serif\" font-size=\"14.00\" fill=\"#000000\">extraction_type_class_submersible &lt;= 0.5</text>\n<text text-anchor=\"middle\" x=\"576\" y=\"-438.8\" font-family=\"Helvetica,sans-Serif\" font-size=\"14.00\" fill=\"#000000\">samples = 84.1%</text>\n<text text-anchor=\"middle\" x=\"576\" y=\"-423.8\" font-family=\"Helvetica,sans-Serif\" font-size=\"14.00\" fill=\"#000000\">value = [0.603, 0.08, 0.318]</text>\n<text text-anchor=\"middle\" x=\"576\" y=\"-408.8\" font-family=\"Helvetica,sans-Serif\" font-size=\"14.00\" fill=\"#000000\">class = functional</text>\n</g>\n<!-- 1&#45;&gt;2 -->\n<g id=\"edge2\" class=\"edge\">\n<title>1&#45;&gt;2</title>\n<path fill=\"none\" stroke=\"#000000\" d=\"M664.1057,-504.9465C652.2307,-495.519 639.2259,-485.1946 626.9407,-475.4415\"/>\n<polygon fill=\"#000000\" stroke=\"#000000\" points=\"628.9989,-472.6066 618.9907,-469.13 624.6464,-478.089 628.9989,-472.6066\"/>\n</g>\n<!-- 11 -->\n<g id=\"node12\" class=\"node\">\n<title>11</title>\n<path fill=\"#d8c1f7\" stroke=\"#000000\" d=\"M927,-461.5C927,-461.5 751,-461.5 751,-461.5 745,-461.5 739,-455.5 739,-449.5 739,-449.5 739,-420.5 739,-420.5 739,-414.5 745,-408.5 751,-408.5 751,-408.5 927,-408.5 927,-408.5 933,-408.5 939,-414.5 939,-420.5 939,-420.5 939,-449.5 939,-449.5 939,-455.5 933,-461.5 927,-461.5\"/>\n<text text-anchor=\"middle\" x=\"839\" y=\"-446.3\" font-family=\"Helvetica,sans-Serif\" font-size=\"14.00\" fill=\"#000000\">samples = 5.0%</text>\n<text text-anchor=\"middle\" x=\"839\" y=\"-431.3\" font-family=\"Helvetica,sans-Serif\" font-size=\"14.00\" fill=\"#000000\">value = [0.381, 0.045, 0.574]</text>\n<text text-anchor=\"middle\" x=\"839\" y=\"-416.3\" font-family=\"Helvetica,sans-Serif\" font-size=\"14.00\" fill=\"#000000\">class = non functional</text>\n</g>\n<!-- 1&#45;&gt;11 -->\n<g id=\"edge11\" class=\"edge\">\n<title>1&#45;&gt;11</title>\n<path fill=\"none\" stroke=\"#000000\" d=\"M750.2217,-504.9465C765.3206,-493.0504 782.2324,-479.726 797.2122,-467.9237\"/>\n<polygon fill=\"#000000\" stroke=\"#000000\" points=\"799.623,-470.4802 805.3119,-461.5422 795.2909,-464.9817 799.623,-470.4802\"/>\n</g>\n<!-- 3 -->\n<g id=\"node4\" class=\"node\">\n<title>3</title>\n<path fill=\"#f4c7a8\" stroke=\"#000000\" d=\"M568.5,-365C568.5,-365 339.5,-365 339.5,-365 333.5,-365 327.5,-359 327.5,-353 327.5,-353 327.5,-309 327.5,-309 327.5,-303 333.5,-297 339.5,-297 339.5,-297 568.5,-297 568.5,-297 574.5,-297 580.5,-303 580.5,-309 580.5,-309 580.5,-353 580.5,-353 580.5,-359 574.5,-365 568.5,-365\"/>\n<text text-anchor=\"middle\" x=\"454\" y=\"-349.8\" font-family=\"Helvetica,sans-Serif\" font-size=\"14.00\" fill=\"#000000\">extraction_type_class_gravity &lt;= 0.5</text>\n<text text-anchor=\"middle\" x=\"454\" y=\"-334.8\" font-family=\"Helvetica,sans-Serif\" font-size=\"14.00\" fill=\"#000000\">samples = 73.8%</text>\n<text text-anchor=\"middle\" x=\"454\" y=\"-319.8\" font-family=\"Helvetica,sans-Serif\" font-size=\"14.00\" fill=\"#000000\">value = [0.611, 0.085, 0.304]</text>\n<text text-anchor=\"middle\" x=\"454\" y=\"-304.8\" font-family=\"Helvetica,sans-Serif\" font-size=\"14.00\" fill=\"#000000\">class = functional</text>\n</g>\n<!-- 2&#45;&gt;3 -->\n<g id=\"edge3\" class=\"edge\">\n<title>2&#45;&gt;3</title>\n<path fill=\"none\" stroke=\"#000000\" d=\"M536.0526,-400.9465C525.0988,-391.6088 513.1127,-381.3911 501.768,-371.7203\"/>\n<polygon fill=\"#000000\" stroke=\"#000000\" points=\"503.9179,-368.9538 494.0371,-365.13 499.3767,-374.2809 503.9179,-368.9538\"/>\n</g>\n<!-- 10 -->\n<g id=\"node11\" class=\"node\">\n<title>10</title>\n<path fill=\"#f9e4d5\" stroke=\"#000000\" d=\"M787,-357.5C787,-357.5 611,-357.5 611,-357.5 605,-357.5 599,-351.5 599,-345.5 599,-345.5 599,-316.5 599,-316.5 599,-310.5 605,-304.5 611,-304.5 611,-304.5 787,-304.5 787,-304.5 793,-304.5 799,-310.5 799,-316.5 799,-316.5 799,-345.5 799,-345.5 799,-351.5 793,-357.5 787,-357.5\"/>\n<text text-anchor=\"middle\" x=\"699\" y=\"-342.3\" font-family=\"Helvetica,sans-Serif\" font-size=\"14.00\" fill=\"#000000\">samples = 10.3%</text>\n<text text-anchor=\"middle\" x=\"699\" y=\"-327.3\" font-family=\"Helvetica,sans-Serif\" font-size=\"14.00\" fill=\"#000000\">value = [0.541, 0.042, 0.416]</text>\n<text text-anchor=\"middle\" x=\"699\" y=\"-312.3\" font-family=\"Helvetica,sans-Serif\" font-size=\"14.00\" fill=\"#000000\">class = functional</text>\n</g>\n<!-- 2&#45;&gt;10 -->\n<g id=\"edge10\" class=\"edge\">\n<title>2&#45;&gt;10</title>\n<path fill=\"none\" stroke=\"#000000\" d=\"M616.2748,-400.9465C630.2139,-389.1606 645.8112,-375.9726 659.6732,-364.2519\"/>\n<polygon fill=\"#000000\" stroke=\"#000000\" points=\"662.2324,-366.6715 667.6088,-357.5422 657.7127,-361.3262 662.2324,-366.6715\"/>\n</g>\n<!-- 4 -->\n<g id=\"node5\" class=\"node\">\n<title>4</title>\n<path fill=\"#f3c5a4\" stroke=\"#000000\" d=\"M458.5,-261C458.5,-261 181.5,-261 181.5,-261 175.5,-261 169.5,-255 169.5,-249 169.5,-249 169.5,-205 169.5,-205 169.5,-199 175.5,-193 181.5,-193 181.5,-193 458.5,-193 458.5,-193 464.5,-193 470.5,-199 470.5,-205 470.5,-205 470.5,-249 470.5,-249 470.5,-255 464.5,-261 458.5,-261\"/>\n<text text-anchor=\"middle\" x=\"320\" y=\"-245.8\" font-family=\"Helvetica,sans-Serif\" font-size=\"14.00\" fill=\"#000000\">extraction_type_class_wind&#45;powered &lt;= 0.5</text>\n<text text-anchor=\"middle\" x=\"320\" y=\"-230.8\" font-family=\"Helvetica,sans-Serif\" font-size=\"14.00\" fill=\"#000000\">samples = 28.7%</text>\n<text text-anchor=\"middle\" x=\"320\" y=\"-215.8\" font-family=\"Helvetica,sans-Serif\" font-size=\"14.00\" fill=\"#000000\">value = [0.629, 0.059, 0.311]</text>\n<text text-anchor=\"middle\" x=\"320\" y=\"-200.8\" font-family=\"Helvetica,sans-Serif\" font-size=\"14.00\" fill=\"#000000\">class = functional</text>\n</g>\n<!-- 3&#45;&gt;4 -->\n<g id=\"edge4\" class=\"edge\">\n<title>3&#45;&gt;4</title>\n<path fill=\"none\" stroke=\"#000000\" d=\"M410.1234,-296.9465C397.9765,-287.519 384.6738,-277.1946 372.1073,-267.4415\"/>\n<polygon fill=\"#000000\" stroke=\"#000000\" points=\"374.021,-264.4963 363.9752,-261.13 369.7291,-270.0262 374.021,-264.4963\"/>\n</g>\n<!-- 9 -->\n<g id=\"node10\" class=\"node\">\n<title>9</title>\n<path fill=\"#f4c9aa\" stroke=\"#000000\" d=\"M677,-253.5C677,-253.5 501,-253.5 501,-253.5 495,-253.5 489,-247.5 489,-241.5 489,-241.5 489,-212.5 489,-212.5 489,-206.5 495,-200.5 501,-200.5 501,-200.5 677,-200.5 677,-200.5 683,-200.5 689,-206.5 689,-212.5 689,-212.5 689,-241.5 689,-241.5 689,-247.5 683,-253.5 677,-253.5\"/>\n<text text-anchor=\"middle\" x=\"589\" y=\"-238.3\" font-family=\"Helvetica,sans-Serif\" font-size=\"14.00\" fill=\"#000000\">samples = 45.1%</text>\n<text text-anchor=\"middle\" x=\"589\" y=\"-223.3\" font-family=\"Helvetica,sans-Serif\" font-size=\"14.00\" fill=\"#000000\">value = [0.599, 0.101, 0.299]</text>\n<text text-anchor=\"middle\" x=\"589\" y=\"-208.3\" font-family=\"Helvetica,sans-Serif\" font-size=\"14.00\" fill=\"#000000\">class = functional</text>\n</g>\n<!-- 3&#45;&gt;9 -->\n<g id=\"edge9\" class=\"edge\">\n<title>3&#45;&gt;9</title>\n<path fill=\"none\" stroke=\"#000000\" d=\"M498.204,-296.9465C513.6461,-285.0504 530.9422,-271.726 546.2625,-259.9237\"/>\n<polygon fill=\"#000000\" stroke=\"#000000\" points=\"548.7603,-262.4176 554.5462,-253.5422 544.4883,-256.8723 548.7603,-262.4176\"/>\n</g>\n<!-- 5 -->\n<g id=\"node6\" class=\"node\">\n<title>5</title>\n<path fill=\"#f3c4a3\" stroke=\"#000000\" d=\"M319,-157C319,-157 63,-157 63,-157 57,-157 51,-151 51,-145 51,-145 51,-101 51,-101 51,-95 57,-89 63,-89 63,-89 319,-89 319,-89 325,-89 331,-95 331,-101 331,-101 331,-145 331,-145 331,-151 325,-157 319,-157\"/>\n<text text-anchor=\"middle\" x=\"191\" y=\"-141.8\" font-family=\"Helvetica,sans-Serif\" font-size=\"14.00\" fill=\"#000000\">extraction_type_class_rope pump &lt;= 0.5</text>\n<text text-anchor=\"middle\" x=\"191\" y=\"-126.8\" font-family=\"Helvetica,sans-Serif\" font-size=\"14.00\" fill=\"#000000\">samples = 28.5%</text>\n<text text-anchor=\"middle\" x=\"191\" y=\"-111.8\" font-family=\"Helvetica,sans-Serif\" font-size=\"14.00\" fill=\"#000000\">value = [0.631, 0.059, 0.31]</text>\n<text text-anchor=\"middle\" x=\"191\" y=\"-96.8\" font-family=\"Helvetica,sans-Serif\" font-size=\"14.00\" fill=\"#000000\">class = functional</text>\n</g>\n<!-- 4&#45;&gt;5 -->\n<g id=\"edge5\" class=\"edge\">\n<title>4&#45;&gt;5</title>\n<path fill=\"none\" stroke=\"#000000\" d=\"M277.7606,-192.9465C266.0669,-183.519 253.2606,-173.1946 241.163,-163.4415\"/>\n<polygon fill=\"#000000\" stroke=\"#000000\" points=\"243.3162,-160.6816 233.3343,-157.13 238.9227,-166.1312 243.3162,-160.6816\"/>\n</g>\n<!-- 8 -->\n<g id=\"node9\" class=\"node\">\n<title>8</title>\n<path fill=\"#f8f3fd\" stroke=\"#000000\" d=\"M537,-149.5C537,-149.5 361,-149.5 361,-149.5 355,-149.5 349,-143.5 349,-137.5 349,-137.5 349,-108.5 349,-108.5 349,-102.5 355,-96.5 361,-96.5 361,-96.5 537,-96.5 537,-96.5 543,-96.5 549,-102.5 549,-108.5 549,-108.5 549,-137.5 549,-137.5 549,-143.5 543,-149.5 537,-149.5\"/>\n<text text-anchor=\"middle\" x=\"449\" y=\"-134.3\" font-family=\"Helvetica,sans-Serif\" font-size=\"14.00\" fill=\"#000000\">samples = 0.2%</text>\n<text text-anchor=\"middle\" x=\"449\" y=\"-119.3\" font-family=\"Helvetica,sans-Serif\" font-size=\"14.00\" fill=\"#000000\">value = [0.452, 0.065, 0.484]</text>\n<text text-anchor=\"middle\" x=\"449\" y=\"-104.3\" font-family=\"Helvetica,sans-Serif\" font-size=\"14.00\" fill=\"#000000\">class = non functional</text>\n</g>\n<!-- 4&#45;&gt;8 -->\n<g id=\"edge8\" class=\"edge\">\n<title>4&#45;&gt;8</title>\n<path fill=\"none\" stroke=\"#000000\" d=\"M362.2394,-192.9465C376.9952,-181.0504 393.5225,-167.726 408.162,-155.9237\"/>\n<polygon fill=\"#000000\" stroke=\"#000000\" points=\"410.4891,-158.5433 416.0775,-149.5422 406.0957,-153.0938 410.4891,-158.5433\"/>\n</g>\n<!-- 6 -->\n<g id=\"node7\" class=\"node\">\n<title>6</title>\n<path fill=\"#f3c5a3\" stroke=\"#000000\" d=\"M164,-53C164,-53 12,-53 12,-53 6,-53 0,-47 0,-41 0,-41 0,-12 0,-12 0,-6 6,0 12,0 12,0 164,0 164,0 170,0 176,-6 176,-12 176,-12 176,-41 176,-41 176,-47 170,-53 164,-53\"/>\n<text text-anchor=\"middle\" x=\"88\" y=\"-37.8\" font-family=\"Helvetica,sans-Serif\" font-size=\"14.00\" fill=\"#000000\">samples = 27.7%</text>\n<text text-anchor=\"middle\" x=\"88\" y=\"-22.8\" font-family=\"Helvetica,sans-Serif\" font-size=\"14.00\" fill=\"#000000\">value = [0.63, 0.06, 0.31]</text>\n<text text-anchor=\"middle\" x=\"88\" y=\"-7.8\" font-family=\"Helvetica,sans-Serif\" font-size=\"14.00\" fill=\"#000000\">class = functional</text>\n</g>\n<!-- 5&#45;&gt;6 -->\n<g id=\"edge6\" class=\"edge\">\n<title>5&#45;&gt;6</title>\n<path fill=\"none\" stroke=\"#000000\" d=\"M154.6861,-88.9777C144.7168,-79.6376 133.9138,-69.5163 123.9643,-60.1947\"/>\n<polygon fill=\"#000000\" stroke=\"#000000\" points=\"126.2408,-57.5314 116.5502,-53.2485 121.4548,-62.6397 126.2408,-57.5314\"/>\n</g>\n<!-- 7 -->\n<g id=\"node8\" class=\"node\">\n<title>7</title>\n<path fill=\"#f2bf9b\" stroke=\"#000000\" d=\"M382,-53C382,-53 206,-53 206,-53 200,-53 194,-47 194,-41 194,-41 194,-12 194,-12 194,-6 200,0 206,0 206,0 382,0 382,0 388,0 394,-6 394,-12 394,-12 394,-41 394,-41 394,-47 388,-53 382,-53\"/>\n<text text-anchor=\"middle\" x=\"294\" y=\"-37.8\" font-family=\"Helvetica,sans-Serif\" font-size=\"14.00\" fill=\"#000000\">samples = 0.7%</text>\n<text text-anchor=\"middle\" x=\"294\" y=\"-22.8\" font-family=\"Helvetica,sans-Serif\" font-size=\"14.00\" fill=\"#000000\">value = [0.657, 0.037, 0.306]</text>\n<text text-anchor=\"middle\" x=\"294\" y=\"-7.8\" font-family=\"Helvetica,sans-Serif\" font-size=\"14.00\" fill=\"#000000\">class = functional</text>\n</g>\n<!-- 5&#45;&gt;7 -->\n<g id=\"edge7\" class=\"edge\">\n<title>5&#45;&gt;7</title>\n<path fill=\"none\" stroke=\"#000000\" d=\"M227.3139,-88.9777C237.2832,-79.6376 248.0862,-69.5163 258.0357,-60.1947\"/>\n<polygon fill=\"#000000\" stroke=\"#000000\" points=\"260.5452,-62.6397 265.4498,-53.2485 255.7592,-57.5314 260.5452,-62.6397\"/>\n</g>\n</g>\n</svg>\n"
          },
          "metadata": {
            "tags": []
          }
        }
      ]
    },
    {
      "cell_type": "markdown",
      "metadata": {
        "id": "QUd6gzcZgLVz"
      },
      "source": [
        "### [Ordinal Encoding](https://contrib.scikit-learn.org/category_encoders/ordinal.html)\n",
        "\n",
        "> Ordinal encoding uses a single column of integers to represent the classes. An optional mapping dict can be passed in; in this case, we use the knowledge that there is some true order to the classes themselves. Otherwise, the classes are assumed to have no true order and integers are selected at random."
      ]
    },
    {
      "cell_type": "code",
      "metadata": {
        "id": "qPeSS4NHtAtH",
        "outputId": "9425ba23-bb7f-4141-c1fb-ff13b5a17d19",
        "colab": {
          "base_uri": "https://localhost:8080/"
        }
      },
      "source": [
        "X_train[feature].head(10)"
      ],
      "execution_count": null,
      "outputs": [
        {
          "output_type": "execute_result",
          "data": {
            "text/plain": [
              "43360        gravity\n",
              "7263         gravity\n",
              "2486        handpump\n",
              "313            other\n",
              "52726      motorpump\n",
              "8558         gravity\n",
              "2559         gravity\n",
              "54735      motorpump\n",
              "25763       handpump\n",
              "44540    submersible\n",
              "Name: extraction_type_class, dtype: object"
            ]
          },
          "metadata": {
            "tags": []
          },
          "execution_count": 30
        }
      ]
    },
    {
      "cell_type": "code",
      "metadata": {
        "id": "CnBz2RbwgLVz",
        "outputId": "07ac9d4e-b116-442d-b3c4-18574775e124",
        "colab": {
          "base_uri": "https://localhost:8080/",
          "height": 656
        }
      },
      "source": [
        "encoder = ce.OrdinalEncoder()\n",
        "encoded = encoder.fit_transform(X_train[[feature]])\n",
        "print(f'1 column, {encoded[feature].nunique()} unique values')\n",
        "encoded.head(20)"
      ],
      "execution_count": null,
      "outputs": [
        {
          "output_type": "stream",
          "text": [
            "1 column, 7 unique values\n"
          ],
          "name": "stdout"
        },
        {
          "output_type": "execute_result",
          "data": {
            "text/html": [
              "<div>\n",
              "<style scoped>\n",
              "    .dataframe tbody tr th:only-of-type {\n",
              "        vertical-align: middle;\n",
              "    }\n",
              "\n",
              "    .dataframe tbody tr th {\n",
              "        vertical-align: top;\n",
              "    }\n",
              "\n",
              "    .dataframe thead th {\n",
              "        text-align: right;\n",
              "    }\n",
              "</style>\n",
              "<table border=\"1\" class=\"dataframe\">\n",
              "  <thead>\n",
              "    <tr style=\"text-align: right;\">\n",
              "      <th></th>\n",
              "      <th>extraction_type_class</th>\n",
              "    </tr>\n",
              "  </thead>\n",
              "  <tbody>\n",
              "    <tr>\n",
              "      <th>43360</th>\n",
              "      <td>1</td>\n",
              "    </tr>\n",
              "    <tr>\n",
              "      <th>7263</th>\n",
              "      <td>1</td>\n",
              "    </tr>\n",
              "    <tr>\n",
              "      <th>2486</th>\n",
              "      <td>2</td>\n",
              "    </tr>\n",
              "    <tr>\n",
              "      <th>313</th>\n",
              "      <td>3</td>\n",
              "    </tr>\n",
              "    <tr>\n",
              "      <th>52726</th>\n",
              "      <td>4</td>\n",
              "    </tr>\n",
              "    <tr>\n",
              "      <th>8558</th>\n",
              "      <td>1</td>\n",
              "    </tr>\n",
              "    <tr>\n",
              "      <th>2559</th>\n",
              "      <td>1</td>\n",
              "    </tr>\n",
              "    <tr>\n",
              "      <th>54735</th>\n",
              "      <td>4</td>\n",
              "    </tr>\n",
              "    <tr>\n",
              "      <th>25763</th>\n",
              "      <td>2</td>\n",
              "    </tr>\n",
              "    <tr>\n",
              "      <th>44540</th>\n",
              "      <td>5</td>\n",
              "    </tr>\n",
              "    <tr>\n",
              "      <th>28603</th>\n",
              "      <td>3</td>\n",
              "    </tr>\n",
              "    <tr>\n",
              "      <th>4372</th>\n",
              "      <td>5</td>\n",
              "    </tr>\n",
              "    <tr>\n",
              "      <th>30666</th>\n",
              "      <td>1</td>\n",
              "    </tr>\n",
              "    <tr>\n",
              "      <th>6431</th>\n",
              "      <td>5</td>\n",
              "    </tr>\n",
              "    <tr>\n",
              "      <th>57420</th>\n",
              "      <td>3</td>\n",
              "    </tr>\n",
              "    <tr>\n",
              "      <th>1373</th>\n",
              "      <td>1</td>\n",
              "    </tr>\n",
              "    <tr>\n",
              "      <th>2026</th>\n",
              "      <td>1</td>\n",
              "    </tr>\n",
              "    <tr>\n",
              "      <th>58977</th>\n",
              "      <td>2</td>\n",
              "    </tr>\n",
              "    <tr>\n",
              "      <th>41101</th>\n",
              "      <td>1</td>\n",
              "    </tr>\n",
              "    <tr>\n",
              "      <th>10019</th>\n",
              "      <td>1</td>\n",
              "    </tr>\n",
              "  </tbody>\n",
              "</table>\n",
              "</div>"
            ],
            "text/plain": [
              "       extraction_type_class\n",
              "43360                      1\n",
              "7263                       1\n",
              "2486                       2\n",
              "313                        3\n",
              "52726                      4\n",
              "8558                       1\n",
              "2559                       1\n",
              "54735                      4\n",
              "25763                      2\n",
              "44540                      5\n",
              "28603                      3\n",
              "4372                       5\n",
              "30666                      1\n",
              "6431                       5\n",
              "57420                      3\n",
              "1373                       1\n",
              "2026                       1\n",
              "58977                      2\n",
              "41101                      1\n",
              "10019                      1"
            ]
          },
          "metadata": {
            "tags": []
          },
          "execution_count": 28
        }
      ]
    },
    {
      "cell_type": "markdown",
      "metadata": {
        "id": "Nd-ZWprasqUM"
      },
      "source": [
        "#### Ordinal Encoding, Logistic Regression, Validation Accuracy"
      ]
    },
    {
      "cell_type": "code",
      "metadata": {
        "id": "GJ1YpwjvrhfL",
        "outputId": "9724c050-1219-4648-dce9-6cc61a0c9dd2",
        "colab": {
          "base_uri": "https://localhost:8080/"
        }
      },
      "source": [
        "lr = make_pipeline(\n",
        "    ce.OrdinalEncoder(), \n",
        "    SimpleImputer(), \n",
        "    StandardScaler(), \n",
        "    LogisticRegressionCV(multi_class='auto', solver='lbfgs', cv=5, n_jobs=-1)\n",
        ")\n",
        "\n",
        "lr.fit(X_train[[feature]], y_train)\n",
        "score = lr.score(X_val[[feature]], y_val)\n",
        "print('Logistic Regression, Validation Accuracy', score)"
      ],
      "execution_count": null,
      "outputs": [
        {
          "output_type": "stream",
          "text": [
            "Logistic Regression, Validation Accuracy 0.5417508417508418\n"
          ],
          "name": "stdout"
        }
      ]
    },
    {
      "cell_type": "markdown",
      "metadata": {
        "id": "9lO_R3SksuHs"
      },
      "source": [
        "#### Ordinal Encoding, Decision Tree, Validation Accuracy"
      ]
    },
    {
      "cell_type": "code",
      "metadata": {
        "id": "aOELD_roriVI",
        "outputId": "3f019206-c289-454d-9fd1-fb13eca80e3c",
        "colab": {
          "base_uri": "https://localhost:8080/"
        }
      },
      "source": [
        "dt = make_pipeline(\n",
        "    ce.OrdinalEncoder(), \n",
        "    SimpleImputer(), \n",
        "    DecisionTreeClassifier(random_state=42)\n",
        ")\n",
        "\n",
        "dt.fit(X_train[[feature]], y_train)\n",
        "score = dt.score(X_val[[feature]], y_val)\n",
        "print('Decision Tree, Validation Accuracy', score)"
      ],
      "execution_count": null,
      "outputs": [
        {
          "output_type": "stream",
          "text": [
            "Decision Tree, Validation Accuracy 0.6202861952861953\n"
          ],
          "name": "stdout"
        }
      ]
    },
    {
      "cell_type": "markdown",
      "metadata": {
        "id": "7V2zHjiwswTg"
      },
      "source": [
        "#### Ordinal Encoding, Logistic Regression, Model Interpretation"
      ]
    },
    {
      "cell_type": "code",
      "metadata": {
        "id": "S9UPYPois8QR",
        "outputId": "2361235d-0ed1-449d-b91d-b09d2b1909b0",
        "colab": {
          "base_uri": "https://localhost:8080/",
          "height": 265
        }
      },
      "source": [
        "model = lr.named_steps['logisticregressioncv']\n",
        "encoder = lr.named_steps['ordinalencoder']\n",
        "encoded_columns = encoder.transform(X_val[[feature]]).columns\n",
        "coefficients = pd.Series(model.coef_[0], encoded_columns)\n",
        "coefficients.sort_values().plot.barh(color='grey');"
      ],
      "execution_count": null,
      "outputs": [
        {
          "output_type": "display_data",
          "data": {
            "image/png": "[encoded data removed]",
            "text/plain": [
              "<Figure size 432x288 with 1 Axes>"
            ]
          },
          "metadata": {
            "tags": [],
            "needs_background": "light"
          }
        }
      ]
    },
    {
      "cell_type": "markdown",
      "metadata": {
        "id": "MvmmvE8fsymh"
      },
      "source": [
        "#### Ordinal Encoding, Decision Tree, Model Interpretation"
      ]
    },
    {
      "cell_type": "code",
      "metadata": {
        "id": "jCvUu4Oms88b",
        "outputId": "55296496-c170-4d5c-a5c3-f1a4f64dad33",
        "colab": {
          "base_uri": "https://localhost:8080/",
          "height": 816
        }
      },
      "source": [
        "model = dt.named_steps['decisiontreeclassifier']\n",
        "encoder = dt.named_steps['ordinalencoder']\n",
        "encoded_columns = encoder.transform(X_val[[feature]]).columns\n",
        "\n",
        "dot_data = export_graphviz(model, \n",
        "                           out_file=None, \n",
        "                           max_depth=5, \n",
        "                           feature_names=encoded_columns,\n",
        "                           class_names=model.classes_, \n",
        "                           impurity=False, \n",
        "                           filled=True, \n",
        "                           proportion=True, \n",
        "                           rounded=True)   \n",
        "display(graphviz.Source(dot_data))"
      ],
      "execution_count": null,
      "outputs": [
        {
          "output_type": "display_data",
          "data": {
            "text/plain": [
              "<graphviz.files.Source at 0x7f2fd99acef0>"
            ],
            "image/svg+xml": "<?xml version=\"1.0\" encoding=\"UTF-8\" standalone=\"no\"?>\n<!DOCTYPE svg PUBLIC \"-//W3C//DTD SVG 1.1//EN\"\n \"http://www.w3.org/Graphics/SVG/1.1/DTD/svg11.dtd\">\n<!-- Generated by graphviz version 2.40.1 (20161225.0304)\n -->\n<!-- Title: Tree Pages: 1 -->\n<svg width=\"1167pt\" height=\"581pt\"\n viewBox=\"0.00 0.00 1167.00 581.00\" xmlns=\"http://www.w3.org/2000/svg\" xmlns:xlink=\"http://www.w3.org/1999/xlink\">\n<g id=\"graph0\" class=\"graph\" transform=\"scale(1 1) rotate(0) translate(4 577)\">\n<title>Tree</title>\n<polygon fill=\"#ffffff\" stroke=\"transparent\" points=\"-4,4 -4,-577 1163,-577 1163,4 -4,4\"/>\n<!-- 0 -->\n<g id=\"node1\" class=\"node\">\n<title>0</title>\n<path fill=\"#f8decc\" stroke=\"#000000\" d=\"M500,-573C500,-573 322,-573 322,-573 316,-573 310,-567 310,-561 310,-561 310,-517 310,-517 310,-511 316,-505 322,-505 322,-505 500,-505 500,-505 506,-505 512,-511 512,-517 512,-517 512,-561 512,-561 512,-567 506,-573 500,-573\"/>\n<text text-anchor=\"middle\" x=\"411\" y=\"-557.8\" font-family=\"Helvetica,sans-Serif\" font-size=\"14.00\" fill=\"#000000\">extraction_type_class &lt;= 2.5</text>\n<text text-anchor=\"middle\" x=\"411\" y=\"-542.8\" font-family=\"Helvetica,sans-Serif\" font-size=\"14.00\" fill=\"#000000\">samples = 100.0%</text>\n<text text-anchor=\"middle\" x=\"411\" y=\"-527.8\" font-family=\"Helvetica,sans-Serif\" font-size=\"14.00\" fill=\"#000000\">value = [0.543, 0.073, 0.384]</text>\n<text text-anchor=\"middle\" x=\"411\" y=\"-512.8\" font-family=\"Helvetica,sans-Serif\" font-size=\"14.00\" fill=\"#000000\">class = functional</text>\n</g>\n<!-- 1 -->\n<g id=\"node2\" class=\"node\">\n<title>1</title>\n<path fill=\"#f4c7a8\" stroke=\"#000000\" d=\"M390,-469C390,-469 212,-469 212,-469 206,-469 200,-463 200,-457 200,-457 200,-413 200,-413 200,-407 206,-401 212,-401 212,-401 390,-401 390,-401 396,-401 402,-407 402,-413 402,-413 402,-457 402,-457 402,-463 396,-469 390,-469\"/>\n<text text-anchor=\"middle\" x=\"301\" y=\"-453.8\" font-family=\"Helvetica,sans-Serif\" font-size=\"14.00\" fill=\"#000000\">extraction_type_class &lt;= 1.5</text>\n<text text-anchor=\"middle\" x=\"301\" y=\"-438.8\" font-family=\"Helvetica,sans-Serif\" font-size=\"14.00\" fill=\"#000000\">samples = 72.9%</text>\n<text text-anchor=\"middle\" x=\"301\" y=\"-423.8\" font-family=\"Helvetica,sans-Serif\" font-size=\"14.00\" fill=\"#000000\">value = [0.611, 0.085, 0.304]</text>\n<text text-anchor=\"middle\" x=\"301\" y=\"-408.8\" font-family=\"Helvetica,sans-Serif\" font-size=\"14.00\" fill=\"#000000\">class = functional</text>\n</g>\n<!-- 0&#45;&gt;1 -->\n<g id=\"edge1\" class=\"edge\">\n<title>0&#45;&gt;1</title>\n<path fill=\"none\" stroke=\"#000000\" d=\"M374.9819,-504.9465C365.2954,-495.7884 354.7136,-485.7838 344.6603,-476.2788\"/>\n<polygon fill=\"#000000\" stroke=\"#000000\" points=\"346.7701,-473.4569 337.099,-469.13 341.961,-478.5434 346.7701,-473.4569\"/>\n<text text-anchor=\"middle\" x=\"337.7997\" y=\"-490.4202\" font-family=\"Helvetica,sans-Serif\" font-size=\"14.00\" fill=\"#000000\">True</text>\n</g>\n<!-- 4 -->\n<g id=\"node5\" class=\"node\">\n<title>4</title>\n<path fill=\"#d0b4f5\" stroke=\"#000000\" d=\"M610,-469C610,-469 432,-469 432,-469 426,-469 420,-463 420,-457 420,-457 420,-413 420,-413 420,-407 426,-401 432,-401 432,-401 610,-401 610,-401 616,-401 622,-407 622,-413 622,-413 622,-457 622,-457 622,-463 616,-469 610,-469\"/>\n<text text-anchor=\"middle\" x=\"521\" y=\"-453.8\" font-family=\"Helvetica,sans-Serif\" font-size=\"14.00\" fill=\"#000000\">extraction_type_class &lt;= 3.5</text>\n<text text-anchor=\"middle\" x=\"521\" y=\"-438.8\" font-family=\"Helvetica,sans-Serif\" font-size=\"14.00\" fill=\"#000000\">samples = 27.1%</text>\n<text text-anchor=\"middle\" x=\"521\" y=\"-423.8\" font-family=\"Helvetica,sans-Serif\" font-size=\"14.00\" fill=\"#000000\">value = [0.361, 0.038, 0.601]</text>\n<text text-anchor=\"middle\" x=\"521\" y=\"-408.8\" font-family=\"Helvetica,sans-Serif\" font-size=\"14.00\" fill=\"#000000\">class = non functional</text>\n</g>\n<!-- 0&#45;&gt;4 -->\n<g id=\"edge4\" class=\"edge\">\n<title>0&#45;&gt;4</title>\n<path fill=\"none\" stroke=\"#000000\" d=\"M447.0181,-504.9465C456.7046,-495.7884 467.2864,-485.7838 477.3397,-476.2788\"/>\n<polygon fill=\"#000000\" stroke=\"#000000\" points=\"480.039,-478.5434 484.901,-469.13 475.2299,-473.4569 480.039,-478.5434\"/>\n<text text-anchor=\"middle\" x=\"484.2003\" y=\"-490.4202\" font-family=\"Helvetica,sans-Serif\" font-size=\"14.00\" fill=\"#000000\">False</text>\n</g>\n<!-- 2 -->\n<g id=\"node3\" class=\"node\">\n<title>2</title>\n<path fill=\"#f4c9aa\" stroke=\"#000000\" d=\"M188,-357.5C188,-357.5 12,-357.5 12,-357.5 6,-357.5 0,-351.5 0,-345.5 0,-345.5 0,-316.5 0,-316.5 0,-310.5 6,-304.5 12,-304.5 12,-304.5 188,-304.5 188,-304.5 194,-304.5 200,-310.5 200,-316.5 200,-316.5 200,-345.5 200,-345.5 200,-351.5 194,-357.5 188,-357.5\"/>\n<text text-anchor=\"middle\" x=\"100\" y=\"-342.3\" font-family=\"Helvetica,sans-Serif\" font-size=\"14.00\" fill=\"#000000\">samples = 45.1%</text>\n<text text-anchor=\"middle\" x=\"100\" y=\"-327.3\" font-family=\"Helvetica,sans-Serif\" font-size=\"14.00\" fill=\"#000000\">value = [0.599, 0.101, 0.299]</text>\n<text text-anchor=\"middle\" x=\"100\" y=\"-312.3\" font-family=\"Helvetica,sans-Serif\" font-size=\"14.00\" fill=\"#000000\">class = functional</text>\n</g>\n<!-- 1&#45;&gt;2 -->\n<g id=\"edge2\" class=\"edge\">\n<title>1&#45;&gt;2</title>\n<path fill=\"none\" stroke=\"#000000\" d=\"M235.1851,-400.9465C211.1292,-388.4997 184.0513,-374.4892 160.4827,-362.2946\"/>\n<polygon fill=\"#000000\" stroke=\"#000000\" points=\"161.7878,-359.0291 151.2978,-357.5422 158.571,-365.2462 161.7878,-359.0291\"/>\n</g>\n<!-- 3 -->\n<g id=\"node4\" class=\"node\">\n<title>3</title>\n<path fill=\"#f3c5a3\" stroke=\"#000000\" d=\"M382,-357.5C382,-357.5 230,-357.5 230,-357.5 224,-357.5 218,-351.5 218,-345.5 218,-345.5 218,-316.5 218,-316.5 218,-310.5 224,-304.5 230,-304.5 230,-304.5 382,-304.5 382,-304.5 388,-304.5 394,-310.5 394,-316.5 394,-316.5 394,-345.5 394,-345.5 394,-351.5 388,-357.5 382,-357.5\"/>\n<text text-anchor=\"middle\" x=\"306\" y=\"-342.3\" font-family=\"Helvetica,sans-Serif\" font-size=\"14.00\" fill=\"#000000\">samples = 27.7%</text>\n<text text-anchor=\"middle\" x=\"306\" y=\"-327.3\" font-family=\"Helvetica,sans-Serif\" font-size=\"14.00\" fill=\"#000000\">value = [0.63, 0.06, 0.31]</text>\n<text text-anchor=\"middle\" x=\"306\" y=\"-312.3\" font-family=\"Helvetica,sans-Serif\" font-size=\"14.00\" fill=\"#000000\">class = functional</text>\n</g>\n<!-- 1&#45;&gt;3 -->\n<g id=\"edge3\" class=\"edge\">\n<title>1&#45;&gt;3</title>\n<path fill=\"none\" stroke=\"#000000\" d=\"M302.6372,-400.9465C303.1509,-390.2621 303.7199,-378.4254 304.2416,-367.5742\"/>\n<polygon fill=\"#000000\" stroke=\"#000000\" points=\"307.7396,-367.6987 304.7239,-357.5422 300.7477,-367.3625 307.7396,-367.6987\"/>\n</g>\n<!-- 5 -->\n<g id=\"node6\" class=\"node\">\n<title>5</title>\n<path fill=\"#9d66eb\" stroke=\"#000000\" d=\"M601,-357.5C601,-357.5 433,-357.5 433,-357.5 427,-357.5 421,-351.5 421,-345.5 421,-345.5 421,-316.5 421,-316.5 421,-310.5 427,-304.5 433,-304.5 433,-304.5 601,-304.5 601,-304.5 607,-304.5 613,-310.5 613,-316.5 613,-316.5 613,-345.5 613,-345.5 613,-351.5 607,-357.5 601,-357.5\"/>\n<text text-anchor=\"middle\" x=\"517\" y=\"-342.3\" font-family=\"Helvetica,sans-Serif\" font-size=\"14.00\" fill=\"#000000\">samples = 10.9%</text>\n<text text-anchor=\"middle\" x=\"517\" y=\"-327.3\" font-family=\"Helvetica,sans-Serif\" font-size=\"14.00\" fill=\"#000000\">value = [0.159, 0.031, 0.81]</text>\n<text text-anchor=\"middle\" x=\"517\" y=\"-312.3\" font-family=\"Helvetica,sans-Serif\" font-size=\"14.00\" fill=\"#000000\">class = non functional</text>\n</g>\n<!-- 4&#45;&gt;5 -->\n<g id=\"edge5\" class=\"edge\">\n<title>4&#45;&gt;5</title>\n<path fill=\"none\" stroke=\"#000000\" d=\"M519.6903,-400.9465C519.2793,-390.2621 518.8241,-378.4254 518.4067,-367.5742\"/>\n<polygon fill=\"#000000\" stroke=\"#000000\" points=\"521.9027,-367.4002 518.0209,-357.5422 514.9079,-367.6693 521.9027,-367.4002\"/>\n</g>\n<!-- 6 -->\n<g id=\"node7\" class=\"node\">\n<title>6</title>\n<path fill=\"#fdf7f2\" stroke=\"#000000\" d=\"M821,-365C821,-365 643,-365 643,-365 637,-365 631,-359 631,-353 631,-353 631,-309 631,-309 631,-303 637,-297 643,-297 643,-297 821,-297 821,-297 827,-297 833,-303 833,-309 833,-309 833,-353 833,-353 833,-359 827,-365 821,-365\"/>\n<text text-anchor=\"middle\" x=\"732\" y=\"-349.8\" font-family=\"Helvetica,sans-Serif\" font-size=\"14.00\" fill=\"#000000\">extraction_type_class &lt;= 4.5</text>\n<text text-anchor=\"middle\" x=\"732\" y=\"-334.8\" font-family=\"Helvetica,sans-Serif\" font-size=\"14.00\" fill=\"#000000\">samples = 16.2%</text>\n<text text-anchor=\"middle\" x=\"732\" y=\"-319.8\" font-family=\"Helvetica,sans-Serif\" font-size=\"14.00\" fill=\"#000000\">value = [0.497, 0.043, 0.46]</text>\n<text text-anchor=\"middle\" x=\"732\" y=\"-304.8\" font-family=\"Helvetica,sans-Serif\" font-size=\"14.00\" fill=\"#000000\">class = functional</text>\n</g>\n<!-- 4&#45;&gt;6 -->\n<g id=\"edge6\" class=\"edge\">\n<title>4&#45;&gt;6</title>\n<path fill=\"none\" stroke=\"#000000\" d=\"M590.0893,-400.9465C610.4002,-390.9354 632.7633,-379.9129 653.6112,-369.6371\"/>\n<polygon fill=\"#000000\" stroke=\"#000000\" points=\"655.3332,-372.6905 662.7555,-365.13 652.2385,-366.4117 655.3332,-372.6905\"/>\n</g>\n<!-- 7 -->\n<g id=\"node8\" class=\"node\">\n<title>7</title>\n<path fill=\"#d8c1f7\" stroke=\"#000000\" d=\"M710,-253.5C710,-253.5 534,-253.5 534,-253.5 528,-253.5 522,-247.5 522,-241.5 522,-241.5 522,-212.5 522,-212.5 522,-206.5 528,-200.5 534,-200.5 534,-200.5 710,-200.5 710,-200.5 716,-200.5 722,-206.5 722,-212.5 722,-212.5 722,-241.5 722,-241.5 722,-247.5 716,-253.5 710,-253.5\"/>\n<text text-anchor=\"middle\" x=\"622\" y=\"-238.3\" font-family=\"Helvetica,sans-Serif\" font-size=\"14.00\" fill=\"#000000\">samples = 5.0%</text>\n<text text-anchor=\"middle\" x=\"622\" y=\"-223.3\" font-family=\"Helvetica,sans-Serif\" font-size=\"14.00\" fill=\"#000000\">value = [0.381, 0.045, 0.574]</text>\n<text text-anchor=\"middle\" x=\"622\" y=\"-208.3\" font-family=\"Helvetica,sans-Serif\" font-size=\"14.00\" fill=\"#000000\">class = non functional</text>\n</g>\n<!-- 6&#45;&gt;7 -->\n<g id=\"edge7\" class=\"edge\">\n<title>6&#45;&gt;7</title>\n<path fill=\"none\" stroke=\"#000000\" d=\"M695.9819,-296.9465C683.6325,-285.2707 669.8278,-272.219 657.5183,-260.5809\"/>\n<polygon fill=\"#000000\" stroke=\"#000000\" points=\"659.7445,-257.869 650.0734,-253.5422 654.9354,-262.9556 659.7445,-257.869\"/>\n</g>\n<!-- 8 -->\n<g id=\"node9\" class=\"node\">\n<title>8</title>\n<path fill=\"#f9e2d1\" stroke=\"#000000\" d=\"M930,-261C930,-261 752,-261 752,-261 746,-261 740,-255 740,-249 740,-249 740,-205 740,-205 740,-199 746,-193 752,-193 752,-193 930,-193 930,-193 936,-193 942,-199 942,-205 942,-205 942,-249 942,-249 942,-255 936,-261 930,-261\"/>\n<text text-anchor=\"middle\" x=\"841\" y=\"-245.8\" font-family=\"Helvetica,sans-Serif\" font-size=\"14.00\" fill=\"#000000\">extraction_type_class &lt;= 5.5</text>\n<text text-anchor=\"middle\" x=\"841\" y=\"-230.8\" font-family=\"Helvetica,sans-Serif\" font-size=\"14.00\" fill=\"#000000\">samples = 11.2%</text>\n<text text-anchor=\"middle\" x=\"841\" y=\"-215.8\" font-family=\"Helvetica,sans-Serif\" font-size=\"14.00\" fill=\"#000000\">value = [0.548, 0.042, 0.41]</text>\n<text text-anchor=\"middle\" x=\"841\" y=\"-200.8\" font-family=\"Helvetica,sans-Serif\" font-size=\"14.00\" fill=\"#000000\">class = functional</text>\n</g>\n<!-- 6&#45;&gt;8 -->\n<g id=\"edge8\" class=\"edge\">\n<title>6&#45;&gt;8</title>\n<path fill=\"none\" stroke=\"#000000\" d=\"M767.6907,-296.9465C777.2891,-287.7884 787.7747,-277.7838 797.7366,-268.2788\"/>\n<polygon fill=\"#000000\" stroke=\"#000000\" points=\"800.4102,-270.5655 805.2291,-261.13 795.5779,-265.5009 800.4102,-270.5655\"/>\n</g>\n<!-- 9 -->\n<g id=\"node10\" class=\"node\">\n<title>9</title>\n<path fill=\"#f9e4d5\" stroke=\"#000000\" d=\"M819,-149.5C819,-149.5 643,-149.5 643,-149.5 637,-149.5 631,-143.5 631,-137.5 631,-137.5 631,-108.5 631,-108.5 631,-102.5 637,-96.5 643,-96.5 643,-96.5 819,-96.5 819,-96.5 825,-96.5 831,-102.5 831,-108.5 831,-108.5 831,-137.5 831,-137.5 831,-143.5 825,-149.5 819,-149.5\"/>\n<text text-anchor=\"middle\" x=\"731\" y=\"-134.3\" font-family=\"Helvetica,sans-Serif\" font-size=\"14.00\" fill=\"#000000\">samples = 10.3%</text>\n<text text-anchor=\"middle\" x=\"731\" y=\"-119.3\" font-family=\"Helvetica,sans-Serif\" font-size=\"14.00\" fill=\"#000000\">value = [0.541, 0.042, 0.416]</text>\n<text text-anchor=\"middle\" x=\"731\" y=\"-104.3\" font-family=\"Helvetica,sans-Serif\" font-size=\"14.00\" fill=\"#000000\">class = functional</text>\n</g>\n<!-- 8&#45;&gt;9 -->\n<g id=\"edge9\" class=\"edge\">\n<title>8&#45;&gt;9</title>\n<path fill=\"none\" stroke=\"#000000\" d=\"M804.9819,-192.9465C792.6325,-181.2707 778.8278,-168.219 766.5183,-156.5809\"/>\n<polygon fill=\"#000000\" stroke=\"#000000\" points=\"768.7445,-153.869 759.0734,-149.5422 763.9354,-158.9556 768.7445,-153.869\"/>\n</g>\n<!-- 10 -->\n<g id=\"node11\" class=\"node\">\n<title>10</title>\n<path fill=\"#f4cbad\" stroke=\"#000000\" d=\"M1039,-157C1039,-157 861,-157 861,-157 855,-157 849,-151 849,-145 849,-145 849,-101 849,-101 849,-95 855,-89 861,-89 861,-89 1039,-89 1039,-89 1045,-89 1051,-95 1051,-101 1051,-101 1051,-145 1051,-145 1051,-151 1045,-157 1039,-157\"/>\n<text text-anchor=\"middle\" x=\"950\" y=\"-141.8\" font-family=\"Helvetica,sans-Serif\" font-size=\"14.00\" fill=\"#000000\">extraction_type_class &lt;= 6.5</text>\n<text text-anchor=\"middle\" x=\"950\" y=\"-126.8\" font-family=\"Helvetica,sans-Serif\" font-size=\"14.00\" fill=\"#000000\">samples = 0.9%</text>\n<text text-anchor=\"middle\" x=\"950\" y=\"-111.8\" font-family=\"Helvetica,sans-Serif\" font-size=\"14.00\" fill=\"#000000\">value = [0.614, 0.043, 0.343]</text>\n<text text-anchor=\"middle\" x=\"950\" y=\"-96.8\" font-family=\"Helvetica,sans-Serif\" font-size=\"14.00\" fill=\"#000000\">class = functional</text>\n</g>\n<!-- 8&#45;&gt;10 -->\n<g id=\"edge10\" class=\"edge\">\n<title>8&#45;&gt;10</title>\n<path fill=\"none\" stroke=\"#000000\" d=\"M876.6907,-192.9465C886.2891,-183.7884 896.7747,-173.7838 906.7366,-164.2788\"/>\n<polygon fill=\"#000000\" stroke=\"#000000\" points=\"909.4102,-166.5655 914.2291,-157.13 904.5779,-161.5009 909.4102,-166.5655\"/>\n</g>\n<!-- 11 -->\n<g id=\"node12\" class=\"node\">\n<title>11</title>\n<path fill=\"#f2bf9b\" stroke=\"#000000\" d=\"M929,-53C929,-53 753,-53 753,-53 747,-53 741,-47 741,-41 741,-41 741,-12 741,-12 741,-6 747,0 753,0 753,0 929,0 929,0 935,0 941,-6 941,-12 941,-12 941,-41 941,-41 941,-47 935,-53 929,-53\"/>\n<text text-anchor=\"middle\" x=\"841\" y=\"-37.8\" font-family=\"Helvetica,sans-Serif\" font-size=\"14.00\" fill=\"#000000\">samples = 0.7%</text>\n<text text-anchor=\"middle\" x=\"841\" y=\"-22.8\" font-family=\"Helvetica,sans-Serif\" font-size=\"14.00\" fill=\"#000000\">value = [0.657, 0.037, 0.306]</text>\n<text text-anchor=\"middle\" x=\"841\" y=\"-7.8\" font-family=\"Helvetica,sans-Serif\" font-size=\"14.00\" fill=\"#000000\">class = functional</text>\n</g>\n<!-- 10&#45;&gt;11 -->\n<g id=\"edge11\" class=\"edge\">\n<title>10&#45;&gt;11</title>\n<path fill=\"none\" stroke=\"#000000\" d=\"M911.5707,-88.9777C900.9173,-79.546 889.3641,-69.3178 878.7499,-59.9208\"/>\n<polygon fill=\"#000000\" stroke=\"#000000\" points=\"881.0207,-57.2566 871.2133,-53.2485 876.3806,-62.4978 881.0207,-57.2566\"/>\n</g>\n<!-- 12 -->\n<g id=\"node13\" class=\"node\">\n<title>12</title>\n<path fill=\"#f8f3fd\" stroke=\"#000000\" d=\"M1147,-53C1147,-53 971,-53 971,-53 965,-53 959,-47 959,-41 959,-41 959,-12 959,-12 959,-6 965,0 971,0 971,0 1147,0 1147,0 1153,0 1159,-6 1159,-12 1159,-12 1159,-41 1159,-41 1159,-47 1153,-53 1147,-53\"/>\n<text text-anchor=\"middle\" x=\"1059\" y=\"-37.8\" font-family=\"Helvetica,sans-Serif\" font-size=\"14.00\" fill=\"#000000\">samples = 0.2%</text>\n<text text-anchor=\"middle\" x=\"1059\" y=\"-22.8\" font-family=\"Helvetica,sans-Serif\" font-size=\"14.00\" fill=\"#000000\">value = [0.452, 0.065, 0.484]</text>\n<text text-anchor=\"middle\" x=\"1059\" y=\"-7.8\" font-family=\"Helvetica,sans-Serif\" font-size=\"14.00\" fill=\"#000000\">class = non functional</text>\n</g>\n<!-- 10&#45;&gt;12 -->\n<g id=\"edge12\" class=\"edge\">\n<title>10&#45;&gt;12</title>\n<path fill=\"none\" stroke=\"#000000\" d=\"M988.4293,-88.9777C999.0827,-79.546 1010.6359,-69.3178 1021.2501,-59.9208\"/>\n<polygon fill=\"#000000\" stroke=\"#000000\" points=\"1023.6194,-62.4978 1028.7867,-53.2485 1018.9793,-57.2566 1023.6194,-62.4978\"/>\n</g>\n</g>\n</svg>\n"
          },
          "metadata": {
            "tags": []
          }
        }
      ]
    },
    {
      "cell_type": "markdown",
      "metadata": {
        "id": "P4EJi2GvgLVa"
      },
      "source": [
        "# Understand how tree ensembles reduce overfitting compared to a single decision tree with unlimited depth"
      ]
    },
    {
      "cell_type": "markdown",
      "metadata": {
        "id": "hgSdzIweXYjW"
      },
      "source": [
        "## Overview"
      ]
    },
    {
      "cell_type": "markdown",
      "metadata": {
        "id": "0nNABF3HgLVg"
      },
      "source": [
        "### What's \"random\" about random forests?\n",
        "1. Each tree trains on a random bootstrap sample of the data. (In scikit-learn, for `RandomForestRegressor` and `RandomForestClassifier`, the `bootstrap` parameter's default is `True`.) This type of ensembling is called Bagging. (Bootstrap AGGregatING.)\n",
        "2. Each split considers a random subset of the features. (In scikit-learn, when the `max_features` parameter is not `None`.) \n",
        "\n",
        "For extra randomness, you can try [\"extremely randomized trees\"](https://scikit-learn.org/stable/modules/ensemble.html#extremely-randomized-trees)!\n",
        "\n",
        ">In extremely randomized trees (see [ExtraTreesClassifier](https://scikit-learn.org/stable/modules/generated/sklearn.ensemble.ExtraTreesClassifier.html) and [ExtraTreesRegressor](https://scikit-learn.org/stable/modules/generated/sklearn.ensemble.ExtraTreesRegressor.html) classes), randomness goes one step further in the way splits are computed. As in random forests, a random subset of candidate features is used, but instead of looking for the most discriminative thresholds, thresholds are drawn at random for each candidate feature and the best of these randomly-generated thresholds is picked as the splitting rule. This usually allows to reduce the variance of the model a bit more, at the expense of a slightly greater increase in bias"
      ]
    },
    {
      "cell_type": "markdown",
      "metadata": {
        "id": "661zPY_hXYje"
      },
      "source": [
        "## Follow Along"
      ]
    },
    {
      "cell_type": "markdown",
      "metadata": {
        "id": "pUYP619CgLVb"
      },
      "source": [
        "### Example: [predicting golf putts](https://statmodeling.stat.columbia.edu/2008/12/04/the_golf_puttin/)\n",
        "(1 feature, non-linear, regression)"
      ]
    },
    {
      "cell_type": "code",
      "metadata": {
        "id": "b4640ukxgLVc"
      },
      "source": [
        "putts = pd.DataFrame(\n",
        "    columns=['distance', 'tries', 'successes'], \n",
        "    data = [[2, 1443, 1346],\n",
        "            [3, 694, 577],\n",
        "            [4, 455, 337],\n",
        "            [5, 353, 208],\n",
        "            [6, 272, 149],\n",
        "            [7, 256, 136],\n",
        "            [8, 240, 111],\n",
        "            [9, 217, 69],\n",
        "            [10, 200, 67],\n",
        "            [11, 237, 75],\n",
        "            [12, 202, 52],\n",
        "            [13, 192, 46],\n",
        "            [14, 174, 54],\n",
        "            [15, 167, 28],\n",
        "            [16, 201, 27],\n",
        "            [17, 195, 31],\n",
        "            [18, 191, 33],\n",
        "            [19, 147, 20],\n",
        "            [20, 152, 24]]\n",
        ")\n",
        "\n",
        "putts['rate of success'] = putts['successes'] / putts['tries']\n",
        "putts_X = putts[['distance']]\n",
        "putts_y = putts['rate of success']"
      ],
      "execution_count": null,
      "outputs": []
    },
    {
      "cell_type": "code",
      "metadata": {
        "id": "T0IpCcKggLVd",
        "outputId": "e084295b-b19b-4e79-8b30-1da587b4f76d",
        "colab": {
          "base_uri": "https://localhost:8080/",
          "height": 638,
          "referenced_widgets": [
            "2a3b5b4adaf245a38709fdadebd16811",
            "2e14fad993a049fc9c1bdd9c03309543",
            "cd5c301d0af34a0193fb180c35ac9715",
            "fe725aba10ef403cbd8ba2ce2ca330eb",
            "fa7a0edd8fe447c78930374c6504ec5f",
            "03bdc1df779e423892b46b7dbaef1a9b",
            "542874bd8fde434d83685d1887d75c68",
            "b3de3ae985164439b02163e3d1c2e4f8",
            "1e0553c9b27549788e2aabd4b6b68b8f",
            "213b4171e5a147d88b91817544262f5d"
          ]
        }
      },
      "source": [
        "%matplotlib inline\n",
        "import matplotlib.pyplot as plt\n",
        "from ipywidgets import interact\n",
        "from sklearn.ensemble import RandomForestRegressor\n",
        "from sklearn.tree import DecisionTreeRegressor\n",
        "\n",
        "def putt_trees(max_depth=1, n_estimators=1):\n",
        "    models = [DecisionTreeRegressor(max_depth=max_depth), \n",
        "              RandomForestRegressor(max_depth=max_depth, n_estimators=n_estimators)]\n",
        "    \n",
        "    for model in models:\n",
        "        name = model.__class__.__name__\n",
        "        model.fit(putts_X, putts_y)\n",
        "        ax = putts.plot('distance', 'rate of success', kind='scatter', title=name)\n",
        "        ax.step(putts_X, model.predict(putts_X), where='mid')\n",
        "        plt.show()\n",
        "        \n",
        "interact(putt_trees, max_depth=(1,6,1), n_estimators=(10,40,10));"
      ],
      "execution_count": null,
      "outputs": [
        {
          "output_type": "display_data",
          "data": {
            "application/vnd.jupyter.widget-view+json": {
              "model_id": "2a3b5b4adaf245a38709fdadebd16811",
              "version_minor": 0,
              "version_major": 2
            },
            "text/plain": [
              "interactive(children=(IntSlider(value=1, description='max_depth', max=6, min=1), IntSlider(value=10, descripti…"
            ]
          },
          "metadata": {
            "tags": []
          }
        }
      ]
    },
    {
      "cell_type": "markdown",
      "metadata": {
        "id": "rq4Z_wQ_gLVj"
      },
      "source": [
        "### Go back to Tanzania Waterpumps ..."
      ]
    },
    {
      "cell_type": "markdown",
      "metadata": {
        "id": "FoSE9iT6YXQz"
      },
      "source": [
        "#### Helper function to visualize predicted probabilities\n",
        "\n"
      ]
    },
    {
      "cell_type": "code",
      "metadata": {
        "id": "HzIAjGpJgLVj"
      },
      "source": [
        "import itertools\n",
        "import seaborn as sns\n",
        "\n",
        "def pred_heatmap(model, X, features, class_index=-1, title='', num=100):\n",
        "    \"\"\"\n",
        "    Visualize predicted probabilities, for classifier fit on 2 numeric features\n",
        "    \n",
        "    Parameters\n",
        "    ----------\n",
        "    model : scikit-learn classifier, already fit\n",
        "    X : pandas dataframe, which was used to fit model\n",
        "    features : list of strings, column names of the 2 numeric features\n",
        "    class_index : integer, index of class label\n",
        "    title : string, title of plot\n",
        "    num : int, number of grid points for each feature\n",
        "    \n",
        "    Returns\n",
        "    -------\n",
        "    y_pred_proba : numpy array, predicted probabilities for class_index\n",
        "    \"\"\"\n",
        "    feature1, feature2 = features\n",
        "    min1, max1 = X[feature1].min(), X[feature1].max()\n",
        "    min2, max2 = X[feature2].min(), X[feature2].max()\n",
        "    x1 = np.linspace(min1, max1, num)\n",
        "    x2 = np.linspace(max2, min2, num)\n",
        "    combos = list(itertools.product(x1, x2))\n",
        "    y_pred_proba = model.predict_proba(combos)[:, class_index]\n",
        "    pred_grid = y_pred_proba.reshape(num, num).T\n",
        "    table = pd.DataFrame(pred_grid, columns=x1, index=x2)\n",
        "    sns.heatmap(table, vmin=0, vmax=1)\n",
        "    plt.xticks([])\n",
        "    plt.yticks([])\n",
        "    plt.xlabel(feature1)\n",
        "    plt.ylabel(feature2)\n",
        "    plt.title(title)\n",
        "    plt.show()\n",
        "    return y_pred_proba\n"
      ],
      "execution_count": null,
      "outputs": []
    },
    {
      "cell_type": "markdown",
      "metadata": {
        "id": "DiRfPqHjgLVl"
      },
      "source": [
        "### Compare Decision Tree, Random Forest, Logistic Regression"
      ]
    },
    {
      "cell_type": "code",
      "metadata": {
        "id": "HKkMLXhMgLVl",
        "outputId": "a4aabe9f-2087-4d68-8882-d8438b58e4b6",
        "colab": {
          "base_uri": "https://localhost:8080/",
          "height": 864,
          "referenced_widgets": [
            "909557cbba4843b8922e665b120f28c0",
            "6b5d58ec72a34a4faf5d2e6dd89a02a2",
            "d57fd2b7060842d1b146e610e1b6e4f2",
            "9f353f355d514b0fb06ea04bb130d510",
            "090a4df9baba404bab37a15ba36eaf0c",
            "f5c7f07a9c6644a794ce8bf77397abfc",
            "b15c9198e7dc48c49eb67f8011f0632f",
            "c65320ba50204e9dae8a10f867cc3d5c",
            "c6631160c31540569b5c635dc5e4ffd6",
            "5048770511034e3aac1d0222428214fc"
          ]
        }
      },
      "source": [
        "# Instructions\n",
        "# 1. Choose two features\n",
        "# 2. Run this code cell\n",
        "# 3. Interact with the widget sliders\n",
        "feature1 = 'longitude'\n",
        "feature2 = 'quantity'\n",
        "\n",
        "from sklearn.linear_model import LogisticRegression\n",
        "from sklearn.tree import DecisionTreeClassifier\n",
        "\n",
        "def get_X_y(df, feature1, feature2, target):\n",
        "    features = [feature1, feature2]\n",
        "    X = df[features]\n",
        "    y = df[target]\n",
        "    X = X.fillna(X.median())\n",
        "    X = ce.OrdinalEncoder().fit_transform(X)\n",
        "    return X, y\n",
        "\n",
        "def compare_models(max_depth=1, n_estimators=1):\n",
        "    models = [DecisionTreeClassifier(max_depth=max_depth), \n",
        "              RandomForestClassifier(max_depth=max_depth, n_estimators=n_estimators), \n",
        "              LogisticRegression(solver='lbfgs', multi_class='auto')]\n",
        "    \n",
        "    for model in models:\n",
        "        name = model.__class__.__name__\n",
        "        model.fit(X, y)\n",
        "        pred_heatmap(model, X, [feature1, feature2], class_index=0, title=name)\n",
        "\n",
        "X, y = get_X_y(train, feature1, feature2, target='status_group')\n",
        "interact(compare_models, max_depth=(1,6,1), n_estimators=(10,40,10));"
      ],
      "execution_count": null,
      "outputs": [
        {
          "output_type": "display_data",
          "data": {
            "application/vnd.jupyter.widget-view+json": {
              "model_id": "909557cbba4843b8922e665b120f28c0",
              "version_minor": 0,
              "version_major": 2
            },
            "text/plain": [
              "interactive(children=(IntSlider(value=1, description='max_depth', max=6, min=1), IntSlider(value=10, descripti…"
            ]
          },
          "metadata": {
            "tags": []
          }
        }
      ]
    },
    {
      "cell_type": "markdown",
      "metadata": {
        "id": "hOQqjLEDgLVn"
      },
      "source": [
        "### Bagging"
      ]
    },
    {
      "cell_type": "code",
      "metadata": {
        "id": "Hm4aPgs2gLVn",
        "outputId": "810506bd-5e67-41ee-d75c-a8390cfe513a",
        "colab": {
          "base_uri": "https://localhost:8080/",
          "height": 864,
          "referenced_widgets": [
            "4c911c3ca3f04f1580fd55bade2f0068",
            "bf50686e60f04ac58e2be48b1723a75b",
            "afb5b654d37e47b4a740e774332ad567",
            "7a66bfb4a7294b2bb0bb38839ab6cee7",
            "1f34772a8c33404fafa1e3dcf006806a",
            "e8ef707ab98f48ba9170fe4786724b20",
            "a4f412203b1f433888f0d6578d675ea6",
            "1d3c3be8040c4d30b176dd58fcac0cb9",
            "376773f785904747af0da1effabe90b9",
            "0d3159e7499c473c98b96fe6b6945cf2"
          ]
        }
      },
      "source": [
        "# Do-it-yourself Bagging Ensemble of Decision Trees (like a Random Forest)\n",
        "\n",
        "# Instructions\n",
        "# 1. Choose two features\n",
        "# 2. Run this code cell\n",
        "# 3. Interact with the widget sliders\n",
        "\n",
        "feature1 = 'longitude'\n",
        "feature2 = 'latitude'\n",
        "\n",
        "def waterpumps_bagging(max_depth=1, n_estimators=1):\n",
        "    predicteds = []\n",
        "    for i in range(n_estimators):\n",
        "        title = f'Tree {i+1}'\n",
        "        bootstrap_sample = train.sample(n=len(train), replace=True)\n",
        "        X, y = get_X_y(bootstrap_sample, feature1, feature2, target='status_group')\n",
        "        tree = DecisionTreeClassifier(max_depth=max_depth)\n",
        "        tree.fit(X, y)\n",
        "        predicted = pred_heatmap(tree, X, [feature1, feature2], class_index=0, title=title)\n",
        "        predicteds.append(predicted)\n",
        "    \n",
        "    ensembled = np.vstack(predicteds).mean(axis=0)\n",
        "    title = f'Ensemble of {n_estimators} trees, with max_depth={max_depth}'\n",
        "    sns.heatmap(ensembled.reshape(100, 100).T, vmin=0, vmax=1)\n",
        "    plt.title(title)\n",
        "    plt.xlabel(feature1)\n",
        "    plt.ylabel(feature2)\n",
        "    plt.xticks([])\n",
        "    plt.yticks([])\n",
        "    plt.show()\n",
        "        \n",
        "interact(waterpumps_bagging, max_depth=(1,6,1), n_estimators=(2,5,1));"
      ],
      "execution_count": null,
      "outputs": [
        {
          "output_type": "display_data",
          "data": {
            "application/vnd.jupyter.widget-view+json": {
              "model_id": "4c911c3ca3f04f1580fd55bade2f0068",
              "version_minor": 0,
              "version_major": 2
            },
            "text/plain": [
              "interactive(children=(IntSlider(value=1, description='max_depth', max=6, min=1), IntSlider(value=2, descriptio…"
            ]
          },
          "metadata": {
            "tags": []
          }
        }
      ]
    },
    {
      "cell_type": "markdown",
      "metadata": {
        "id": "wYoSBi15akWP"
      },
      "source": [
        "# Review\n",
        "\n",
        "#### Try Tree Ensembles when you do machine learning with labeled, tabular data\n",
        "- \"Tree Ensembles\" means Random Forest or Gradient Boosting models. \n",
        "- [Tree Ensembles often have the best predictive accuracy](https://arxiv.org/abs/1708.05070) with labeled, tabular data.\n",
        "- Why? Because trees can fit non-linear, non-[monotonic](https://en.wikipedia.org/wiki/Monotonic_function) relationships, and [interactions](https://christophm.github.io/interpretable-ml-book/interaction.html) between features.\n",
        "- A single decision tree, grown to unlimited depth, will [overfit](http://www.r2d3.us/visual-intro-to-machine-learning-part-1/). We solve this problem by ensembling trees, with bagging (Random Forest) or boosting (Gradient Boosting).\n",
        "- Random Forest's advantage: may be less sensitive to hyperparameters. Gradient Boosting's advantage: may get better predictive accuracy.\n",
        "\n",
        "#### One-hot encoding isn’t the only way, and may not be the best way, of categorical encoding for tree ensembles.\n",
        "- For example, tree ensembles can work with arbitrary \"ordinal\" encoding! (Randomly assigning an integer to each category.) Compared to one-hot encoding, the dimensionality will be lower, and the predictive accuracy may be just as good or even better.\n"
      ]
    }
  ]
}