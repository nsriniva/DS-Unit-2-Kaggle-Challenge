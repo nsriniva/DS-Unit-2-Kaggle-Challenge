{
  "nbformat": 4,
  "nbformat_minor": 0,
  "metadata": {
    "kernelspec": {
      "display_name": "Python 3",
      "language": "python",
      "name": "python3"
    },
    "language_info": {
      "codemirror_mode": {
        "name": "ipython",
        "version": 3
      },
      "file_extension": ".py",
      "mimetype": "text/x-python",
      "name": "python",
      "nbconvert_exporter": "python",
      "pygments_lexer": "ipython3",
      "version": "3.7.3"
    },
    "colab": {
      "name": "LS_DS_222_assignment.ipynb",
      "provenance": [],
      "include_colab_link": true
    }
  },
  "cells": [
    {
      "cell_type": "markdown",
      "metadata": {
        "id": "view-in-github",
        "colab_type": "text"
      },
      "source": [
        "<a href=\"https://colab.research.google.com/github/nsriniva/DS-Unit-2-Kaggle-Challenge/blob/master/module2-random-forests/LS_DS_222_assignment.ipynb\" target=\"_parent\"><img src=\"https://colab.research.google.com/assets/colab-badge.svg\" alt=\"Open In Colab\"/></a>"
      ]
    },
    {
      "cell_type": "markdown",
      "metadata": {
        "id": "PnsfEbVqIMXo"
      },
      "source": [
        "Lambda School Data Science\n",
        "\n",
        "*Unit 2, Sprint 2, Module 2*\n",
        "\n",
        "---"
      ]
    },
    {
      "cell_type": "markdown",
      "metadata": {
        "id": "7IXUfiQ2UKj6"
      },
      "source": [
        "# Random Forests\n",
        "\n",
        "## Assignment\n",
        "- [ ] Read [“Adopting a Hypothesis-Driven Workflow”](http://archive.is/Nu3EI), a blog post by a Lambda DS student about the Tanzania Waterpumps challenge.\n",
        "- [ ] Continue to participate in our Kaggle challenge.\n",
        "- [ ] Define a function to wrangle train, validate, and test sets in the same way. Clean outliers and engineer features.\n",
        "- [ ] Try Ordinal Encoding.\n",
        "- [ ] Try a Random Forest Classifier.\n",
        "- [ ] Submit your predictions to our Kaggle competition. (Go to our Kaggle InClass competition webpage. Use the blue **Submit Predictions** button to upload your CSV file. Or you can use the Kaggle API to submit your predictions.)\n",
        "- [ ] Commit your notebook to your fork of the GitHub repo.\n",
        "\n",
        "## Stretch Goals\n",
        "\n",
        "### Doing\n",
        "- [ ] Add your own stretch goal(s) !\n",
        "- [ ] Do more exploratory data analysis, data cleaning, feature engineering, and feature selection.\n",
        "- [ ] Try other [categorical encodings](https://contrib.scikit-learn.org/category_encoders/).\n",
        "- [ ] Get and plot your feature importances.\n",
        "- [ ] Make visualizations and share on Slack.\n",
        "\n",
        "### Reading\n",
        "\n",
        "Top recommendations in _**bold italic:**_\n",
        "\n",
        "#### Decision Trees\n",
        "- A Visual Introduction to Machine Learning, [Part 1: A Decision Tree](http://www.r2d3.us/visual-intro-to-machine-learning-part-1/),  and _**[Part 2: Bias and Variance](http://www.r2d3.us/visual-intro-to-machine-learning-part-2/)**_\n",
        "- [Decision Trees: Advantages & Disadvantages](https://christophm.github.io/interpretable-ml-book/tree.html#advantages-2)\n",
        "- [How a Russian mathematician constructed a decision tree — by hand — to solve a medical problem](http://fastml.com/how-a-russian-mathematician-constructed-a-decision-tree-by-hand-to-solve-a-medical-problem/)\n",
        "- [How decision trees work](https://brohrer.github.io/how_decision_trees_work.html)\n",
        "- [Let’s Write a Decision Tree Classifier from Scratch](https://www.youtube.com/watch?v=LDRbO9a6XPU)\n",
        "\n",
        "#### Random Forests\n",
        "- [_An Introduction to Statistical Learning_](http://www-bcf.usc.edu/~gareth/ISL/), Chapter 8: Tree-Based Methods\n",
        "- [Coloring with Random Forests](http://structuringtheunstructured.blogspot.com/2017/11/coloring-with-random-forests.html)\n",
        "- _**[Random Forests for Complete Beginners: The definitive guide to Random Forests and Decision Trees](https://victorzhou.com/blog/intro-to-random-forests/)**_\n",
        "\n",
        "#### Categorical encoding for trees\n",
        "- [Are categorical variables getting lost in your random forests?](https://roamanalytics.com/2016/10/28/are-categorical-variables-getting-lost-in-your-random-forests/)\n",
        "- [Beyond One-Hot: An Exploration of Categorical Variables](http://www.willmcginnis.com/2015/11/29/beyond-one-hot-an-exploration-of-categorical-variables/)\n",
        "- _**[Categorical Features and Encoding in Decision Trees](https://medium.com/data-design/visiting-categorical-features-and-encoding-in-decision-trees-53400fa65931)**_\n",
        "- _**[Coursera — How to Win a Data Science Competition: Learn from Top Kagglers — Concept of mean encoding](https://www.coursera.org/lecture/competitive-data-science/concept-of-mean-encoding-b5Gxv)**_\n",
        "- [Mean (likelihood) encodings: a comprehensive study](https://www.kaggle.com/vprokopev/mean-likelihood-encodings-a-comprehensive-study)\n",
        "- [The Mechanics of Machine Learning, Chapter 6: Categorically Speaking](https://mlbook.explained.ai/catvars.html)\n",
        "\n",
        "#### Imposter Syndrome\n",
        "- [Effort Shock and Reward Shock (How The Karate Kid Ruined The Modern World)](http://www.tempobook.com/2014/07/09/effort-shock-and-reward-shock/)\n",
        "- [How to manage impostor syndrome in data science](https://towardsdatascience.com/how-to-manage-impostor-syndrome-in-data-science-ad814809f068)\n",
        "- [\"I am not a real data scientist\"](https://brohrer.github.io/imposter_syndrome.html)\n",
        "- _**[Imposter Syndrome in Data Science](https://caitlinhudon.com/2018/01/19/imposter-syndrome-in-data-science/)**_\n",
        "\n",
        "\n",
        "### More Categorical Encodings\n",
        "\n",
        "**1.** The article **[Categorical Features and Encoding in Decision Trees](https://medium.com/data-design/visiting-categorical-features-and-encoding-in-decision-trees-53400fa65931)** mentions 4 encodings:\n",
        "\n",
        "- **\"Categorical Encoding\":** This means using the raw categorical values as-is, not encoded. Scikit-learn doesn't support this, but some tree algorithm implementations do. For example, [Catboost](https://catboost.ai/), or R's [rpart](https://cran.r-project.org/web/packages/rpart/index.html) package.\n",
        "- **Numeric Encoding:** Synonymous with Label Encoding, or \"Ordinal\" Encoding with random order. We can use [category_encoders.OrdinalEncoder](https://contrib.scikit-learn.org/category_encoders/ordinal.html).\n",
        "- **One-Hot Encoding:** We can use [category_encoders.OneHotEncoder](https://contrib.scikit-learn.org/category_encoders/onehot.html).\n",
        "- **Binary Encoding:** We can use [category_encoders.BinaryEncoder](https://contrib.scikit-learn.org/category_encoders/binary.html).\n",
        "\n",
        "\n",
        "**2.** The short video \n",
        "**[Coursera — How to Win a Data Science Competition: Learn from Top Kagglers — Concept of mean encoding](https://www.coursera.org/lecture/competitive-data-science/concept-of-mean-encoding-b5Gxv)** introduces an interesting idea: use both X _and_ y to encode categoricals.\n",
        "\n",
        "Category Encoders has multiple implementations of this general concept:\n",
        "\n",
        "- [CatBoost Encoder](https://contrib.scikit-learn.org/category_encoders/catboost.html)\n",
        "- [Generalized Linear Mixed Model Encoder](https://contrib.scikit-learn.org/category_encoders/glmm.html)\n",
        "- [James-Stein Encoder](https://contrib.scikit-learn.org/category_encoders/jamesstein.html)\n",
        "- [Leave One Out](https://contrib.scikit-learn.org/category_encoders/leaveoneout.html)\n",
        "- [M-estimate](https://contrib.scikit-learn.org/category_encoders/mestimate.html)\n",
        "- [Target Encoder](https://contrib.scikit-learn.org/category_encoders/targetencoder.html)\n",
        "- [Weight of Evidence](https://contrib.scikit-learn.org/category_encoders/woe.html)\n",
        "\n",
        "Category Encoder's mean encoding implementations work for regression problems or binary classification problems. \n",
        "\n",
        "For multi-class classification problems, you will need to temporarily reformulate it as binary classification. For example:\n",
        "\n",
        "```python\n",
        "encoder = ce.TargetEncoder(min_samples_leaf=..., smoothing=...) # Both parameters > 1 to avoid overfitting\n",
        "X_train_encoded = encoder.fit_transform(X_train, y_train=='functional')\n",
        "X_val_encoded = encoder.transform(X_train, y_val=='functional')\n",
        "```\n",
        "\n",
        "For this reason, mean encoding won't work well within pipelines for multi-class classification problems.\n",
        "\n",
        "**3.** The **[dirty_cat](https://dirty-cat.github.io/stable/)** library has a Target Encoder implementation that works with multi-class classification.\n",
        "\n",
        "```python\n",
        " dirty_cat.TargetEncoder(clf_type='multiclass-clf')\n",
        "```\n",
        "It also implements an interesting idea called [\"Similarity Encoder\" for dirty categories](https://www.slideshare.net/GaelVaroquaux/machine-learning-on-non-curated-data-154905090).\n",
        "\n",
        "However, it seems like dirty_cat doesn't handle missing values or unknown categories as well as category_encoders does. And you may need to use it with one column at a time, instead of with your whole dataframe.\n",
        "\n",
        "**4. [Embeddings](https://www.kaggle.com/colinmorris/embedding-layers)** can work well with sparse / high cardinality categoricals.\n",
        "\n",
        "_**I hope it’s not too frustrating or confusing that there’s not one “canonical” way to encode categoricals. It’s an active area of research and experimentation — maybe you can make your own contributions!**_"
      ]
    },
    {
      "cell_type": "markdown",
      "metadata": {
        "id": "fU7j0TuWIMXt"
      },
      "source": [
        "### Setup\n",
        "\n",
        "You can work locally (follow the [local setup instructions](https://lambdaschool.github.io/ds/unit2/local/)) or on Colab (run the code cell below)."
      ]
    },
    {
      "cell_type": "code",
      "metadata": {
        "id": "o9eSnDYhUGD7"
      },
      "source": [
        "%%capture\n",
        "%pip install dirty_cat\n",
        "\n",
        "import sys\n",
        "\n",
        "# If you're on Colab:\n",
        "if 'google.colab' in sys.modules:\n",
        "    DATA_PATH = 'https://raw.githubusercontent.com/LambdaSchool/DS-Unit-2-Kaggle-Challenge/master/data/'\n",
        "    !pip install category_encoders==2.*\n",
        "\n",
        "# If you're working locally:\n",
        "else:\n",
        "    DATA_PATH = '../data/'"
      ],
      "execution_count": 1,
      "outputs": []
    },
    {
      "cell_type": "code",
      "metadata": {
        "id": "QJBD4ruICm1m",
        "outputId": "27c9f591-6c42-4933-e4e2-57deb61ee8e9",
        "colab": {
          "base_uri": "https://localhost:8080/"
        }
      },
      "source": [
        "import pandas as pd\n",
        "from sklearn.model_selection import train_test_split\n",
        "\n",
        "train = pd.merge(pd.read_csv(DATA_PATH+'waterpumps/train_features.csv'), \n",
        "                 pd.read_csv(DATA_PATH+'waterpumps/train_labels.csv'))\n",
        "test = pd.read_csv(DATA_PATH+'waterpumps/test_features.csv')\n",
        "sample_submission = pd.read_csv(DATA_PATH+'waterpumps/sample_submission.csv')\n",
        "\n",
        "train = train.set_index('id')\n",
        "test = test.set_index('id')\n",
        "\n",
        "train.shape, test.shape"
      ],
      "execution_count": 2,
      "outputs": [
        {
          "output_type": "execute_result",
          "data": {
            "text/plain": [
              "((59400, 40), (14358, 39))"
            ]
          },
          "metadata": {
            "tags": []
          },
          "execution_count": 2
        }
      ]
    },
    {
      "cell_type": "code",
      "metadata": {
        "id": "1Vi_9NR3j1Uy",
        "outputId": "5546146d-853d-4b08-afda-217425bc8968",
        "colab": {
          "base_uri": "https://localhost:8080/"
        }
      },
      "source": [
        "train.isna().sum()"
      ],
      "execution_count": 3,
      "outputs": [
        {
          "output_type": "execute_result",
          "data": {
            "text/plain": [
              "amount_tsh                   0\n",
              "date_recorded                0\n",
              "funder                    3635\n",
              "gps_height                   0\n",
              "installer                 3655\n",
              "longitude                    0\n",
              "latitude                     0\n",
              "wpt_name                     0\n",
              "num_private                  0\n",
              "basin                        0\n",
              "subvillage                 371\n",
              "region                       0\n",
              "region_code                  0\n",
              "district_code                0\n",
              "lga                          0\n",
              "ward                         0\n",
              "population                   0\n",
              "public_meeting            3334\n",
              "recorded_by                  0\n",
              "scheme_management         3877\n",
              "scheme_name              28166\n",
              "permit                    3056\n",
              "construction_year            0\n",
              "extraction_type              0\n",
              "extraction_type_group        0\n",
              "extraction_type_class        0\n",
              "management                   0\n",
              "management_group             0\n",
              "payment                      0\n",
              "payment_type                 0\n",
              "water_quality                0\n",
              "quality_group                0\n",
              "quantity                     0\n",
              "quantity_group               0\n",
              "source                       0\n",
              "source_type                  0\n",
              "source_class                 0\n",
              "waterpoint_type              0\n",
              "waterpoint_type_group        0\n",
              "status_group                 0\n",
              "dtype: int64"
            ]
          },
          "metadata": {
            "tags": []
          },
          "execution_count": 3
        }
      ]
    },
    {
      "cell_type": "code",
      "metadata": {
        "id": "i2jKMxV8IMX0",
        "outputId": "39c02857-1712-481f-ba05-9cff7ac029d2",
        "colab": {
          "base_uri": "https://localhost:8080/"
        }
      },
      "source": [
        "import numpy as np\n",
        "from geopy.geocoders import Nominatim\n",
        "geolocator = Nominatim(user_agent=\"StudentTest\")\n",
        "\n",
        "\n",
        "# We will use the lat/long for the basin for the missing lat/long\n",
        "# Since the basin is either Lake Victoria or Lake Tanganyika for \n",
        "# the entries with missing lat/long, we set up a dictionary\n",
        "# with the lat/long for those 2 locations\n",
        "# display(out_df[out_df.latitude.isna()].basin.value_counts())\n",
        "# Lake Victoria      1713\n",
        "# Lake Tanganyika      99\n",
        "\n",
        "get_loc = lambda x: geolocator.geocode(x, timeout=20)\n",
        "get_lat_long = lambda x: (get_loc(x).latitude, get_loc(x).longitude)\n",
        "\n",
        "locs = {'Lake Victoria':{'latitude':0, 'longitude':0}, 'Lake Tanganyika':{'latitude':0, 'longitude':0}}\n",
        "\n",
        "for loc in locs:\n",
        "  locs[loc]['latitude'], locs[loc]['longitude'] = get_lat_long(loc)\n",
        "\n",
        "# Looking up the data dictionary at https://www.drivendata.org/competitions/7/pump-it-up-data-mining-the-water-table/page/25/#features_list\n",
        "# Create a list of redundant columns\n",
        "# recorded_by - constant valued\n",
        "# num_private - undefined and mostly zero\n",
        "# extraction_type, extraction_type_group - the same information ia available in extraction_type_class\n",
        "# payment - same as payment_type\n",
        "# water_quality - same as quality_group\n",
        "# quantity - same as quantity_group\n",
        "# source, source_class - same as source_type\n",
        "# waterpoint_type - waterpoint_type_group\n",
        "\n",
        "red_cols = ['recorded_by', 'num_private','extraction_type','extraction_type_group','payment', 'quantity', 'water_quality', 'source', 'source_class', 'waterpoint_type']\n",
        "\n",
        "\n",
        "# Get a series with the cardinality of the nonnumeric features\n",
        "cardinality = train.select_dtypes(exclude='number').nunique()\n",
        "\n",
        "# Get a list of all categorical features with cardinality > 50\n",
        "high_card = cardinality[cardinality > 50].index.tolist()\n",
        "print(high_card)\n",
        "\n",
        "# Columns with missing data \n",
        "#nan_drop = ['public_meeting', 'scheme_management', 'scheme_name','permit', 'funder', 'installer', 'subvillage']\n",
        "\n",
        "nan_drop = ['scheme_name']\n",
        "def wrangle(in_df, drop = nan_drop):\n",
        "\n",
        "  out_df = in_df.drop(columns=drop).copy()\n",
        "\n",
        "  # About 3% of the time, latitude has small values near zero,\n",
        "  # outside Tanzania, so we'll treat these values like zero.\n",
        "  out_df['latitude'] = out_df['latitude'].replace(-2e-08, 0)\n",
        "    \n",
        "  # When columns have zeros and shouldn't, they are like null values.\n",
        "  # A longitude or latitude of zero is outside Tanzania and therefore wrong.\n",
        "  # So we will replace the zeros with nulls, and then fix them by using\n",
        "  # the lat/long for the basin.\n",
        "  latlong = ['longitude', 'latitude']\n",
        "  misc = ['construction_year','population']\n",
        "  for col in latlong+misc:\n",
        "      out_df[col] = out_df[col].replace(0, np.nan)\n",
        "\n",
        "  # Fix missing lat/long values\n",
        "  for col in latlong:\n",
        "    out_df.loc[out_df[col].isna(), col] = out_df[out_df[col].isna()].basin.apply(lambda x: locs[x][col])\n",
        "\n",
        "  # Fix missing construction_year values   \n",
        "  col = 'construction_year'\n",
        "  out_df.loc[out_df[col].isna(), col] = 1955\n",
        "  # Convert date_recorded to datetime\n",
        "  out_df.date_recorded = out_df.date_recorded.astype('datetime64[ns]')\n",
        "    \n",
        "  # Extract components from date_recorded, then drop the original column\n",
        "  out_df['year_recorded'] = out_df.date_recorded.dt.year\n",
        "  out_df['month_recorded'] = out_df.date_recorded.dt.month\n",
        "  out_df['day_recorded'] = out_df.date_recorded.dt.day\n",
        "  out_df = out_df.drop(columns='date_recorded')\n",
        "    \n",
        "  # Engineer feature: how many years from construction_year to date_recorded\n",
        "  out_df['years'] = out_df.year_recorded - out_df.construction_year\n",
        "\n",
        "\n",
        "  print(out_df.isna().sum())\n",
        "  print(out_df.shape)\n",
        "  # return the wrangled dataframe\n",
        "  return out_df"
      ],
      "execution_count": 4,
      "outputs": [
        {
          "output_type": "stream",
          "text": [
            "['date_recorded', 'funder', 'installer', 'wpt_name', 'subvillage', 'lga', 'ward', 'scheme_name']\n"
          ],
          "name": "stdout"
        }
      ]
    },
    {
      "cell_type": "code",
      "metadata": {
        "id": "5dbcx_to9uco"
      },
      "source": [
        ""
      ],
      "execution_count": 4,
      "outputs": []
    },
    {
      "cell_type": "code",
      "metadata": {
        "id": "7De6V1ISlBfS",
        "outputId": "1a21aafc-88fe-4dd0-a938-07ec5caf094e",
        "colab": {
          "base_uri": "https://localhost:8080/"
        }
      },
      "source": [
        "train = wrangle(train)\n",
        "test = wrangle(test)\n",
        "\n"
      ],
      "execution_count": 5,
      "outputs": [
        {
          "output_type": "stream",
          "text": [
            "amount_tsh                   0\n",
            "funder                    3635\n",
            "gps_height                   0\n",
            "installer                 3655\n",
            "longitude                    0\n",
            "latitude                     0\n",
            "wpt_name                     0\n",
            "num_private                  0\n",
            "basin                        0\n",
            "subvillage                 371\n",
            "region                       0\n",
            "region_code                  0\n",
            "district_code                0\n",
            "lga                          0\n",
            "ward                         0\n",
            "population               21381\n",
            "public_meeting            3334\n",
            "recorded_by                  0\n",
            "scheme_management         3877\n",
            "permit                    3056\n",
            "construction_year            0\n",
            "extraction_type              0\n",
            "extraction_type_group        0\n",
            "extraction_type_class        0\n",
            "management                   0\n",
            "management_group             0\n",
            "payment                      0\n",
            "payment_type                 0\n",
            "water_quality                0\n",
            "quality_group                0\n",
            "quantity                     0\n",
            "quantity_group               0\n",
            "source                       0\n",
            "source_type                  0\n",
            "source_class                 0\n",
            "waterpoint_type              0\n",
            "waterpoint_type_group        0\n",
            "status_group                 0\n",
            "year_recorded                0\n",
            "month_recorded               0\n",
            "day_recorded                 0\n",
            "years                        0\n",
            "dtype: int64\n",
            "(59400, 42)\n",
            "amount_tsh                  0\n",
            "funder                    783\n",
            "gps_height                  0\n",
            "installer                 788\n",
            "longitude                   0\n",
            "latitude                    0\n",
            "wpt_name                    0\n",
            "num_private                 0\n",
            "basin                       0\n",
            "subvillage                 94\n",
            "region                      0\n",
            "region_code                 0\n",
            "district_code               0\n",
            "lga                         0\n",
            "ward                        0\n",
            "population               5205\n",
            "public_meeting            785\n",
            "recorded_by                 0\n",
            "scheme_management         939\n",
            "permit                    663\n",
            "construction_year           0\n",
            "extraction_type             0\n",
            "extraction_type_group       0\n",
            "extraction_type_class       0\n",
            "management                  0\n",
            "management_group            0\n",
            "payment                     0\n",
            "payment_type                0\n",
            "water_quality               0\n",
            "quality_group               0\n",
            "quantity                    0\n",
            "quantity_group              0\n",
            "source                      0\n",
            "source_type                 0\n",
            "source_class                0\n",
            "waterpoint_type             0\n",
            "waterpoint_type_group       0\n",
            "year_recorded               0\n",
            "month_recorded              0\n",
            "day_recorded                0\n",
            "years                       0\n",
            "dtype: int64\n",
            "(14358, 41)\n"
          ],
          "name": "stdout"
        }
      ]
    },
    {
      "cell_type": "code",
      "metadata": {
        "id": "2TjQKONkoZh2"
      },
      "source": [
        "target = 'status_group'\n",
        "\n",
        "X = train.drop(columns=[target]).copy()\n",
        "y = train[target].copy()"
      ],
      "execution_count": 6,
      "outputs": []
    },
    {
      "cell_type": "code",
      "metadata": {
        "id": "jY-Eatq0o4FG"
      },
      "source": [
        "from sklearn.model_selection import train_test_split\n",
        "\n",
        "# YOUR CODE HERE\n",
        "\n",
        "X_train, X_val, y_train, y_val = train_test_split(X,y,train_size=0.8, random_state=42)\n"
      ],
      "execution_count": 7,
      "outputs": []
    },
    {
      "cell_type": "code",
      "metadata": {
        "id": "D8717fMYpIcQ",
        "outputId": "47c45cdd-7655-4bcb-8465-60e2d5348343",
        "colab": {
          "base_uri": "https://localhost:8080/"
        }
      },
      "source": [
        "baseline_acc = y_train.value_counts(normalize=True)[0]\n",
        "\n",
        "print('Baseline Accuracy:', baseline_acc)"
      ],
      "execution_count": 8,
      "outputs": [
        {
          "output_type": "stream",
          "text": [
            "Baseline Accuracy: 0.5429713804713805\n"
          ],
          "name": "stdout"
        }
      ]
    },
    {
      "cell_type": "code",
      "metadata": {
        "id": "oPn1TscCpM13",
        "outputId": "08f634cd-0a09-4fbb-f519-ce3c6bf02373",
        "colab": {
          "base_uri": "https://localhost:8080/"
        }
      },
      "source": [
        "%%time \n",
        "\n",
        "from category_encoders import OrdinalEncoder, OneHotEncoder\n",
        "from category_encoders.glmm import GLMMEncoder\n",
        "from category_encoders.target_encoder import TargetEncoder\n",
        "from sklearn.impute import SimpleImputer\n",
        "from sklearn.preprocessing import StandardScaler, LabelEncoder\n",
        "from sklearn.pipeline import make_pipeline\n",
        "from sklearn.tree import DecisionTreeClassifier\n",
        "from sklearn.ensemble import RandomForestClassifier\n",
        "\n",
        "# YOUR CODE HERE\n",
        "\n",
        "model = make_pipeline(\n",
        "  OrdinalEncoder(), \n",
        "  SimpleImputer(),\n",
        "  RandomForestClassifier(random_state=0,n_jobs=-1, max_depth=25, min_samples_leaf=2, n_estimators=137, max_features=0.25)\n",
        ")\n",
        "\n",
        "\n",
        "model.fit(X_train, y_train)\n",
        "\n",
        "training_acc =  model.score(X_train, y_train)\n",
        "validation_acc =  model.score(X_val, y_val)\n",
        "\n",
        "\n",
        "print('Training Accuracy:', training_acc)\n",
        "print('Validation Accuracy:', validation_acc)"
      ],
      "execution_count": 95,
      "outputs": [
        {
          "output_type": "stream",
          "text": [
            "Training Accuracy: 0.9531144781144781\n",
            "Validation Accuracy: 0.8162457912457912\n",
            "CPU times: user 41.7 s, sys: 361 ms, total: 42.1 s\n",
            "Wall time: 22.3 s\n"
          ],
          "name": "stdout"
        }
      ]
    },
    {
      "cell_type": "code",
      "metadata": {
        "id": "FG4-kfv5MQ-f"
      },
      "source": [
        ""
      ],
      "execution_count": null,
      "outputs": []
    },
    {
      "cell_type": "code",
      "metadata": {
        "id": "fykYgZSbJGSV"
      },
      "source": [
        ""
      ],
      "execution_count": 9,
      "outputs": []
    },
    {
      "cell_type": "code",
      "metadata": {
        "id": "zObjUPtFyFHS",
        "outputId": "872392d8-736f-4fac-e355-d4cc2a094f07",
        "colab": {
          "base_uri": "https://localhost:8080/",
          "height": 235
        }
      },
      "source": [
        "y_pred = model.predict(test)\n",
        "\n",
        "submission = pd.DataFrame(index=test.index)\n",
        "submission['status_group'] = y_pred\n",
        "\n",
        "submission.head()"
      ],
      "execution_count": 10,
      "outputs": [
        {
          "output_type": "execute_result",
          "data": {
            "text/html": [
              "<div>\n",
              "<style scoped>\n",
              "    .dataframe tbody tr th:only-of-type {\n",
              "        vertical-align: middle;\n",
              "    }\n",
              "\n",
              "    .dataframe tbody tr th {\n",
              "        vertical-align: top;\n",
              "    }\n",
              "\n",
              "    .dataframe thead th {\n",
              "        text-align: right;\n",
              "    }\n",
              "</style>\n",
              "<table border=\"1\" class=\"dataframe\">\n",
              "  <thead>\n",
              "    <tr style=\"text-align: right;\">\n",
              "      <th></th>\n",
              "      <th>status_group</th>\n",
              "    </tr>\n",
              "    <tr>\n",
              "      <th>id</th>\n",
              "      <th></th>\n",
              "    </tr>\n",
              "  </thead>\n",
              "  <tbody>\n",
              "    <tr>\n",
              "      <th>50785</th>\n",
              "      <td>functional</td>\n",
              "    </tr>\n",
              "    <tr>\n",
              "      <th>51630</th>\n",
              "      <td>functional</td>\n",
              "    </tr>\n",
              "    <tr>\n",
              "      <th>17168</th>\n",
              "      <td>functional</td>\n",
              "    </tr>\n",
              "    <tr>\n",
              "      <th>45559</th>\n",
              "      <td>non functional</td>\n",
              "    </tr>\n",
              "    <tr>\n",
              "      <th>49871</th>\n",
              "      <td>functional</td>\n",
              "    </tr>\n",
              "  </tbody>\n",
              "</table>\n",
              "</div>"
            ],
            "text/plain": [
              "         status_group\n",
              "id                   \n",
              "50785      functional\n",
              "51630      functional\n",
              "17168      functional\n",
              "45559  non functional\n",
              "49871      functional"
            ]
          },
          "metadata": {
            "tags": []
          },
          "execution_count": 10
        }
      ]
    },
    {
      "cell_type": "code",
      "metadata": {
        "id": "IGTiGmsWyWLb",
        "outputId": "b51e2a86-98dd-422c-9702-40aca16d486e",
        "colab": {
          "base_uri": "https://localhost:8080/",
          "height": 17
        }
      },
      "source": [
        "submission.to_csv('kaggle_10.csv')\n",
        "\n",
        "from google.colab import files\n",
        "files.download('kaggle_10.csv')"
      ],
      "execution_count": 11,
      "outputs": [
        {
          "output_type": "display_data",
          "data": {
            "application/javascript": [
              "\n",
              "    async function download(id, filename, size) {\n",
              "      if (!google.colab.kernel.accessAllowed) {\n",
              "        return;\n",
              "      }\n",
              "      const div = document.createElement('div');\n",
              "      const label = document.createElement('label');\n",
              "      label.textContent = `Downloading \"${filename}\": `;\n",
              "      div.appendChild(label);\n",
              "      const progress = document.createElement('progress');\n",
              "      progress.max = size;\n",
              "      div.appendChild(progress);\n",
              "      document.body.appendChild(div);\n",
              "\n",
              "      const buffers = [];\n",
              "      let downloaded = 0;\n",
              "\n",
              "      const channel = await google.colab.kernel.comms.open(id);\n",
              "      // Send a message to notify the kernel that we're ready.\n",
              "      channel.send({})\n",
              "\n",
              "      for await (const message of channel.messages) {\n",
              "        // Send a message to notify the kernel that we're ready.\n",
              "        channel.send({})\n",
              "        if (message.buffers) {\n",
              "          for (const buffer of message.buffers) {\n",
              "            buffers.push(buffer);\n",
              "            downloaded += buffer.byteLength;\n",
              "            progress.value = downloaded;\n",
              "          }\n",
              "        }\n",
              "      }\n",
              "      const blob = new Blob(buffers, {type: 'application/binary'});\n",
              "      const a = document.createElement('a');\n",
              "      a.href = window.URL.createObjectURL(blob);\n",
              "      a.download = filename;\n",
              "      div.appendChild(a);\n",
              "      a.click();\n",
              "      div.remove();\n",
              "    }\n",
              "  "
            ],
            "text/plain": [
              "<IPython.core.display.Javascript object>"
            ]
          },
          "metadata": {
            "tags": []
          }
        },
        {
          "output_type": "display_data",
          "data": {
            "application/javascript": [
              "download(\"download_5c2a3731-7b0d-4dee-8fb1-a8c6142ec75b\", \"kaggle_10.csv\", 268318)"
            ],
            "text/plain": [
              "<IPython.core.display.Javascript object>"
            ]
          },
          "metadata": {
            "tags": []
          }
        }
      ]
    },
    {
      "cell_type": "code",
      "metadata": {
        "id": "oPqcCSFV0riN",
        "outputId": "37870c51-bff3-4e94-bea1-05b4879184c8",
        "colab": {
          "base_uri": "https://localhost:8080/",
          "height": 1000
        }
      },
      "source": [
        "import matplotlib.pyplot as plt\n",
        "\n",
        "# YOUR CODE HERE\n",
        "classifier = model.named_steps['randomforestclassifier']\n",
        "\n",
        "print(len(classifier.estimators_))\n",
        "columns = X_val.columns\n",
        "importances = pd.Series(classifier.feature_importances_, columns)\n",
        "plt.figure(figsize=(10,30))\n",
        "importances.sort_values().plot.barh()"
      ],
      "execution_count": 12,
      "outputs": [
        {
          "output_type": "stream",
          "text": [
            "101\n"
          ],
          "name": "stdout"
        },
        {
          "output_type": "execute_result",
          "data": {
            "text/plain": [
              "<matplotlib.axes._subplots.AxesSubplot at 0x7f4691e1e748>"
            ]
          },
          "metadata": {
            "tags": []
          },
          "execution_count": 12
        },
        {
          "output_type": "display_data",
          "data": {
            "image/png": "[encoded data removed]",
            "text/plain": [
              "<Figure size 720x2160 with 1 Axes>"
            ]
          },
          "metadata": {
            "tags": [],
            "needs_background": "light"
          }
        }
      ]
    }
  ]
}